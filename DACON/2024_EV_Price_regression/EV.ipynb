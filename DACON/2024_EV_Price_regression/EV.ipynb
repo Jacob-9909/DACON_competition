{
 "cells": [
  {
   "cell_type": "code",
   "execution_count": 91,
   "metadata": {
    "executionInfo": {
     "elapsed": 1130,
     "status": "ok",
     "timestamp": 1709629469115,
     "user": {
      "displayName": "김주성",
      "userId": "15933598741412346521"
     },
     "user_tz": -540
    },
    "id": "faAF5T4zir2v"
   },
   "outputs": [],
   "source": [
    "import numpy as np\n",
    "import random\n",
    "import os\n",
    "import pandas as pd\n",
    "from catboost import CatBoostRegressor, Pool\n",
    "from sklearn.metrics import root_mean_squared_error\n",
    "from sklearn.model_selection import RandomizedSearchCV, train_test_split\n",
    "from sklearn.model_selection import KFold\n",
    "import lightgbm as lgb\n",
    "from category_encoders import TargetEncoder\n",
    "\n",
    "def seed_everything(seed):\n",
    "    random.seed(seed)\n",
    "    os.environ['PYTHONHASHSEED'] = str(seed)\n",
    "    np.random.seed(seed)\n",
    "\n",
    "seed=42\n",
    "seed_everything(seed) # Seed 고정"
   ]
  },
  {
   "cell_type": "markdown",
   "metadata": {
    "id": "VdUvCXrvjZGJ"
   },
   "source": [
    "#### 데이터 불러오기 및 전처리"
   ]
  },
  {
   "cell_type": "code",
   "execution_count": 92,
   "metadata": {
    "executionInfo": {
     "elapsed": 4889,
     "status": "ok",
     "timestamp": 1709629474002,
     "user": {
      "displayName": "김주성",
      "userId": "15933598741412346521"
     },
     "user_tz": -540
    },
    "id": "Zjd8vU7BitoE"
   },
   "outputs": [],
   "source": [
    "train = pd.read_csv('train.csv')\n",
    "test = pd.read_csv('test.csv')"
   ]
  },
  {
   "cell_type": "code",
   "execution_count": 93,
   "metadata": {},
   "outputs": [
    {
     "data": {
      "text/html": [
       "<div>\n",
       "<style scoped>\n",
       "    .dataframe tbody tr th:only-of-type {\n",
       "        vertical-align: middle;\n",
       "    }\n",
       "\n",
       "    .dataframe tbody tr th {\n",
       "        vertical-align: top;\n",
       "    }\n",
       "\n",
       "    .dataframe thead th {\n",
       "        text-align: right;\n",
       "    }\n",
       "</style>\n",
       "<table border=\"1\" class=\"dataframe\">\n",
       "  <thead>\n",
       "    <tr style=\"text-align: right;\">\n",
       "      <th></th>\n",
       "      <th>ID</th>\n",
       "      <th>제조사</th>\n",
       "      <th>모델</th>\n",
       "      <th>차량상태</th>\n",
       "      <th>배터리용량</th>\n",
       "      <th>구동방식</th>\n",
       "      <th>주행거리(km)</th>\n",
       "      <th>보증기간(년)</th>\n",
       "      <th>사고이력</th>\n",
       "      <th>연식(년)</th>\n",
       "      <th>가격(백만원)</th>\n",
       "    </tr>\n",
       "  </thead>\n",
       "  <tbody>\n",
       "    <tr>\n",
       "      <th>0</th>\n",
       "      <td>TRAIN_0000</td>\n",
       "      <td>P사</td>\n",
       "      <td>TayGTS</td>\n",
       "      <td>Nearly New</td>\n",
       "      <td>86.077</td>\n",
       "      <td>AWD</td>\n",
       "      <td>13642</td>\n",
       "      <td>0</td>\n",
       "      <td>No</td>\n",
       "      <td>2</td>\n",
       "      <td>159.66</td>\n",
       "    </tr>\n",
       "    <tr>\n",
       "      <th>1</th>\n",
       "      <td>TRAIN_0001</td>\n",
       "      <td>K사</td>\n",
       "      <td>Niro</td>\n",
       "      <td>Nearly New</td>\n",
       "      <td>56.000</td>\n",
       "      <td>FWD</td>\n",
       "      <td>10199</td>\n",
       "      <td>6</td>\n",
       "      <td>No</td>\n",
       "      <td>0</td>\n",
       "      <td>28.01</td>\n",
       "    </tr>\n",
       "    <tr>\n",
       "      <th>2</th>\n",
       "      <td>TRAIN_0002</td>\n",
       "      <td>A사</td>\n",
       "      <td>eT</td>\n",
       "      <td>Brand New</td>\n",
       "      <td>91.200</td>\n",
       "      <td>AWD</td>\n",
       "      <td>2361</td>\n",
       "      <td>7</td>\n",
       "      <td>No</td>\n",
       "      <td>0</td>\n",
       "      <td>66.27</td>\n",
       "    </tr>\n",
       "    <tr>\n",
       "      <th>3</th>\n",
       "      <td>TRAIN_0003</td>\n",
       "      <td>A사</td>\n",
       "      <td>RSeTGT</td>\n",
       "      <td>Nearly New</td>\n",
       "      <td>NaN</td>\n",
       "      <td>AWD</td>\n",
       "      <td>21683</td>\n",
       "      <td>3</td>\n",
       "      <td>No</td>\n",
       "      <td>0</td>\n",
       "      <td>99.16</td>\n",
       "    </tr>\n",
       "    <tr>\n",
       "      <th>4</th>\n",
       "      <td>TRAIN_0004</td>\n",
       "      <td>B사</td>\n",
       "      <td>i5</td>\n",
       "      <td>Pre-Owned</td>\n",
       "      <td>61.018</td>\n",
       "      <td>AWD</td>\n",
       "      <td>178205</td>\n",
       "      <td>1</td>\n",
       "      <td>No</td>\n",
       "      <td>0</td>\n",
       "      <td>62.02</td>\n",
       "    </tr>\n",
       "  </tbody>\n",
       "</table>\n",
       "</div>"
      ],
      "text/plain": [
       "           ID 제조사      모델        차량상태   배터리용량 구동방식  주행거리(km)  보증기간(년) 사고이력  \\\n",
       "0  TRAIN_0000  P사  TayGTS  Nearly New  86.077  AWD     13642        0   No   \n",
       "1  TRAIN_0001  K사    Niro  Nearly New  56.000  FWD     10199        6   No   \n",
       "2  TRAIN_0002  A사      eT   Brand New  91.200  AWD      2361        7   No   \n",
       "3  TRAIN_0003  A사  RSeTGT  Nearly New     NaN  AWD     21683        3   No   \n",
       "4  TRAIN_0004  B사      i5   Pre-Owned  61.018  AWD    178205        1   No   \n",
       "\n",
       "   연식(년)  가격(백만원)  \n",
       "0      2   159.66  \n",
       "1      0    28.01  \n",
       "2      0    66.27  \n",
       "3      0    99.16  \n",
       "4      0    62.02  "
      ]
     },
     "execution_count": 93,
     "metadata": {},
     "output_type": "execute_result"
    }
   ],
   "source": [
    "train.head()"
   ]
  },
  {
   "cell_type": "code",
   "execution_count": 94,
   "metadata": {},
   "outputs": [],
   "source": [
    "# 1. 훈련 데이터에서 배터리용량 평균 계산\n",
    "# '구동방식'을 그룹으로 사용하여 배터리용량 평균 계산\n",
    "battery_mean_by_drive = train.groupby('구동방식')['배터리용량'].mean()\n",
    "train['배터리_용량_구동방식_평균'] = train['구동방식'].map(battery_mean_by_drive)\n",
    "\n",
    "# 2. 테스트 데이터에 매핑\n",
    "# '구동방식'에 따라 배터리용량 평균값을 추가\n",
    "test['배터리_용량_구동방식_평균'] = test['구동방식'].map(battery_mean_by_drive)\n",
    "\n",
    "# 3. 훈련 데이터와 테스트 데이터 결측치 처리\n",
    "# 테스트 데이터에 없는 구동방식의 결측값은 전체 평균으로 대체\n",
    "global_battery_mean = train['배터리용량'].mean()\n",
    "test['배터리_용량_구동방식_평균'].fillna(global_battery_mean, inplace=True)"
   ]
  },
  {
   "cell_type": "code",
   "execution_count": 95,
   "metadata": {},
   "outputs": [],
   "source": [
    "train = train.drop('ID',axis=1)\n",
    "test = test.drop('ID',axis=1)"
   ]
  },
  {
   "cell_type": "markdown",
   "metadata": {},
   "source": [
    "### train 전처리"
   ]
  },
  {
   "cell_type": "code",
   "execution_count": 96,
   "metadata": {},
   "outputs": [],
   "source": [
    "# 결측값을 각 열의 평균으로 대체\n",
    "# train['배터리용량'] = train.groupby(['제조사', '모델'])['배터리용량'].transform(\n",
    "#     lambda x: x.fillna(x.mean()))\n",
    "# 남은 결측치는 전체 평균값으로 대체\n",
    "# train['배터리용량'].fillna(train['배터리용량'].median(), inplace=True)\n",
    "# train['로그_주행거리'] = np.log1p(train['주행거리(km)'])\n",
    "\n",
    "# # 1. 훈련 데이터에 타겟 인코딩 적용\n",
    "# target_encoder = TargetEncoder(cols=['배터리용량'])\n",
    "# train['배터리용량_타겟'] = target_encoder.fit_transform(train['배터리용량'], train['가격(백만원)'])"
   ]
  },
  {
   "cell_type": "markdown",
   "metadata": {},
   "source": [
    "### test 전처리"
   ]
  },
  {
   "cell_type": "code",
   "execution_count": 97,
   "metadata": {},
   "outputs": [],
   "source": [
    "# 결측값을 각 열의 평균으로 대체\n",
    "# test['배터리용량'] = test.groupby(['제조사', '모델'])['배터리용량'].transform(\n",
    "#     lambda x: x.fillna(x.mean()))\n",
    "# 남은 결측치는 전체 평균값으로 대체\n",
    "# test['배터리용량'].fillna(test['배터리용량'].median(), inplace=True)\n",
    "# test['로그_주행거리'] = np.log1p(test['주행거리(km)'])\n",
    "\n",
    "\n",
    "# 2. 테스트 데이터에도 같은 매핑 값 적용\n",
    "# 테스트 데이터는 따로 로드된다고 가정\n",
    "# test['배터리용량_타겟'] = target_encoder.transform(test['배터리용량'])"
   ]
  },
  {
   "cell_type": "markdown",
   "metadata": {},
   "source": [
    "<!-- --- -->"
   ]
  },
  {
   "cell_type": "markdown",
   "metadata": {},
   "source": [
    "### category 화"
   ]
  },
  {
   "cell_type": "code",
   "execution_count": 98,
   "metadata": {
    "executionInfo": {
     "elapsed": 949,
     "status": "ok",
     "timestamp": 1709629478160,
     "user": {
      "displayName": "김주성",
      "userId": "15933598741412346521"
     },
     "user_tz": -540
    },
    "id": "ZD7D49Rii5Zu"
   },
   "outputs": [],
   "source": [
    "categorical_features = [\n",
    "    '제조사'\n",
    "    ,'모델'\n",
    "    ,'차량상태'\n",
    "    ,'구동방식'\n",
    "    ,'사고이력'\n",
    "]\n",
    "for i in categorical_features:\n",
    "    train[i] = train[i].astype('category')\n",
    "    test[i] = test[i].astype('category')\n",
    "    \n",
    "target= train['가격(백만원)']\n",
    "train = train.drop('가격(백만원)', axis=1)"
   ]
  },
  {
   "cell_type": "code",
   "execution_count": 99,
   "metadata": {
    "executionInfo": {
     "elapsed": 6,
     "status": "ok",
     "timestamp": 1709629478659,
     "user": {
      "displayName": "김주성",
      "userId": "15933598741412346521"
     },
     "user_tz": -540
    },
    "id": "n7EodujAOkz4"
   },
   "outputs": [],
   "source": [
    "train_X, valid_X, train_y, valid_y = train_test_split(train, target, test_size=0.2, random_state=seed)"
   ]
  },
  {
   "cell_type": "markdown",
   "metadata": {
    "id": "sNqmzG8JABjH"
   },
   "source": [
    "##### lgbm\n",
    "\n"
   ]
  },
  {
   "cell_type": "code",
   "execution_count": 100,
   "metadata": {},
   "outputs": [
    {
     "name": "stdout",
     "output_type": "stream",
     "text": [
      "Fitting 10 folds for each of 500 candidates, totalling 5000 fits\n",
      "[LightGBM] [Warning] min_data_in_leaf is set=1, min_child_samples=20 will be ignored. Current value: min_data_in_leaf=1\n",
      "[LightGBM] [Warning] feature_fraction is set=0.7999999999999999, colsample_bytree=1.0 will be ignored. Current value: feature_fraction=0.7999999999999999\n",
      "[LightGBM] [Warning] bagging_fraction is set=0.7, subsample=1.0 will be ignored. Current value: bagging_fraction=0.7\n",
      "[LightGBM] [Warning] min_data_in_leaf is set=1, min_child_samples=20 will be ignored. Current value: min_data_in_leaf=1\n",
      "[LightGBM] [Warning] feature_fraction is set=0.7999999999999999, colsample_bytree=1.0 will be ignored. Current value: feature_fraction=0.7999999999999999\n",
      "[LightGBM] [Warning] bagging_fraction is set=0.7, subsample=1.0 will be ignored. Current value: bagging_fraction=0.7\n",
      "[LightGBM] [Info] Total Bins 413\n",
      "[LightGBM] [Info] Number of data points in the train set: 5997, number of used features: 10\n",
      "[LightGBM] [Info] Start training from score 62.221487\n",
      "[LightGBM] [Warning] No further splits with positive gain, best gain: -inf\n",
      "[LightGBM] [Warning] No further splits with positive gain, best gain: -inf\n",
      "[LightGBM] [Warning] No further splits with positive gain, best gain: -inf\n",
      "[LightGBM] [Warning] No further splits with positive gain, best gain: -inf\n",
      "[LightGBM] [Warning] No further splits with positive gain, best gain: -inf\n",
      "[LightGBM] [Warning] No further splits with positive gain, best gain: -inf\n",
      "최적 하이퍼파라미터: {'num_leaves': 15, 'n_estimators': 100, 'min_split_gain': 0.0, 'min_data_in_leaf': 1, 'max_depth': 4, 'learning_rate': 0.23, 'feature_fraction': 0.7999999999999999, 'bagging_fraction': 0.7}\n",
      "[LightGBM] [Warning] min_data_in_leaf is set=1, min_child_samples=20 will be ignored. Current value: min_data_in_leaf=1\n",
      "[LightGBM] [Warning] feature_fraction is set=0.7999999999999999, colsample_bytree=1.0 will be ignored. Current value: feature_fraction=0.7999999999999999\n",
      "[LightGBM] [Warning] bagging_fraction is set=0.7, subsample=1.0 will be ignored. Current value: bagging_fraction=0.7\n",
      "테스트 데이터 RMSE: 1.4579\n"
     ]
    }
   ],
   "source": [
    "# LightGBM 모델 정의\n",
    "lgb_model = lgb.LGBMRegressor(force_row_wise=True, random_state=42)\n",
    "\n",
    "# 랜덤 서치 하이퍼파라미터 공간 정의\n",
    "param_dist = {\n",
    "    'num_leaves': np.arange(5, 31, 5).tolist(),          # 리프 수 감소\n",
    "    'learning_rate': np.arange(0.01, 0.5, 0.01).tolist(),# 학습 속도 줄임\n",
    "    'n_estimators': np.arange(50, 301, 50).tolist(),     # 더 많은 부스팅 라운드\n",
    "    'max_depth': [2, 4, 8, 16],                          # 깊이 제한 완화\n",
    "    'min_data_in_leaf': np.arange(1, 11, 2).tolist(),    # 리프의 최소 데이터 수 감소\n",
    "    'min_split_gain': np.arange(0.0, 0.05, 0.01).tolist(), # 최소 분할 이득\n",
    "    'bagging_fraction': np.arange(0.7, 1.0, 0.1).tolist(), # 데이터 샘플링\n",
    "    'feature_fraction': np.arange(0.7, 1.0, 0.1).tolist() # 피처 샘플링\n",
    "}\n",
    "\n",
    "# 랜덤 서치 객체 생성\n",
    "random_search = RandomizedSearchCV(\n",
    "    estimator=lgb_model,\n",
    "    param_distributions=param_dist,\n",
    "    n_iter=500,  # 랜덤 샘플링 횟수\n",
    "    scoring='neg_root_mean_squared_error',  # 평가 지표\n",
    "    cv=10,  # 교차 검증 폴드 수\n",
    "    verbose=1,\n",
    "    random_state=42,\n",
    "    n_jobs=-1  # 병렬 처리\n",
    ")\n",
    "\n",
    "# 랜덤 서치 실행\n",
    "random_search.fit(train_X, train_y, categorical_feature=categorical_features)\n",
    "\n",
    "# 최적의 하이퍼파라미터 출력\n",
    "print(\"최적 하이퍼파라미터:\", random_search.best_params_)\n",
    "\n",
    "# 최적 모델로 테스트 데이터 예측\n",
    "best_model = random_search.best_estimator_\n",
    "y_pred = best_model.predict(valid_X)\n",
    "\n",
    "# RMSE 계산\n",
    "rmse = root_mean_squared_error(valid_y, y_pred)\n",
    "print(f\"테스트 데이터 RMSE: {rmse:.4f}\")"
   ]
  },
  {
   "cell_type": "markdown",
   "metadata": {
    "id": "Zo6lSuWhjmpw"
   },
   "source": [
    "#### 예측값 출력"
   ]
  },
  {
   "cell_type": "code",
   "execution_count": 101,
   "metadata": {
    "id": "OS9V5mUii9sa"
   },
   "outputs": [
    {
     "name": "stdout",
     "output_type": "stream",
     "text": [
      "[LightGBM] [Warning] min_data_in_leaf is set=1, min_child_samples=20 will be ignored. Current value: min_data_in_leaf=1\n",
      "[LightGBM] [Warning] feature_fraction is set=0.7999999999999999, colsample_bytree=1.0 will be ignored. Current value: feature_fraction=0.7999999999999999\n",
      "[LightGBM] [Warning] bagging_fraction is set=0.7, subsample=1.0 will be ignored. Current value: bagging_fraction=0.7\n"
     ]
    }
   ],
   "source": [
    "pred = best_model.predict(test)"
   ]
  },
  {
   "cell_type": "code",
   "execution_count": 102,
   "metadata": {
    "id": "M5nHAD64i_nQ"
   },
   "outputs": [],
   "source": [
    "submit = pd.read_csv('sample_submission.csv')\n",
    "submit['가격(백만원)'] = pred"
   ]
  },
  {
   "cell_type": "code",
   "execution_count": 103,
   "metadata": {
    "id": "9jhgaVCcjCb-"
   },
   "outputs": [],
   "source": [
    "import datetime\n",
    "now = datetime.datetime.now()\n",
    "formatted_time = now.strftime(\"%Y%m%d_%H%M\")  \n",
    "file_path = f\"submission_{formatted_time}.csv\"\n",
    "submit.to_csv(file_path, index=False)"
   ]
  }
 ],
 "metadata": {
  "colab": {
   "authorship_tag": "ABX9TyPtXI13uHfeEbYg576gwwy8",
   "provenance": []
  },
  "kernelspec": {
   "display_name": "base",
   "language": "python",
   "name": "python3"
  },
  "language_info": {
   "codemirror_mode": {
    "name": "ipython",
    "version": 3
   },
   "file_extension": ".py",
   "mimetype": "text/x-python",
   "name": "python",
   "nbconvert_exporter": "python",
   "pygments_lexer": "ipython3",
   "version": "3.11.5"
  }
 },
 "nbformat": 4,
 "nbformat_minor": 0
}
