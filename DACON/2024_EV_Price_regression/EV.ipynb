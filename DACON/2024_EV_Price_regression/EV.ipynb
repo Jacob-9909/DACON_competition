{
 "cells": [
  {
   "cell_type": "code",
   "execution_count": 1,
   "metadata": {
    "executionInfo": {
     "elapsed": 1130,
     "status": "ok",
     "timestamp": 1709629469115,
     "user": {
      "displayName": "김주성",
      "userId": "15933598741412346521"
     },
     "user_tz": -540
    },
    "id": "faAF5T4zir2v"
   },
   "outputs": [],
   "source": [
    "import numpy as np\n",
    "import random\n",
    "import os\n",
    "import pandas as pd\n",
    "from catboost import CatBoostRegressor, Pool\n",
    "from sklearn.metrics import root_mean_squared_error\n",
    "from sklearn.model_selection import train_test_split\n",
    "from sklearn.model_selection import KFold\n",
    "\n",
    "def seed_everything(seed):\n",
    "    random.seed(seed)\n",
    "    os.environ['PYTHONHASHSEED'] = str(seed)\n",
    "    np.random.seed(seed)\n",
    "\n",
    "seed=42\n",
    "seed_everything(seed) # Seed 고정"
   ]
  },
  {
   "cell_type": "markdown",
   "metadata": {
    "id": "VdUvCXrvjZGJ"
   },
   "source": [
    "#### 데이터 불러오기 및 전처리"
   ]
  },
  {
   "cell_type": "code",
   "execution_count": 2,
   "metadata": {
    "executionInfo": {
     "elapsed": 4889,
     "status": "ok",
     "timestamp": 1709629474002,
     "user": {
      "displayName": "김주성",
      "userId": "15933598741412346521"
     },
     "user_tz": -540
    },
    "id": "Zjd8vU7BitoE"
   },
   "outputs": [],
   "source": [
    "train = pd.read_csv('train.csv')\n",
    "test = pd.read_csv('test.csv')"
   ]
  },
  {
   "cell_type": "code",
   "execution_count": 3,
   "metadata": {},
   "outputs": [],
   "source": [
    "train = train.drop('ID',axis=1)\n",
    "test = test.drop('ID',axis=1)"
   ]
  },
  {
   "cell_type": "code",
   "execution_count": 4,
   "metadata": {},
   "outputs": [
    {
     "name": "stdout",
     "output_type": "stream",
     "text": [
      "Cross-Validation RMSE Scores: [1.936261154582396, 1.9594501199208065, 1.761134873467221, 1.8639205143160407, 2.1763778290068974]\n",
      "Mean RMSE: 1.94\n"
     ]
    }
   ],
   "source": [
    "# 1. 데이터 준비\n",
    "data_with_battery = train.dropna(subset=['배터리용량']).copy()  # 명시적으로 복사\n",
    "data_missing_battery = train[train['배터리용량'].isnull()].copy()  # 명시적으로 복사\n",
    "features = ['제조사', '모델', '차량상태', '가격(백만원)', '연식(년)', '보증기간(년)']\n",
    "categorical_features = ['제조사', '모델', '차량상태']\n",
    "\n",
    "# 범주형 변수를 문자열로 변환\n",
    "for col in categorical_features:\n",
    "    data_with_battery[col] = data_with_battery[col].astype(str)\n",
    "    data_missing_battery[col] = data_missing_battery[col].astype(str)\n",
    "\n",
    "X = data_with_battery[features]\n",
    "y = data_with_battery['배터리용량']\n",
    "\n",
    "# 2. K-Fold Cross-validation\n",
    "kf = KFold(n_splits=5, shuffle=True, random_state=42)\n",
    "rmse_scores = []\n",
    "\n",
    "for train_index, test_index in kf.split(X):\n",
    "    X_train, X_test = X.iloc[train_index], X.iloc[test_index]\n",
    "    y_train, y_test = y.iloc[train_index], y.iloc[test_index]\n",
    "    \n",
    "    # Pool 객체 생성\n",
    "    train_pool = Pool(X_train, y_train, cat_features=categorical_features)\n",
    "    test_pool = Pool(X_test, y_test, cat_features=categorical_features)\n",
    "    \n",
    "    # 모델 학습\n",
    "    model = CatBoostRegressor(random_state=42, verbose=0)\n",
    "    model.fit(train_pool)\n",
    "    \n",
    "    # 예측 및 RMSE 계산\n",
    "    y_pred = model.predict(test_pool)\n",
    "    rmse = root_mean_squared_error(y_test, y_pred)  # 최신 방식\n",
    "    rmse_scores.append(rmse)\n",
    "\n",
    "# 3. 결과 출력\n",
    "mean_rmse = np.mean(rmse_scores)\n",
    "print(f\"Cross-Validation RMSE Scores: {rmse_scores}\")\n",
    "print(f\"Mean RMSE: {mean_rmse:.2f}\")"
   ]
  },
  {
   "cell_type": "code",
   "execution_count": 5,
   "metadata": {},
   "outputs": [],
   "source": [
    "# 4. 결측치 대체\n",
    "# 최종 모델 학습: 전체 데이터 사용\n",
    "final_train_pool = Pool(X, y, cat_features=categorical_features)\n",
    "\n",
    "final_model = CatBoostRegressor(random_state=42, verbose=0)\n",
    "final_model.fit(final_train_pool)\n",
    "\n",
    "# 결측치 데이터의 예측을 위한 Pool 생성\n",
    "X_missing = data_missing_battery[features]\n",
    "missing_pool = Pool(X_missing, cat_features=categorical_features)\n",
    "\n",
    "# 결측치 예측 및 대체\n",
    "data_missing_battery['배터리용량'] = final_model.predict(missing_pool)\n",
    "\n",
    "# 5. 결측치 대체 후 데이터 합치기\n",
    "train_imp = pd.concat([data_with_battery, data_missing_battery])"
   ]
  },
  {
   "cell_type": "code",
   "execution_count": 6,
   "metadata": {},
   "outputs": [],
   "source": [
    "# 가격 대비 배터리 효율성 (Price per kWh)\n",
    "train_imp['Price_per_kWh'] = train_imp['가격(백만원)'] / train_imp['배터리용량']\n",
    "\n",
    "# 가격-배터리 비율 (Normalized Price by Capacity)\n",
    "price_per_kWh_mean = train_imp['Price_per_kWh'].mean()\n",
    "train_imp['Normalized_Price_by_Capacity'] = train_imp['Price_per_kWh'] / price_per_kWh_mean\n",
    "# train 데이터의 평균 가격 사용\n",
    "mean_price = train_imp['가격(백만원)'].mean()\n",
    "test['가격(백만원)'] = mean_price\n",
    "\n",
    "# Price_per_kWh 및 Normalized_Price_by_Capacity 계산\n",
    "test['Price_per_kWh'] = test['가격(백만원)'] / test['배터리용량']\n",
    "\n",
    "price_per_kWh_mean = train_imp['Price_per_kWh'].mean()  # train 데이터의 평균 사용\n",
    "test['Normalized_Price_by_Capacity'] = test['Price_per_kWh'] / price_per_kWh_mean\n"
   ]
  },
  {
   "cell_type": "code",
   "execution_count": 7,
   "metadata": {
    "executionInfo": {
     "elapsed": 949,
     "status": "ok",
     "timestamp": 1709629478160,
     "user": {
      "displayName": "김주성",
      "userId": "15933598741412346521"
     },
     "user_tz": -540
    },
    "id": "ZD7D49Rii5Zu"
   },
   "outputs": [],
   "source": [
    "categorical_features = [\n",
    "    '제조사'\n",
    "    ,'모델'\n",
    "    ,'차량상태'\n",
    "    ,'구동방식'\n",
    "    ,'사고이력'\n",
    "]\n",
    "for i in categorical_features:\n",
    "    train_imp[i] = train_imp[i].astype('category')\n",
    "    test[i] = test[i].astype('category')\n",
    "    \n",
    "target= train_imp['가격(백만원)']\n",
    "train_imp = train_imp.drop('가격(백만원)', axis=1)\n"
   ]
  },
  {
   "cell_type": "code",
   "execution_count": 8,
   "metadata": {
    "executionInfo": {
     "elapsed": 6,
     "status": "ok",
     "timestamp": 1709629478659,
     "user": {
      "displayName": "김주성",
      "userId": "15933598741412346521"
     },
     "user_tz": -540
    },
    "id": "n7EodujAOkz4"
   },
   "outputs": [],
   "source": [
    "train_X, valid_X, train_y, valid_y = train_test_split(train_imp, target, test_size=0.2, random_state=seed)"
   ]
  },
  {
   "cell_type": "markdown",
   "metadata": {
    "id": "jBI-8pZ-jg7I"
   },
   "source": [
    "#### 모델 학습"
   ]
  },
  {
   "cell_type": "markdown",
   "metadata": {
    "id": "sNqmzG8JABjH"
   },
   "source": [
    "##### CatBoost\n",
    "\n"
   ]
  },
  {
   "cell_type": "code",
   "execution_count": 9,
   "metadata": {
    "colab": {
     "base_uri": "https://localhost:8080/"
    },
    "executionInfo": {
     "elapsed": 175406,
     "status": "ok",
     "timestamp": 1709282851090,
     "user": {
      "displayName": "김주성",
      "userId": "15933598741412346521"
     },
     "user_tz": -540
    },
    "id": "IUj0hBU4i5eZ",
    "outputId": "62fdd9a1-3ade-41a3-dd24-24f6a2a569eb"
   },
   "outputs": [
    {
     "data": {
      "text/plain": [
       "<catboost.core.CatBoostRegressor at 0x2a5753efd90>"
      ]
     },
     "execution_count": 9,
     "metadata": {},
     "output_type": "execute_result"
    }
   ],
   "source": [
    "train_pool = Pool(data=train_X, label=train_y, cat_features=categorical_features)\n",
    "clf = CatBoostRegressor(random_state=seed, verbose=False)\n",
    "clf.fit(train_pool)"
   ]
  },
  {
   "cell_type": "markdown",
   "metadata": {
    "id": "iwboINrCQfXH"
   },
   "source": [
    "#### 모델 평가"
   ]
  },
  {
   "cell_type": "code",
   "execution_count": null,
   "metadata": {},
   "outputs": [],
   "source": [
    "def RMSE(y, pred):\n",
    "  return np.sqrt(root_mean_squared_error(y, pred))"
   ]
  },
  {
   "cell_type": "code",
   "execution_count": null,
   "metadata": {
    "colab": {
     "base_uri": "https://localhost:8080/"
    },
    "executionInfo": {
     "elapsed": 1203,
     "status": "ok",
     "timestamp": 1709282924880,
     "user": {
      "displayName": "김주성",
      "userId": "15933598741412346521"
     },
     "user_tz": -540
    },
    "id": "ulSjHfraQ2ky",
    "outputId": "82cf8270-ff2a-4426-aa65-1c45a9f326b5"
   },
   "outputs": [],
   "source": [
    "valid_pool = Pool(data=valid_X, cat_features=categorical_features)\n",
    "pred = clf.predict(valid_pool)"
   ]
  },
  {
   "cell_type": "code",
   "execution_count": null,
   "metadata": {},
   "outputs": [
    {
     "data": {
      "text/plain": [
       "0.5784985102623522"
      ]
     },
     "execution_count": 12,
     "metadata": {},
     "output_type": "execute_result"
    }
   ],
   "source": [
    "RMSE(valid_y, pred)"
   ]
  },
  {
   "cell_type": "markdown",
   "metadata": {
    "id": "Zo6lSuWhjmpw"
   },
   "source": [
    "#### 예측값 출력"
   ]
  },
  {
   "cell_type": "code",
   "execution_count": null,
   "metadata": {
    "id": "OS9V5mUii9sa"
   },
   "outputs": [],
   "source": [
    "test_pool = Pool(data=test, cat_features=categorical_features)\n",
    "pred = clf.predict(test_pool)"
   ]
  },
  {
   "cell_type": "code",
   "execution_count": null,
   "metadata": {
    "id": "M5nHAD64i_nQ"
   },
   "outputs": [],
   "source": [
    "submit = pd.read_csv('sample_submission.csv')\n",
    "submit['가격(백만원)'] = pred"
   ]
  },
  {
   "cell_type": "code",
   "execution_count": null,
   "metadata": {
    "id": "9jhgaVCcjCb-"
   },
   "outputs": [],
   "source": [
    "import datetime\n",
    "\n",
    "# 현재 날짜와 시간 가져오기\n",
    "now = datetime.datetime.now()\n",
    "formatted_time = now.strftime(\"%Y%m%d_%H%M\")  # 예: 20231208_153045\n",
    "\n",
    "# 파일 경로에 날짜와 시간 추가\n",
    "file_path = f\"submission_{formatted_time}.csv\"\n",
    "\n",
    "# DataFrame 저장\n",
    "submit.to_csv(file_path, index=False)"
   ]
  }
 ],
 "metadata": {
  "colab": {
   "authorship_tag": "ABX9TyPtXI13uHfeEbYg576gwwy8",
   "provenance": []
  },
  "kernelspec": {
   "display_name": "base",
   "language": "python",
   "name": "python3"
  },
  "language_info": {
   "codemirror_mode": {
    "name": "ipython",
    "version": 3
   },
   "file_extension": ".py",
   "mimetype": "text/x-python",
   "name": "python",
   "nbconvert_exporter": "python",
   "pygments_lexer": "ipython3",
   "version": "3.11.5"
  }
 },
 "nbformat": 4,
 "nbformat_minor": 0
}
