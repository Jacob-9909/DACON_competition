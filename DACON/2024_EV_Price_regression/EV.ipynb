{
 "cells": [
  {
   "cell_type": "code",
   "execution_count": 7,
   "metadata": {
    "executionInfo": {
     "elapsed": 1130,
     "status": "ok",
     "timestamp": 1709629469115,
     "user": {
      "displayName": "김주성",
      "userId": "15933598741412346521"
     },
     "user_tz": -540
    },
    "id": "faAF5T4zir2v"
   },
   "outputs": [],
   "source": [
    "import numpy as np\n",
    "import random\n",
    "import os\n",
    "import pandas as pd\n",
    "from catboost import CatBoostRegressor, Pool\n",
    "from sklearn.metrics import root_mean_squared_error\n",
    "from sklearn.model_selection import train_test_split\n",
    "from sklearn.model_selection import KFold\n",
    "\n",
    "def seed_everything(seed):\n",
    "    random.seed(seed)\n",
    "    os.environ['PYTHONHASHSEED'] = str(seed)\n",
    "    np.random.seed(seed)\n",
    "\n",
    "seed=42\n",
    "seed_everything(seed) # Seed 고정"
   ]
  },
  {
   "cell_type": "markdown",
   "metadata": {
    "id": "VdUvCXrvjZGJ"
   },
   "source": [
    "#### 데이터 불러오기 및 전처리"
   ]
  },
  {
   "cell_type": "code",
   "execution_count": 8,
   "metadata": {
    "executionInfo": {
     "elapsed": 4889,
     "status": "ok",
     "timestamp": 1709629474002,
     "user": {
      "displayName": "김주성",
      "userId": "15933598741412346521"
     },
     "user_tz": -540
    },
    "id": "Zjd8vU7BitoE"
   },
   "outputs": [],
   "source": [
    "train = pd.read_csv('train.csv')\n",
    "test = pd.read_csv('test.csv')"
   ]
  },
  {
   "cell_type": "code",
   "execution_count": 9,
   "metadata": {},
   "outputs": [],
   "source": [
    "train = train.drop('ID',axis=1)\n",
    "test = test.drop('ID',axis=1)"
   ]
  },
  {
   "cell_type": "code",
   "execution_count": null,
   "metadata": {
    "vscode": {
     "languageId": "ini"
    }
   },
   "outputs": [
    {
     "name": "stdout",
     "output_type": "stream",
     "text": [
      "<class 'pandas.core.frame.DataFrame'>\n",
      "RangeIndex: 7497 entries, 0 to 7496\n",
      "Data columns (total 10 columns):\n",
      " #   Column    Non-Null Count  Dtype  \n",
      "---  ------    --------------  -----  \n",
      " 0   제조사       7497 non-null   object \n",
      " 1   모델        7497 non-null   object \n",
      " 2   차량상태      7497 non-null   object \n",
      " 3   배터리용량     4786 non-null   float64\n",
      " 4   구동방식      7497 non-null   object \n",
      " 5   주행거리(km)  7497 non-null   int64  \n",
      " 6   보증기간(년)   7497 non-null   int64  \n",
      " 7   사고이력      7497 non-null   object \n",
      " 8   연식(년)     7497 non-null   int64  \n",
      " 9   가격(백만원)   7497 non-null   float64\n",
      "dtypes: float64(2), int64(3), object(5)\n",
      "memory usage: 585.8+ KB\n"
     ]
    }
   ],
   "source": [
    "# 결측값을 각 열의 평균으로 대체\n",
    "train['배터리용량'].fillna(train['배터리용량'].mean(), inplace=True)\n",
    "test['배터리용량'].fillna(test['배터리용량'].mean(), inplace=True)"
   ]
  },
  {
   "cell_type": "code",
   "execution_count": 10,
   "metadata": {
    "executionInfo": {
     "elapsed": 949,
     "status": "ok",
     "timestamp": 1709629478160,
     "user": {
      "displayName": "김주성",
      "userId": "15933598741412346521"
     },
     "user_tz": -540
    },
    "id": "ZD7D49Rii5Zu"
   },
   "outputs": [],
   "source": [
    "categorical_features = [\n",
    "    '제조사'\n",
    "    ,'모델'\n",
    "    ,'차량상태'\n",
    "    ,'구동방식'\n",
    "    ,'사고이력'\n",
    "]\n",
    "for i in categorical_features:\n",
    "    train[i] = train[i].astype('category')\n",
    "    test[i] = test[i].astype('category')\n",
    "    \n",
    "target= train['가격(백만원)']\n",
    "train = train.drop('가격(백만원)', axis=1)\n"
   ]
  },
  {
   "cell_type": "code",
   "execution_count": 11,
   "metadata": {
    "executionInfo": {
     "elapsed": 6,
     "status": "ok",
     "timestamp": 1709629478659,
     "user": {
      "displayName": "김주성",
      "userId": "15933598741412346521"
     },
     "user_tz": -540
    },
    "id": "n7EodujAOkz4"
   },
   "outputs": [],
   "source": [
    "train_X, valid_X, train_y, valid_y = train_test_split(train, target, test_size=0.2, random_state=seed)"
   ]
  },
  {
   "cell_type": "markdown",
   "metadata": {
    "id": "jBI-8pZ-jg7I"
   },
   "source": [
    "#### 모델 학습"
   ]
  },
  {
   "cell_type": "markdown",
   "metadata": {
    "id": "sNqmzG8JABjH"
   },
   "source": [
    "##### CatBoost\n",
    "\n"
   ]
  },
  {
   "cell_type": "code",
   "execution_count": 12,
   "metadata": {
    "colab": {
     "base_uri": "https://localhost:8080/"
    },
    "executionInfo": {
     "elapsed": 175406,
     "status": "ok",
     "timestamp": 1709282851090,
     "user": {
      "displayName": "김주성",
      "userId": "15933598741412346521"
     },
     "user_tz": -540
    },
    "id": "IUj0hBU4i5eZ",
    "outputId": "62fdd9a1-3ade-41a3-dd24-24f6a2a569eb"
   },
   "outputs": [
    {
     "data": {
      "text/plain": [
       "<catboost.core.CatBoostRegressor at 0x26103a81f50>"
      ]
     },
     "execution_count": 12,
     "metadata": {},
     "output_type": "execute_result"
    }
   ],
   "source": [
    "train_pool = Pool(data=train_X, label=train_y, cat_features=categorical_features)\n",
    "clf = CatBoostRegressor(random_state=seed, verbose=False)\n",
    "clf.fit(train_pool)"
   ]
  },
  {
   "cell_type": "markdown",
   "metadata": {
    "id": "iwboINrCQfXH"
   },
   "source": [
    "#### 모델 평가"
   ]
  },
  {
   "cell_type": "code",
   "execution_count": 13,
   "metadata": {},
   "outputs": [],
   "source": [
    "def RMSE(y, pred):\n",
    "  return np.sqrt(root_mean_squared_error(y, pred))"
   ]
  },
  {
   "cell_type": "code",
   "execution_count": 14,
   "metadata": {
    "colab": {
     "base_uri": "https://localhost:8080/"
    },
    "executionInfo": {
     "elapsed": 1203,
     "status": "ok",
     "timestamp": 1709282924880,
     "user": {
      "displayName": "김주성",
      "userId": "15933598741412346521"
     },
     "user_tz": -540
    },
    "id": "ulSjHfraQ2ky",
    "outputId": "82cf8270-ff2a-4426-aa65-1c45a9f326b5"
   },
   "outputs": [],
   "source": [
    "valid_pool = Pool(data=valid_X, cat_features=categorical_features)\n",
    "pred = clf.predict(valid_pool)"
   ]
  },
  {
   "cell_type": "code",
   "execution_count": 15,
   "metadata": {},
   "outputs": [
    {
     "data": {
      "text/plain": [
       "1.2192647743351863"
      ]
     },
     "execution_count": 15,
     "metadata": {},
     "output_type": "execute_result"
    }
   ],
   "source": [
    "RMSE(valid_y, pred)"
   ]
  },
  {
   "cell_type": "markdown",
   "metadata": {
    "id": "Zo6lSuWhjmpw"
   },
   "source": [
    "#### 예측값 출력"
   ]
  },
  {
   "cell_type": "code",
   "execution_count": 16,
   "metadata": {
    "id": "OS9V5mUii9sa"
   },
   "outputs": [],
   "source": [
    "test_pool = Pool(data=test, cat_features=categorical_features)\n",
    "pred = clf.predict(test_pool)"
   ]
  },
  {
   "cell_type": "code",
   "execution_count": 17,
   "metadata": {
    "id": "M5nHAD64i_nQ"
   },
   "outputs": [],
   "source": [
    "submit = pd.read_csv('sample_submission.csv')\n",
    "submit['가격(백만원)'] = pred"
   ]
  },
  {
   "cell_type": "code",
   "execution_count": 18,
   "metadata": {
    "id": "9jhgaVCcjCb-"
   },
   "outputs": [],
   "source": [
    "import datetime\n",
    "\n",
    "# 현재 날짜와 시간 가져오기\n",
    "now = datetime.datetime.now()\n",
    "formatted_time = now.strftime(\"%Y%m%d_%H%M\")  # 예: 20231208_153045\n",
    "\n",
    "# 파일 경로에 날짜와 시간 추가\n",
    "file_path = f\"submission_{formatted_time}.csv\"\n",
    "\n",
    "# DataFrame 저장\n",
    "submit.to_csv(file_path, index=False)"
   ]
  }
 ],
 "metadata": {
  "colab": {
   "authorship_tag": "ABX9TyPtXI13uHfeEbYg576gwwy8",
   "provenance": []
  },
  "kernelspec": {
   "display_name": "base",
   "language": "python",
   "name": "python3"
  },
  "language_info": {
   "codemirror_mode": {
    "name": "ipython",
    "version": 3
   },
   "file_extension": ".py",
   "mimetype": "text/x-python",
   "name": "python",
   "nbconvert_exporter": "python",
   "pygments_lexer": "ipython3",
   "version": "3.11.5"
  }
 },
 "nbformat": 4,
 "nbformat_minor": 0
}
