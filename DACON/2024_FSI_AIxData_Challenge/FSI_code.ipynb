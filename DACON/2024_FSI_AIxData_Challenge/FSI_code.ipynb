{
 "cells": [
  {
   "cell_type": "markdown",
   "metadata": {},
   "source": [
    "# Anomalous Financial Transaction Detection\n",
    "\n",
    "본 대회의 과제는 금융 거래 데이터에서 **이상 거래를 탐지하는 기능**을 개선하고 활용도를 높이는 분류 AI모델을 개발하는 것입니다. \n",
    "\n",
    "특히, 클래스 불균형 문제를 해결하기 위해 오픈소스 생성형 AI 모델을 활용하여 부족한 클래스의 데이터를 보완하고, 이를 통해 분류 모델의 성능을 향상시키는 것이 핵심 목표입니다. \n",
    "\n",
    "이러한 접근을 통해 금융보안에 특화된 데이터 분석 및 활용 역량을 강화하여 전문 인력을 양성하고, 금융권의 AI 활용 어려움에 따른 해결 방안을 함께 모색하며 금융 산업의 AI 활용 활성화를 지원하는 것을 목표로 합니다."
   ]
  },
  {
   "cell_type": "markdown",
   "metadata": {},
   "source": [
    "# Import Library"
   ]
  },
  {
   "cell_type": "code",
   "execution_count": 1,
   "metadata": {},
   "outputs": [],
   "source": [
    "# pip install sdv"
   ]
  },
  {
   "cell_type": "code",
   "execution_count": 1,
   "metadata": {},
   "outputs": [],
   "source": [
    "# 제출 파일 생성 관련\n",
    "import os\n",
    "import zipfile\n",
    "\n",
    "# 데이터 처리 및 분석\n",
    "import pandas as pd\n",
    "import numpy as np\n",
    "from scipy import stats\n",
    "from tqdm import tqdm\n",
    "\n",
    "# 머신러닝 전처리\n",
    "from sklearn.preprocessing import LabelEncoder, OrdinalEncoder\n",
    "\n",
    "# 머신러닝 모델\n",
    "import xgboost as xgb\n",
    "\n",
    "# 합성 데이터 생성\n",
    "from sdv.metadata import SingleTableMetadata\n",
    "from sdv.single_table import CTGANSynthesizer\n",
    "\n",
    "# To ignore all warnings\n",
    "import warnings\n",
    "warnings.filterwarnings('ignore')\n",
    "\n",
    "pd.set_option('display.max_columns', None)"
   ]
  },
  {
   "cell_type": "markdown",
   "metadata": {},
   "source": [
    "# 생성 🏭"
   ]
  },
  {
   "cell_type": "markdown",
   "metadata": {},
   "source": [
    "# Load Data"
   ]
  },
  {
   "cell_type": "code",
   "execution_count": 2,
   "metadata": {},
   "outputs": [],
   "source": [
    "train_all = pd.read_csv(\"train.csv\")\n",
    "test_all = pd.read_csv(\"test.csv\")"
   ]
  },
  {
   "cell_type": "code",
   "execution_count": 3,
   "metadata": {},
   "outputs": [],
   "source": [
    "train = train_all.drop(columns=\"ID\")"
   ]
  },
  {
   "cell_type": "code",
   "execution_count": 4,
   "metadata": {},
   "outputs": [
    {
     "data": {
      "text/plain": [
       "(120000, 63)"
      ]
     },
     "execution_count": 4,
     "metadata": {},
     "output_type": "execute_result"
    }
   ],
   "source": [
    "train.shape"
   ]
  },
  {
   "cell_type": "code",
   "execution_count": 5,
   "metadata": {},
   "outputs": [],
   "source": [
    "'''\n",
    "(*) 리더보드 산식 중 생성데이터의 익명성(TCAP)채점을 위해 각 클래스 별로 1000개의 생성데이터가 반드시 필요합니다.\n",
    "(*) 본 베이스 라인에서는 \"Fraud_Type\" 13종류에 대해 1000개씩 , 총 13,000개의 데이터를 생성할 예정입니다.\n",
    "(*) 분류 모델 성능 개선을 위해 생성 데이터를 활용하는 것에는 생성 데이터의 Row 개수에 제한이 없습니다. 단, 리더보드 평가를 위해 제출을 하는 생성 데이터 프레임은 익명성(TCAP) 평가를 위함이며, 위의 조건을 갖춘 생성 데이터를 제출해야합니다.\n",
    "'''\n",
    "N_CLS_PER_GEN = 1000\n",
    "N_CLS_PER_GEN_2 = 5"
   ]
  },
  {
   "cell_type": "code",
   "execution_count": 7,
   "metadata": {},
   "outputs": [],
   "source": [
    "# pd.set_option('display.max_rows', None)  # 모든 행 표시\n",
    "# cond_all = pd.read_excel(\"데이터_명세_및_생성조건.xlsx\", header=1)\n",
    "# cond_all.iloc[:,2:-1]"
   ]
  },
  {
   "cell_type": "markdown",
   "metadata": {},
   "source": [
    "## 제출용 합성데이터"
   ]
  },
  {
   "cell_type": "code",
   "execution_count": 8,
   "metadata": {},
   "outputs": [],
   "source": [
    "# from ctgan import CTGAN \n",
    "# import pandas as pd\n",
    "# from tqdm import tqdm\n",
    "# import numpy as np\n",
    "# from scipy import stats\n",
    "# from sdv.metadata import SingleTableMetadata\n",
    "\n",
    "# # 이상치 처리 함수\n",
    "# def handle_outliers(series, n_std=3):\n",
    "#     mean = series.mean()\n",
    "#     std = series.std()\n",
    "#     z_scores = np.abs(stats.zscore(series))\n",
    "#     return series.mask(z_scores > n_std, mean)\n",
    "\n",
    "# # 범주형 데이터 조건 강제 함수\n",
    "# def enforce_categorical_conditions(df):\n",
    "#     # Customer_Gender: 'male', 'female'만 허용\n",
    "#     df['Customer_Gender'] = df['Customer_Gender'].apply(lambda x: 'male' if x == 'male' else 'female')\n",
    "    \n",
    "#     # Customer_credit_rating: 'S', 'A', 'B', 'C', 'D', 'E'만 허용\n",
    "#     valid_ratings = ['S', 'A', 'B', 'C', 'D', 'E']\n",
    "#     df['Customer_credit_rating'] = df['Customer_credit_rating'].apply(lambda x: x if x in valid_ratings else 'B')\n",
    "    \n",
    "#     # Customer_loan_type: 'a', 'b', 'c', 'd', 'e'만 허용\n",
    "#     valid_loan_types = ['a', 'b', 'c', 'd', 'e']\n",
    "#     df['Customer_loan_type'] = df['Customer_loan_type'].apply(lambda x: x if x in valid_loan_types else 'c')\n",
    "    \n",
    "#     # 기타 범주형 변수들 0, 1만 허용\n",
    "#     binary_columns = ['Customer_flag_change_of_authentication_1', 'Customer_flag_change_of_authentication_2',\n",
    "#                       'Customer_flag_change_of_authentication_3', 'Customer_flag_change_of_authentication_4',\n",
    "#                       'Customer_rooting_jailbreak_indicator', 'Customer_mobile_roaming_indicator', \n",
    "#                       'Customer_VPN_Indicator', 'Customer_flag_terminal_malicious_behavior_1',\n",
    "#                       'Customer_flag_terminal_malicious_behavior_2', 'Customer_flag_terminal_malicious_behavior_3',\n",
    "#                       'Customer_flag_terminal_malicious_behavior_4', 'Customer_flag_terminal_malicious_behavior_5',\n",
    "#                       'Customer_flag_terminal_malicious_behavior_6', 'Customer_inquery_atm_limit',\n",
    "#                       'Customer_increase_atm_limit', 'Account_indicator_release_limit_excess',\n",
    "#                       'Account_indicator_Openbanking', 'Account_release_suspention', 'Transaction_Failure_Status',\n",
    "#                       'Another_Person_Account', 'Unused_terminal_status', 'Flag_deposit_more_than_tenMillion',\n",
    "#                       'Unused_account_status', 'Recipient_account_suspend_status', 'First_time_iOS_by_vulnerable_user']\n",
    "#     for col in binary_columns:\n",
    "#         df[col] = df[col].apply(lambda x: 1 if x == 1 else 0)\n",
    "    \n",
    "#     return df\n",
    "\n",
    "# # 수치형 데이터 조건 강제 함수\n",
    "# def enforce_numerical_conditions(df):\n",
    "#     # Customer_Birthyear: 1950 ~ 2004 범위 제한\n",
    "#     df['Customer_Birthyear'] = df['Customer_Birthyear'].clip(1950, 2004)\n",
    "    \n",
    "#     # Account_initial_balance: 음수가 될 수 없으므로 최소값을 0으로 설정\n",
    "#     df['Account_initial_balance'] = df['Account_initial_balance'].clip(lower=0)\n",
    "    \n",
    "#     # Account_balance: 음수가 될 수 없으므로 최소값을 0으로 설정\n",
    "#     df['Account_balance'] = df['Account_balance'].clip(lower=0)\n",
    "    \n",
    "#     # Account_amount_daily_limit: 0 이상의 값으로 설정 (예시로 최대값도 설정 가능)\n",
    "#     df['Account_amount_daily_limit'] = df['Account_amount_daily_limit'].clip(lower=0)\n",
    "    \n",
    "#     # Account_remaining_amount_daily_limit_exceeded: 0 이상의 값으로 설정\n",
    "#     df['Account_remaining_amount_daily_limit_exceeded'] = df['Account_remaining_amount_daily_limit_exceeded'].clip(lower=0)\n",
    "    \n",
    "#     # Account_one_month_max_amount, Account_dawn_one_month_max_amount: 음수일 수 있으므로, 필요시 범위 설정\n",
    "#     # 이 항목들은 특정 조건이 있다면 적용\n",
    "#     # 예: 최댓값을 특정 범위로 제한\n",
    "#     df['Account_one_month_max_amount'] = df['Account_one_month_max_amount'].clip(lower=-1000000, upper=1000000)\n",
    "#     df['Account_dawn_one_month_max_amount'] = df['Account_dawn_one_month_max_amount'].clip(lower=-1000000, upper=1000000)\n",
    "    \n",
    "#     # Account_one_month_std_dev, Account_dawn_one_month_std_dev: 표준편차는 음수가 될 수 없으므로 0으로 제한\n",
    "#     df['Account_one_month_std_dev'] = df['Account_one_month_std_dev'].clip(lower=0)\n",
    "#     df['Account_dawn_one_month_std_dev'] = df['Account_dawn_one_month_std_dev'].clip(lower=0)\n",
    "    \n",
    "#     # Transaction_Amount: 특정 범위 내로 설정 (예: 음수도 허용, 최대값 제한)\n",
    "#     df['Transaction_Amount'] = df['Transaction_Amount'].clip(lower=-100000000, upper=100000000)\n",
    "    \n",
    "#     # Distance: 음수가 될 수 없으므로 최소값을 0으로 설정\n",
    "#     df['Distance'] = df['Distance'].clip(lower=0)\n",
    "    \n",
    "#     # Number_of_transaction_with_the_account, Transaction_history_with_the_account: 음수가 될 수 없으므로 최소값을 0으로 설정\n",
    "#     df['Number_of_transaction_with_the_account'] = df['Number_of_transaction_with_the_account'].clip(lower=0)\n",
    "#     df['Transaction_history_with_the_account'] = df['Transaction_history_with_the_account'].clip(lower=0)\n",
    "    \n",
    "#     return df\n",
    "\n",
    "# # Time_difference 컬럼을 총 초로 변환 및 이상치 처리\n",
    "# train['Time_difference_seconds'] = pd.to_timedelta(train['Time_difference']).dt.total_seconds()\n",
    "# train['Time_difference_seconds'] = handle_outliers(train['Time_difference_seconds'])\n",
    "\n",
    "# # 모든 Fraud_Type 목록 생성\n",
    "# fraud_types = train['Fraud_Type'].unique()  # Fraud_Type로 변경\n",
    "\n",
    "# # 모든 합성 데이터를 저장할 DataFrame 초기화\n",
    "# all_synthetic_data = pd.DataFrame()\n",
    "\n",
    "# N_SAMPLE = 100\n",
    "\n",
    "# # 각 Fraud_Type에 대해 합성 데이터 생성 및 저장\n",
    "# for fraud_type in tqdm(fraud_types):\n",
    "    \n",
    "#     # 해당 Fraud_Type에 대한 서브셋 생성\n",
    "#     subset = train[train[\"Fraud_Type\"] == fraud_type]\n",
    "\n",
    "#     # 모든 Fraud_Type에 대해 100개씩 샘플링\n",
    "#     subset = subset.sample(n=N_SAMPLE, random_state=42)\n",
    "    \n",
    "#     # Time_difference 열 제외 (초 단위로 변환된 컬럼만 사용)\n",
    "#     subset = subset.drop('Time_difference', axis=1)\n",
    "    \n",
    "#     # 메타데이터 생성 및 모델 학습\n",
    "#     metadata = SingleTableMetadata()\n",
    "\n",
    "#     metadata.detect_from_dataframe(subset)\n",
    "#     metadata.set_primary_key(None)\n",
    "\n",
    "#     # 데이터 타입 설정\n",
    "#     column_sdtypes = {\n",
    "#         'Customer_Birthyear': 'numerical',\n",
    "#         # 'Customer_Gender': 'categorical',\n",
    "#         'Customer_personal_identifier': 'categorical',\n",
    "#         'Customer_identification_number': 'categorical',\n",
    "#         # 'Customer_registration_datetime': 'datetime',\n",
    "#         'Customer_credit_rating': 'categorical',\n",
    "#         # 'Customer_flag_change_of_authentication_1': 'categorical',\n",
    "#         # 'Customer_flag_change_of_authentication_2': 'categorical',\n",
    "#         # 'Customer_flag_change_of_authentication_3': 'categorical',\n",
    "#         # 'Customer_flag_change_of_authentication_4': 'categorical',\n",
    "#         # 'Customer_rooting_jailbreak_indicator': 'categorical',\n",
    "#         # 'Customer_mobile_roaming_indicator': 'categorical',\n",
    "#         # 'Customer_VPN_Indicator': 'categorical',\n",
    "#         # 'Customer_loan_type': 'categorical',\n",
    "#         # 'Customer_flag_terminal_malicious_behavior_1': 'categorical',\n",
    "#         # 'Customer_flag_terminal_malicious_behavior_2': 'categorical',\n",
    "#         # 'Customer_flag_terminal_malicious_behavior_3': 'categorical',\n",
    "#         # 'Customer_flag_terminal_malicious_behavior_4': 'categorical',\n",
    "#         # 'Customer_flag_terminal_malicious_behavior_5': 'categorical',\n",
    "#         # 'Customer_flag_terminal_malicious_behavior_6': 'categorical',\n",
    "#         # 'Customer_inquery_atm_limit': 'categorical',\n",
    "#         # 'Customer_increase_atm_limit': 'categorical',\n",
    "#         'Account_account_number': 'categorical',\n",
    "#         # 'Account_account_type': 'categorical',\n",
    "#         # 'Account_creation_datetime': 'datetime',\n",
    "#         'Account_initial_balance': 'numerical',\n",
    "#         'Account_balance': 'numerical',\n",
    "#         # 'Account_indicator_release_limit_excess': 'categorical',\n",
    "#         'Account_amount_daily_limit': 'numerical',\n",
    "#         'Account_indicator_Openbanking': 'categorical',\n",
    "#         'Account_remaining_amount_daily_limit_exceeded': 'numerical',\n",
    "#         # 'Account_release_suspention': 'categorical',\n",
    "#         'Account_one_month_max_amount': 'numerical',\n",
    "#         'Account_one_month_std_dev': 'numerical',\n",
    "#         'Account_dawn_one_month_max_amount': 'numerical',\n",
    "#         'Account_dawn_one_month_std_dev': 'numerical',\n",
    "#         # 'Transaction_Datetime': 'datetime',\n",
    "#         'Transaction_Amount': 'numerical',\n",
    "#         # 'Channel': 'categorical',\n",
    "#         # 'Operating_System': 'categorical',\n",
    "#         # 'Error_Code': 'categorical',\n",
    "#         # 'Transaction_Failure_Status': 'categorical',\n",
    "#         # 'Type_General_Automatic': 'categorical',\n",
    "#         'IP_Address': 'ipv4_address',\n",
    "#         # 'Access_Medium': 'categorical',\n",
    "#         'Location': 'categorical',\n",
    "#         'Recipient_Account_Number': 'categorical',\n",
    "#         'Transaction_num_connection_failure': 'numerical',\n",
    "#         # 'Another_Person_Account': 'categorical',\n",
    "#         'Distance': 'numerical',\n",
    "#         'Time_difference_seconds': 'numerical',\n",
    "#         # 'Unused_terminal_status': 'categorical',\n",
    "#         # 'Last_atm_transaction_datetime': 'datetime',\n",
    "#         # 'Last_bank_branch_transaction_datetime': 'datetime',\n",
    "#         # 'Flag_deposit_more_than_tenMillion': 'categorical',\n",
    "#         # 'Unused_account_status': 'categorical',\n",
    "#         # 'Recipient_account_suspend_status': 'categorical',\n",
    "#         'Number_of_transaction_with_the_account': 'numerical',\n",
    "#         'Transaction_history_with_the_account': 'numerical',\n",
    "#         # 'First_time_iOS_by_vulnerable_user': 'categorical',\n",
    "#         # 'Transaction_resumed_date': 'datetime',\n",
    "#         'Fraud_Type': 'categorical'\n",
    "#     }\n",
    "\n",
    "#     # 각 컬럼에 대해 데이터 타입 설정\n",
    "#     for column, sdtype in column_sdtypes.items():\n",
    "#         metadata.update_column(\n",
    "#             column_name=column,\n",
    "#             sdtype=sdtype\n",
    "#         )\n",
    "        \n",
    "#     synthesizer = CTGANSynthesizer(\n",
    "#                             metadata,\n",
    "#                             epochs= 2000\n",
    "#                         )\n",
    "#     synthesizer.fit(subset)\n",
    "\n",
    "#     synthetic_subset = synthesizer.sample(num_rows=N_CLS_PER_GEN)  # 합성 데이터 생성 수 설정\n",
    "    \n",
    "#     # 생성된 Time_difference_seconds의 이상치 처리\n",
    "#     synthetic_subset['Time_difference_seconds'] = handle_outliers(synthetic_subset['Time_difference_seconds'])\n",
    "    \n",
    "#     # Time_difference_seconds를 다시 timedelta로 변환\n",
    "#     synthetic_subset['Time_difference'] = pd.to_timedelta(synthetic_subset['Time_difference_seconds'], unit='s')\n",
    "    \n",
    "#     # Time_difference_seconds 컬럼 제거\n",
    "#     synthetic_subset = synthetic_subset.drop('Time_difference_seconds', axis=1)\n",
    "    \n",
    "#     # 생성 조건 반영 (범주형, 수치형, 형식 조건)\n",
    "#     synthetic_subset = enforce_categorical_conditions(synthetic_subset)\n",
    "#     synthetic_subset = enforce_numerical_conditions(synthetic_subset)\n",
    "    \n",
    "#     # 생성된 데이터를 all_synthetic_data에 추가\n",
    "#     all_synthetic_data = pd.concat([all_synthetic_data, synthetic_subset], ignore_index=True)\n",
    "\n",
    "# # 최종 결과 확인\n",
    "# print(\"\\nFinal All Synthetic Data Shape:\", all_synthetic_data.shape)\n"
   ]
  },
  {
   "cell_type": "code",
   "execution_count": 9,
   "metadata": {},
   "outputs": [],
   "source": [
    "# all_synthetic_data.to_csv('submission/syn_submission.csv', encoding='UTF-8-sig', index=False)"
   ]
  },
  {
   "cell_type": "markdown",
   "metadata": {},
   "source": [
    "## 성능용 합성데이터"
   ]
  },
  {
   "cell_type": "markdown",
   "metadata": {},
   "source": [
    "CTGAN"
   ]
  },
  {
   "cell_type": "code",
   "execution_count": 6,
   "metadata": {},
   "outputs": [
    {
     "name": "stderr",
     "output_type": "stream",
     "text": [
      "100%|██████████| 13/13 [15:36<00:00, 72.06s/it]"
     ]
    },
    {
     "name": "stdout",
     "output_type": "stream",
     "text": [
      "\n",
      "Final All Synthetic Data ctgan Shape: (65, 63)\n"
     ]
    },
    {
     "name": "stderr",
     "output_type": "stream",
     "text": [
      "\n"
     ]
    }
   ],
   "source": [
    "from ctgan import CTGAN \n",
    "import pandas as pd\n",
    "from tqdm import tqdm\n",
    "import numpy as np\n",
    "from scipy import stats\n",
    "from sdv.metadata import SingleTableMetadata\n",
    "\n",
    "# 이상치 처리 함수\n",
    "def handle_outliers(series, n_std=3):\n",
    "    mean = series.mean()\n",
    "    std = series.std()\n",
    "    z_scores = np.abs(stats.zscore(series))\n",
    "    return series.mask(z_scores > n_std, mean)\n",
    "\n",
    "# 범주형 데이터 조건 강제 함수\n",
    "def enforce_categorical_conditions(df):\n",
    "    # Customer_Gender: 'male', 'female'만 허용\n",
    "    df['Customer_Gender'] = df['Customer_Gender'].apply(lambda x: 'male' if x == 'male' else 'female')\n",
    "    \n",
    "    # Customer_credit_rating: 'S', 'A', 'B', 'C', 'D', 'E'만 허용\n",
    "    valid_ratings = ['S', 'A', 'B', 'C', 'D', 'E']\n",
    "    df['Customer_credit_rating'] = df['Customer_credit_rating'].apply(lambda x: x if x in valid_ratings else 'B')\n",
    "    \n",
    "    # Customer_loan_type: 'a', 'b', 'c', 'd', 'e'만 허용\n",
    "    valid_loan_types = ['a', 'b', 'c', 'd', 'e']\n",
    "    df['Customer_loan_type'] = df['Customer_loan_type'].apply(lambda x: x if x in valid_loan_types else 'c')\n",
    "    \n",
    "    # 기타 범주형 변수들 0, 1만 허용\n",
    "    binary_columns = ['Customer_flag_change_of_authentication_1', 'Customer_flag_change_of_authentication_2',\n",
    "                      'Customer_flag_change_of_authentication_3', 'Customer_flag_change_of_authentication_4',\n",
    "                      'Customer_rooting_jailbreak_indicator', 'Customer_mobile_roaming_indicator', \n",
    "                      'Customer_VPN_Indicator', 'Customer_flag_terminal_malicious_behavior_1',\n",
    "                      'Customer_flag_terminal_malicious_behavior_2', 'Customer_flag_terminal_malicious_behavior_3',\n",
    "                      'Customer_flag_terminal_malicious_behavior_4', 'Customer_flag_terminal_malicious_behavior_5',\n",
    "                      'Customer_flag_terminal_malicious_behavior_6', 'Customer_inquery_atm_limit',\n",
    "                      'Customer_increase_atm_limit', 'Account_indicator_release_limit_excess',\n",
    "                      'Account_indicator_Openbanking', 'Account_release_suspention', 'Transaction_Failure_Status',\n",
    "                      'Another_Person_Account', 'Unused_terminal_status', 'Flag_deposit_more_than_tenMillion',\n",
    "                      'Unused_account_status', 'Recipient_account_suspend_status', 'First_time_iOS_by_vulnerable_user']\n",
    "    for col in binary_columns:\n",
    "        df[col] = df[col].apply(lambda x: 1 if x == 1 else 0)\n",
    "    \n",
    "    return df\n",
    "\n",
    "# 수치형 데이터 조건 강제 함수\n",
    "def enforce_numerical_conditions(df):\n",
    "    # Customer_Birthyear: 1950 ~ 2004 범위 제한\n",
    "    df['Customer_Birthyear'] = df['Customer_Birthyear'].clip(1950, 2004)\n",
    "    \n",
    "    # Account_initial_balance: 음수가 될 수 없으므로 최소값을 0으로 설정\n",
    "    df['Account_initial_balance'] = df['Account_initial_balance'].clip(lower=0)\n",
    "    \n",
    "    # Account_balance: 음수가 될 수 없으므로 최소값을 0으로 설정\n",
    "    df['Account_balance'] = df['Account_balance'].clip(lower=0)\n",
    "    \n",
    "    # Account_amount_daily_limit: 0 이상의 값으로 설정 (예시로 최대값도 설정 가능)\n",
    "    df['Account_amount_daily_limit'] = df['Account_amount_daily_limit'].clip(lower=0)\n",
    "    \n",
    "    # Account_remaining_amount_daily_limit_exceeded: 0 이상의 값으로 설정\n",
    "    df['Account_remaining_amount_daily_limit_exceeded'] = df['Account_remaining_amount_daily_limit_exceeded'].clip(lower=0)\n",
    "    \n",
    "    # Account_one_month_max_amount, Account_dawn_one_month_max_amount: 음수일 수 있으므로, 필요시 범위 설정\n",
    "    # 이 항목들은 특정 조건이 있다면 적용\n",
    "    # 예: 최댓값을 특정 범위로 제한\n",
    "    df['Account_one_month_max_amount'] = df['Account_one_month_max_amount'].clip(lower=-1000000, upper=1000000)\n",
    "    df['Account_dawn_one_month_max_amount'] = df['Account_dawn_one_month_max_amount'].clip(lower=-1000000, upper=1000000)\n",
    "    \n",
    "    # Account_one_month_std_dev, Account_dawn_one_month_std_dev: 표준편차는 음수가 될 수 없으므로 0으로 제한\n",
    "    df['Account_one_month_std_dev'] = df['Account_one_month_std_dev'].clip(lower=0)\n",
    "    df['Account_dawn_one_month_std_dev'] = df['Account_dawn_one_month_std_dev'].clip(lower=0)\n",
    "    \n",
    "    # Transaction_Amount: 특정 범위 내로 설정 (예: 음수도 허용, 최대값 제한)\n",
    "    df['Transaction_Amount'] = df['Transaction_Amount'].clip(lower=-100000000, upper=100000000)\n",
    "    \n",
    "    # Distance: 음수가 될 수 없으므로 최소값을 0으로 설정\n",
    "    df['Distance'] = df['Distance'].clip(lower=0)\n",
    "    \n",
    "    # Number_of_transaction_with_the_account, Transaction_history_with_the_account: 음수가 될 수 없으므로 최소값을 0으로 설정\n",
    "    df['Number_of_transaction_with_the_account'] = df['Number_of_transaction_with_the_account'].clip(lower=0)\n",
    "    df['Transaction_history_with_the_account'] = df['Transaction_history_with_the_account'].clip(lower=0)\n",
    "    \n",
    "    return df\n",
    "\n",
    "\n",
    "\n",
    "# Time_difference 컬럼을 총 초로 변환 및 이상치 처리\n",
    "train['Time_difference_seconds'] = pd.to_timedelta(train['Time_difference']).dt.total_seconds()\n",
    "train['Time_difference_seconds'] = handle_outliers(train['Time_difference_seconds'])\n",
    "\n",
    "# 모든 Fraud_Type 목록 생성\n",
    "fraud_types = train['Fraud_Type'].unique()  # Fraud_Type로 변경\n",
    "\n",
    "# 모든 합성 데이터를 저장할 DataFrame 초기화\n",
    "all_synthetic_data_ctgan = pd.DataFrame()\n",
    "\n",
    "N_SAMPLE = 100\n",
    "\n",
    "# 각 Fraud_Type에 대해 합성 데이터 생성 및 저장\n",
    "for fraud_type in tqdm(fraud_types):\n",
    "    \n",
    "    # 해당 Fraud_Type에 대한 서브셋 생성\n",
    "    subset = train[train[\"Fraud_Type\"] == fraud_type]\n",
    "\n",
    "    # 모든 Fraud_Type에 대해 100개씩 샘플링\n",
    "    subset = subset.sample(n=N_SAMPLE, random_state=42)\n",
    "    \n",
    "    # Time_difference 열 제외 (초 단위로 변환된 컬럼만 사용)\n",
    "    subset = subset.drop('Time_difference', axis=1)\n",
    "    \n",
    "    # 메타데이터 생성 및 모델 학습\n",
    "    metadata = SingleTableMetadata()\n",
    "\n",
    "    metadata.detect_from_dataframe(subset)\n",
    "    metadata.set_primary_key(None)\n",
    "\n",
    "    # 데이터 타입 설정\n",
    "    column_sdtypes = {\n",
    "        'Customer_Birthyear': 'numerical',\n",
    "        # 'Customer_Gender': 'categorical',\n",
    "        'Customer_personal_identifier': 'categorical',\n",
    "        'Customer_identification_number': 'categorical',\n",
    "        # 'Customer_registration_datetime': 'datetime',\n",
    "        'Customer_credit_rating': 'categorical',\n",
    "        # 'Customer_flag_change_of_authentication_1': 'categorical',\n",
    "        # 'Customer_flag_change_of_authentication_2': 'categorical',\n",
    "        # 'Customer_flag_change_of_authentication_3': 'categorical',\n",
    "        # 'Customer_flag_change_of_authentication_4': 'categorical',\n",
    "        # 'Customer_rooting_jailbreak_indicator': 'categorical',\n",
    "        # 'Customer_mobile_roaming_indicator': 'categorical',\n",
    "        # 'Customer_VPN_Indicator': 'categorical',\n",
    "        # 'Customer_loan_type': 'categorical',\n",
    "        # 'Customer_flag_terminal_malicious_behavior_1': 'categorical',\n",
    "        # 'Customer_flag_terminal_malicious_behavior_2': 'categorical',\n",
    "        # 'Customer_flag_terminal_malicious_behavior_3': 'categorical',\n",
    "        # 'Customer_flag_terminal_malicious_behavior_4': 'categorical',\n",
    "        # 'Customer_flag_terminal_malicious_behavior_5': 'categorical',\n",
    "        # 'Customer_flag_terminal_malicious_behavior_6': 'categorical',\n",
    "        # 'Customer_inquery_atm_limit': 'categorical',\n",
    "        # 'Customer_increase_atm_limit': 'categorical',\n",
    "        'Account_account_number': 'categorical',\n",
    "        # 'Account_account_type': 'categorical',\n",
    "        # 'Account_creation_datetime': 'datetime',\n",
    "        'Account_initial_balance': 'numerical',\n",
    "        'Account_balance': 'numerical',\n",
    "        # 'Account_indicator_release_limit_excess': 'categorical',\n",
    "        'Account_amount_daily_limit': 'numerical',\n",
    "        'Account_indicator_Openbanking': 'categorical',\n",
    "        'Account_remaining_amount_daily_limit_exceeded': 'numerical',\n",
    "        # 'Account_release_suspention': 'categorical',\n",
    "        'Account_one_month_max_amount': 'numerical',\n",
    "        'Account_one_month_std_dev': 'numerical',\n",
    "        'Account_dawn_one_month_max_amount': 'numerical',\n",
    "        'Account_dawn_one_month_std_dev': 'numerical',\n",
    "        # 'Transaction_Datetime': 'datetime',\n",
    "        'Transaction_Amount': 'numerical',\n",
    "        # 'Channel': 'categorical',\n",
    "        # 'Operating_System': 'categorical',\n",
    "        # 'Error_Code': 'categorical',\n",
    "        # 'Transaction_Failure_Status': 'categorical',\n",
    "        # 'Type_General_Automatic': 'categorical',\n",
    "        'IP_Address': 'ipv4_address',\n",
    "        # 'Access_Medium': 'categorical',\n",
    "        'Location': 'categorical',\n",
    "        'Recipient_Account_Number': 'categorical',\n",
    "        'Transaction_num_connection_failure': 'numerical',\n",
    "        # 'Another_Person_Account': 'categorical',\n",
    "        'Distance': 'numerical',\n",
    "        'Time_difference_seconds': 'numerical',\n",
    "        # 'Unused_terminal_status': 'categorical',\n",
    "        # 'Last_atm_transaction_datetime': 'datetime',\n",
    "        # 'Last_bank_branch_transaction_datetime': 'datetime',\n",
    "        # 'Flag_deposit_more_than_tenMillion': 'categorical',\n",
    "        # 'Unused_account_status': 'categorical',\n",
    "        # 'Recipient_account_suspend_status': 'categorical',\n",
    "        'Number_of_transaction_with_the_account': 'numerical',\n",
    "        'Transaction_history_with_the_account': 'numerical',\n",
    "        # 'First_time_iOS_by_vulnerable_user': 'categorical',\n",
    "        # 'Transaction_resumed_date': 'datetime',\n",
    "        'Fraud_Type': 'categorical'\n",
    "    }\n",
    "    # 각 컬럼에 대해 데이터 타입 설정\n",
    "    for column, sdtype in column_sdtypes.items():\n",
    "        metadata.update_column(\n",
    "            column_name=column,\n",
    "            sdtype=sdtype\n",
    "        )\n",
    "        \n",
    "    synthesizer = CTGANSynthesizer(\n",
    "                            metadata,\n",
    "                            epochs=300\n",
    "                        )\n",
    "    synthesizer.fit(subset)\n",
    "\n",
    "    synthetic_subset = synthesizer.sample(num_rows=N_CLS_PER_GEN_2)  # 합성 데이터 생성 수 설정\n",
    "    \n",
    "    # 생성된 Time_difference_seconds의 이상치 처리\n",
    "    synthetic_subset['Time_difference_seconds'] = handle_outliers(synthetic_subset['Time_difference_seconds'])\n",
    "    \n",
    "    # Time_difference_seconds를 다시 timedelta로 변환\n",
    "    synthetic_subset['Time_difference'] = pd.to_timedelta(synthetic_subset['Time_difference_seconds'], unit='s')\n",
    "    \n",
    "    # Time_difference_seconds 컬럼 제거\n",
    "    synthetic_subset = synthetic_subset.drop('Time_difference_seconds', axis=1)\n",
    "    \n",
    "    # 생성 조건 반영 (범주형, 수치형, 형식 조건)\n",
    "    synthetic_subset = enforce_categorical_conditions(synthetic_subset)\n",
    "    synthetic_subset = enforce_numerical_conditions(synthetic_subset)\n",
    "    \n",
    "    # 생성된 데이터를 all_synthetic_data에 추가\n",
    "    all_synthetic_data_ctgan = pd.concat([all_synthetic_data_ctgan, synthetic_subset], ignore_index=True)\n",
    "\n",
    "# 최종 결과 확인\n",
    "print(\"\\nFinal All Synthetic Data ctgan Shape:\", all_synthetic_data_ctgan.shape)\n"
   ]
  },
  {
   "cell_type": "markdown",
   "metadata": {},
   "source": [
    "## 원본 데이터와 concat"
   ]
  },
  {
   "cell_type": "code",
   "execution_count": 57,
   "metadata": {},
   "outputs": [
    {
     "data": {
      "text/plain": [
       "(120065, 63)"
      ]
     },
     "execution_count": 57,
     "metadata": {},
     "output_type": "execute_result"
    }
   ],
   "source": [
    "origin_train = train_all.drop(columns=\"ID\")\n",
    "train_total = pd.concat([origin_train, all_synthetic_data_ctgan])\n",
    "train_total.shape"
   ]
  },
  {
   "cell_type": "markdown",
   "metadata": {},
   "source": [
    "# Data Preprocessing 1 : Select x, y"
   ]
  },
  {
   "cell_type": "code",
   "execution_count": 58,
   "metadata": {},
   "outputs": [],
   "source": [
    "train_x = train_total.drop(columns=['Fraud_Type'])\n",
    "train_y = train_total['Fraud_Type']\n",
    "\n",
    "test_x = test_all.drop(columns=['ID'])"
   ]
  },
  {
   "cell_type": "markdown",
   "metadata": {},
   "source": [
    "# Data Preprocessing 2 : 범주형 변수 인코딩"
   ]
  },
  {
   "cell_type": "code",
   "execution_count": 59,
   "metadata": {},
   "outputs": [
    {
     "name": "stdout",
     "output_type": "stream",
     "text": [
      "원래 레이블: a, 변환된 숫자: 0\n",
      "원래 레이블: b, 변환된 숫자: 1\n",
      "원래 레이블: c, 변환된 숫자: 2\n",
      "원래 레이블: d, 변환된 숫자: 3\n",
      "원래 레이블: e, 변환된 숫자: 4\n",
      "원래 레이블: f, 변환된 숫자: 5\n",
      "원래 레이블: g, 변환된 숫자: 6\n",
      "원래 레이블: h, 변환된 숫자: 7\n",
      "원래 레이블: i, 변환된 숫자: 8\n",
      "원래 레이블: j, 변환된 숫자: 9\n",
      "원래 레이블: k, 변환된 숫자: 10\n",
      "원래 레이블: l, 변환된 숫자: 11\n",
      "원래 레이블: m, 변환된 숫자: 12\n"
     ]
    }
   ],
   "source": [
    "le_subclass = LabelEncoder()\n",
    "train_y_encoded = le_subclass.fit_transform(train_y)\n",
    "\n",
    "# 변환된 레이블 확인\n",
    "for i, label in enumerate(le_subclass.classes_):\n",
    "    print(f\"원래 레이블: {label}, 변환된 숫자: {i}\")"
   ]
  },
  {
   "cell_type": "code",
   "execution_count": 60,
   "metadata": {},
   "outputs": [],
   "source": [
    "# train_x\n",
    "# 'Time_difference' 열을 문자열로 변환\n",
    "train_x['Time_difference'] = train_x['Time_difference'].astype(str)\n",
    "\n",
    "# 범주형 변수 인코딩\n",
    "categorical_columns = train_x.select_dtypes(include=['object', 'category']).columns\n",
    "ordinal_encoder = OrdinalEncoder(handle_unknown='use_encoded_value', unknown_value=-1)\n",
    "\n",
    "# 훈련 데이터 인코딩\n",
    "train_x_encoded = train_x.copy()\n",
    "train_x_encoded[categorical_columns] = ordinal_encoder.fit_transform(train_x[categorical_columns])"
   ]
  },
  {
   "cell_type": "code",
   "execution_count": 61,
   "metadata": {},
   "outputs": [],
   "source": [
    "train_x_encoded['Customer_Total_Authentication_Changes'] = train_x_encoded[\n",
    "    ['Customer_flag_change_of_authentication_1', 'Customer_flag_change_of_authentication_2', \n",
    "     'Customer_flag_change_of_authentication_3', 'Customer_flag_change_of_authentication_4']\n",
    "].sum(axis=1)\n",
    "\n",
    "train_x_encoded['Customer_Total_Malicious_Behavior_Flags'] = train_x_encoded[\n",
    "    ['Customer_flag_terminal_malicious_behavior_1', 'Customer_flag_terminal_malicious_behavior_2', \n",
    "     'Customer_flag_terminal_malicious_behavior_3', 'Customer_flag_terminal_malicious_behavior_4', \n",
    "     'Customer_flag_terminal_malicious_behavior_5', 'Customer_flag_terminal_malicious_behavior_6']\n",
    "].sum(axis=1)\n",
    "\n",
    "train_x_encoded['Daily_Usage_Ratio'] = train_x_encoded['Account_amount_daily_limit'] / train_x_encoded['Account_remaining_amount_daily_limit_exceeded']\n",
    "\n",
    "train_x_encoded['Transaction_Amount_per_Distance'] = train_x_encoded['Transaction_Amount'] / train_x_encoded['Distance']\n",
    "train_x_encoded['Channel_Distance_Interaction'] = train_x_encoded['Channel'] * train_x_encoded['Distance']\n",
    "train_x_encoded['Abs_Transaction_Amount'] = train_x_encoded['Transaction_Amount'].abs()\n",
    "train_x_encoded['Transaction_Amount_per_Transaction_Count'] = train_x_encoded['Transaction_Amount'] / (train_x_encoded['Number_of_transaction_with_the_account'] + 1)\n",
    "\n",
    "train_x_encoded['Channel_Transaction_Count_Interaction'] = train_x_encoded['Channel'] * train_x_encoded['Number_of_transaction_with_the_account']\n",
    "train_x_encoded['Flag_Transaction_Interaction'] = train_x_encoded['Flag_deposit_more_than_tenMillion'] * train_x_encoded['Transaction_Amount']\n",
    "\n",
    "train_x_encoded['Transaction_Failure_Rate'] = train_x_encoded['Transaction_Failure_Status'].mean()\n",
    "\n",
    "train_x_encoded['ATM_Limit_Increased'] = (train_x_encoded['Customer_increase_atm_limit'] > 0).astype(int)\n",
    "\n",
    "# train_x_encoded['Transaction_Weekday'] = pd.to_datetime(train_x_encoded['Transaction_Datetime']).dt.weekday\n",
    "\n",
    "train_x_encoded.replace([np.inf, -np.inf], np.nan, inplace=True)\n",
    "train_x_encoded.fillna(train_x_encoded.mean(), inplace=True)\n"
   ]
  },
  {
   "cell_type": "code",
   "execution_count": 62,
   "metadata": {},
   "outputs": [],
   "source": [
    "# 특성 순서 저장\n",
    "feature_order = train_x_encoded.columns.tolist()"
   ]
  },
  {
   "cell_type": "markdown",
   "metadata": {},
   "source": [
    "### test"
   ]
  },
  {
   "cell_type": "code",
   "execution_count": 63,
   "metadata": {},
   "outputs": [],
   "source": [
    "# 테스트 데이터 인코딩\n",
    "test_x_encoded = test_x.copy()\n",
    "test_x_encoded[categorical_columns] = ordinal_encoder.transform(test_x[categorical_columns])"
   ]
  },
  {
   "cell_type": "code",
   "execution_count": 64,
   "metadata": {},
   "outputs": [],
   "source": [
    "test_x_encoded['Customer_Total_Authentication_Changes'] = test_x_encoded[\n",
    "    ['Customer_flag_change_of_authentication_1', 'Customer_flag_change_of_authentication_2', \n",
    "     'Customer_flag_change_of_authentication_3', 'Customer_flag_change_of_authentication_4']\n",
    "].sum(axis=1)\n",
    "\n",
    "test_x_encoded['Customer_Total_Malicious_Behavior_Flags'] = test_x_encoded[\n",
    "    ['Customer_flag_terminal_malicious_behavior_1', 'Customer_flag_terminal_malicious_behavior_2', \n",
    "     'Customer_flag_terminal_malicious_behavior_3', 'Customer_flag_terminal_malicious_behavior_4', \n",
    "     'Customer_flag_terminal_malicious_behavior_5', 'Customer_flag_terminal_malicious_behavior_6']\n",
    "].sum(axis=1)\n",
    "\n",
    "test_x_encoded['Daily_Usage_Ratio'] = test_x_encoded['Account_amount_daily_limit'] / test_x_encoded['Account_remaining_amount_daily_limit_exceeded']\n",
    "\n",
    "test_x_encoded['Transaction_Amount_per_Distance'] = test_x_encoded['Transaction_Amount'] / test_x_encoded['Distance']\n",
    "test_x_encoded['Channel_Distance_Interaction'] = test_x_encoded['Channel'] * test_x_encoded['Distance']\n",
    "test_x_encoded['Abs_Transaction_Amount'] = test_x_encoded['Transaction_Amount'].abs()\n",
    "test_x_encoded['Transaction_Amount_per_Transaction_Count'] = test_x_encoded['Transaction_Amount'] / (test_x_encoded['Number_of_transaction_with_the_account'] + 1)\n",
    "\n",
    "test_x_encoded['Channel_Transaction_Count_Interaction'] = test_x_encoded['Channel'] * test_x_encoded['Number_of_transaction_with_the_account']\n",
    "test_x_encoded['Flag_Transaction_Interaction'] = test_x_encoded['Flag_deposit_more_than_tenMillion'] * test_x_encoded['Transaction_Amount']\n",
    "test_x_encoded['Transaction_Failure_Rate'] = test_x_encoded['Transaction_Failure_Status'].mean()\n",
    "\n",
    "test_x_encoded['ATM_Limit_Increased'] = (test_x_encoded['Customer_increase_atm_limit'] > 0).astype(int)\n",
    "\n",
    "# test_x_encoded['Transaction_Weekday'] = pd.to_datetime(test_x_encoded['Transaction_Datetime']).dt.weekday\n",
    "\n",
    "test_x_encoded.replace([np.inf, -np.inf], np.nan, inplace=True)\n",
    "test_x_encoded.fillna(test_x_encoded.mean(), inplace=True)"
   ]
  },
  {
   "cell_type": "code",
   "execution_count": 65,
   "metadata": {},
   "outputs": [],
   "source": [
    "# 특성 순서 맞추기 및 데이터 타입 일치\n",
    "test_x_encoded = test_x_encoded[feature_order]\n",
    "# test_x_encoded = test_x_encoded[selected_features]\n",
    "# for col in selected_features:\n",
    "for col in feature_order:\n",
    "    test_x_encoded[col] = test_x_encoded[col].astype(train_x_encoded[col].dtype)"
   ]
  },
  {
   "cell_type": "code",
   "execution_count": 66,
   "metadata": {},
   "outputs": [
    {
     "data": {
      "text/plain": [
       "(120065, 73)"
      ]
     },
     "execution_count": 66,
     "metadata": {},
     "output_type": "execute_result"
    }
   ],
   "source": [
    "train_x_encoded.shape"
   ]
  },
  {
   "cell_type": "code",
   "execution_count": 67,
   "metadata": {},
   "outputs": [
    {
     "data": {
      "text/plain": [
       "(120000, 73)"
      ]
     },
     "execution_count": 67,
     "metadata": {},
     "output_type": "execute_result"
    }
   ],
   "source": [
    "test_x_encoded.shape"
   ]
  },
  {
   "cell_type": "code",
   "execution_count": 68,
   "metadata": {},
   "outputs": [],
   "source": [
    "train_x_encoded['Fraud_Type'] = train_y_encoded"
   ]
  },
  {
   "cell_type": "code",
   "execution_count": 69,
   "metadata": {},
   "outputs": [
    {
     "name": "stdout",
     "output_type": "stream",
     "text": [
      "Fraud_Type\n",
      "12    475\n",
      "0     105\n",
      "1     105\n",
      "2     105\n",
      "3     105\n",
      "4     105\n",
      "5     105\n",
      "6     105\n",
      "7     105\n",
      "8     105\n",
      "9     105\n",
      "10    105\n",
      "11    105\n",
      "dtype: int64\n"
     ]
    }
   ],
   "source": [
    "# 비율 조정을 위한 타겟 클래스별 비율 딕셔너리 (예: Normal 비율 1.0, 다른 클래스는 원하는 비율로 조정)\n",
    "target_ratios = {\n",
    "    0: 1.0,\n",
    "    1: 1.0,\n",
    "    2: 1.0,\n",
    "    3: 1.0,\n",
    "    4: 1.0,\n",
    "    5: 1.0,\n",
    "    6: 1.0,\n",
    "    7: 1.0,\n",
    "    8: 1.0,\n",
    "    9: 1.0,\n",
    "    10: 1.0,\n",
    "    11: 1.0,\n",
    "    12: 0.004,\n",
    "}\n",
    "\n",
    "# 각 클래스별로 샘플링하여 새로운 데이터프레임 생성\n",
    "df_list = []\n",
    "for target_class, ratio in target_ratios.items():\n",
    "    df_class = train_x_encoded[train_x_encoded['Fraud_Type'] == target_class]\n",
    "    num_class = len(df_class)\n",
    "    \n",
    "    # 비율에 맞게 샘플링\n",
    "    df_sampled = df_class.sample(\n",
    "        n=int(num_class * ratio), replace=False, random_state=42\n",
    "    )\n",
    "    \n",
    "    # 리스트에 추가\n",
    "    df_list.append(df_sampled)\n",
    "\n",
    "# 샘플링된 데이터프레임 결합\n",
    "df_concat = pd.concat(df_list, axis=0).reset_index(drop=True)\n",
    "\n",
    "# 새로운 데이터프레임의 클래스별 카운트를 확인\n",
    "print(df_concat.value_counts('Fraud_Type'))"
   ]
  },
  {
   "cell_type": "code",
   "execution_count": 70,
   "metadata": {},
   "outputs": [],
   "source": [
    "train_x_encoded_down = df_concat.drop(columns=['Fraud_Type'])\n",
    "train_y_encoded_down = df_concat['Fraud_Type']"
   ]
  },
  {
   "cell_type": "code",
   "execution_count": 71,
   "metadata": {},
   "outputs": [
    {
     "name": "stdout",
     "output_type": "stream",
     "text": [
      "전체 모델의 피처 중요도:\n"
     ]
    },
    {
     "data": {
      "text/html": [
       "<div>\n",
       "<style scoped>\n",
       "    .dataframe tbody tr th:only-of-type {\n",
       "        vertical-align: middle;\n",
       "    }\n",
       "\n",
       "    .dataframe tbody tr th {\n",
       "        vertical-align: top;\n",
       "    }\n",
       "\n",
       "    .dataframe thead th {\n",
       "        text-align: right;\n",
       "    }\n",
       "</style>\n",
       "<table border=\"1\" class=\"dataframe\">\n",
       "  <thead>\n",
       "    <tr style=\"text-align: right;\">\n",
       "      <th></th>\n",
       "      <th>Feature</th>\n",
       "      <th>Importance</th>\n",
       "    </tr>\n",
       "  </thead>\n",
       "  <tbody>\n",
       "    <tr>\n",
       "      <th>70</th>\n",
       "      <td>Flag_Transaction_Interaction</td>\n",
       "      <td>0.513241</td>\n",
       "    </tr>\n",
       "    <tr>\n",
       "      <th>38</th>\n",
       "      <td>Channel</td>\n",
       "      <td>0.411058</td>\n",
       "    </tr>\n",
       "    <tr>\n",
       "      <th>50</th>\n",
       "      <td>Distance</td>\n",
       "      <td>0.380328</td>\n",
       "    </tr>\n",
       "    <tr>\n",
       "      <th>37</th>\n",
       "      <td>Transaction_Amount</td>\n",
       "      <td>0.325015</td>\n",
       "    </tr>\n",
       "    <tr>\n",
       "      <th>58</th>\n",
       "      <td>Number_of_transaction_with_the_account</td>\n",
       "      <td>0.279957</td>\n",
       "    </tr>\n",
       "  </tbody>\n",
       "</table>\n",
       "</div>"
      ],
      "text/plain": [
       "                                   Feature  Importance\n",
       "70            Flag_Transaction_Interaction    0.513241\n",
       "38                                 Channel    0.411058\n",
       "50                                Distance    0.380328\n",
       "37                      Transaction_Amount    0.325015\n",
       "58  Number_of_transaction_with_the_account    0.279957"
      ]
     },
     "execution_count": 71,
     "metadata": {},
     "output_type": "execute_result"
    }
   ],
   "source": [
    "import xgboost as xgb\n",
    "import shap\n",
    "import numpy as np\n",
    "import pandas as pd\n",
    "from sklearn.model_selection import train_test_split\n",
    "from sklearn.metrics import accuracy_score\n",
    "\n",
    "X_train, X_test, y_train, y_test = train_test_split(train_x_encoded_down, train_y_encoded_down, test_size=0.25, random_state=42)\n",
    "\n",
    "# XGBoost 모델 학습\n",
    "model = xgb.XGBClassifier(objective=\"multi:softprob\", eval_metric=\"mlogloss\")\n",
    "model.fit(X_train, y_train)\n",
    "\n",
    "# SHAP 값 계산\n",
    "explainer = shap.TreeExplainer(model)\n",
    "shap_values = explainer.shap_values(X_test)\n",
    "\n",
    "# # 각 클래스별로 가장 중요한 피처 확인\n",
    "# for i in range(len(shap_values)):\n",
    "#     print(f\"클래스 {i}에 대한 피처 중요도 순위:\")\n",
    "#     shap_importance = np.abs(shap_values[i]).mean(axis=0)\n",
    "#     feature_importance_df = pd.DataFrame({\n",
    "#         'Feature': X_test.columns,\n",
    "#         'Importance': shap_importance\n",
    "#     }).sort_values(by='Importance', ascending=False)\n",
    "#     print(feature_importance_df.head())\n",
    "\n",
    "    # # SHAP 값 시각화\n",
    "    # shap.summary_plot(shap_values[i], X_test, show=False)\n",
    "\n",
    "# 전체 SHAP 값 계산 (평균 절대값을 사용하여 피처 중요도 확인)\n",
    "shap_values_mean = np.mean([np.abs(s).mean(axis=0) for s in shap_values], axis=0)\n",
    "\n",
    "# 피처 중요도 데이터프레임 생성 및 정렬\n",
    "overall_importance_df = pd.DataFrame({\n",
    "    'Feature': X_test.columns,\n",
    "    'Importance': shap_values_mean\n",
    "}).sort_values(by='Importance', ascending=False)\n",
    "\n",
    "print(\"전체 모델의 피처 중요도:\")\n",
    "overall_importance_df.head()\n",
    "# # 전체 모델의 피처 중요도 시각화\n",
    "# shap.summary_plot(np.mean(shap_values, axis=0), X_test)\n"
   ]
  },
  {
   "cell_type": "code",
   "execution_count": 72,
   "metadata": {},
   "outputs": [
    {
     "name": "stdout",
     "output_type": "stream",
     "text": [
      "임계값 이상인 피처들:\n",
      "                                        Feature  Importance\n",
      "70                 Flag_Transaction_Interaction    0.513241\n",
      "38                                      Channel    0.411058\n",
      "50                                     Distance    0.380328\n",
      "37                           Transaction_Amount    0.325015\n",
      "58       Number_of_transaction_with_the_account    0.279957\n",
      "..                                          ...         ...\n",
      "7      Customer_flag_change_of_authentication_2    0.005232\n",
      "16  Customer_flag_terminal_malicious_behavior_3    0.004120\n",
      "14  Customer_flag_terminal_malicious_behavior_1    0.000857\n",
      "17  Customer_flag_terminal_malicious_behavior_4    0.000629\n",
      "18  Customer_flag_terminal_malicious_behavior_5    0.000543\n",
      "\n",
      "[66 rows x 2 columns]\n"
     ]
    }
   ],
   "source": [
    "# 임계값 설정 \n",
    "threshold = 0\n",
    "\n",
    "# 임계값 이상인 피처들만 필터링\n",
    "selected_features = overall_importance_df[overall_importance_df['Importance'] > threshold]\n",
    "\n",
    "# 필터링된 피처 목록 출력\n",
    "print(\"임계값 이상인 피처들:\")\n",
    "print(selected_features)\n",
    "\n",
    "# 필터링된 피처 이름 리스트로 추출\n",
    "selected_feature_names = selected_features['Feature'].tolist()"
   ]
  },
  {
   "cell_type": "code",
   "execution_count": 73,
   "metadata": {},
   "outputs": [],
   "source": [
    "train_x_shap = train_x_encoded_down[selected_feature_names]\n",
    "test_x_shap = test_x_encoded[selected_feature_names]"
   ]
  },
  {
   "cell_type": "code",
   "execution_count": 74,
   "metadata": {},
   "outputs": [
    {
     "name": "stderr",
     "output_type": "stream",
     "text": [
      "[I 2024-08-28 18:24:28,065] A new study created in memory with name: no-name-9ebabff7-20dd-45f5-8c80-a5b8a24d725d\n"
     ]
    },
    {
     "name": "stdout",
     "output_type": "stream",
     "text": [
      "0:\tlearn: 2.5578441\ttotal: 15.9ms\tremaining: 1.68s\n",
      "106:\tlearn: 2.1326242\ttotal: 1.59s\tremaining: 0us\n",
      "0:\tlearn: 2.5577627\ttotal: 14.7ms\tremaining: 1.56s\n",
      "106:\tlearn: 2.1409439\ttotal: 1.36s\tremaining: 0us\n",
      "0:\tlearn: 2.5570448\ttotal: 14.1ms\tremaining: 1.5s\n"
     ]
    },
    {
     "name": "stderr",
     "output_type": "stream",
     "text": [
      "[I 2024-08-28 18:24:32,958] Trial 0 finished with value: 0.41137774272763816 and parameters: {'depth': 5, 'learning_rate': 0.0043581132654134675, 'iterations': 107}. Best is trial 0 with value: 0.41137774272763816.\n"
     ]
    },
    {
     "name": "stdout",
     "output_type": "stream",
     "text": [
      "106:\tlearn: 2.1417791\ttotal: 1.41s\tremaining: 0us\n",
      "0:\tlearn: 2.4007353\ttotal: 13.7ms\tremaining: 1.5s\n",
      "109:\tlearn: 0.6820183\ttotal: 1.38s\tremaining: 0us\n",
      "0:\tlearn: 2.3982330\ttotal: 12.7ms\tremaining: 1.39s\n",
      "109:\tlearn: 0.6982717\ttotal: 1.36s\tremaining: 0us\n",
      "0:\tlearn: 2.3832010\ttotal: 14.3ms\tremaining: 1.56s\n"
     ]
    },
    {
     "name": "stderr",
     "output_type": "stream",
     "text": [
      "[I 2024-08-28 18:24:37,540] Trial 1 finished with value: 0.5745801813712608 and parameters: {'depth': 5, 'learning_rate': 0.10534046874092955, 'iterations': 110}. Best is trial 1 with value: 0.5745801813712608.\n"
     ]
    },
    {
     "name": "stdout",
     "output_type": "stream",
     "text": [
      "109:\tlearn: 0.6871041\ttotal: 1.36s\tremaining: 0us\n",
      "0:\tlearn: 2.5635882\ttotal: 109ms\tremaining: 35s\n",
      "200:\tlearn: 2.3728945\ttotal: 25.3s\tremaining: 15.4s\n",
      "322:\tlearn: 2.2778684\ttotal: 41.2s\tremaining: 0us\n",
      "0:\tlearn: 2.5637925\ttotal: 115ms\tremaining: 37.2s\n",
      "200:\tlearn: 2.3747537\ttotal: 26.7s\tremaining: 16.2s\n",
      "322:\tlearn: 2.2807222\ttotal: 43.2s\tremaining: 0us\n",
      "0:\tlearn: 2.5630381\ttotal: 112ms\tremaining: 36s\n",
      "200:\tlearn: 2.3756925\ttotal: 26.9s\tremaining: 16.3s\n"
     ]
    },
    {
     "name": "stderr",
     "output_type": "stream",
     "text": [
      "[I 2024-08-28 18:26:46,279] Trial 2 finished with value: 0.44382467214242904 and parameters: {'depth': 8, 'learning_rate': 0.0010847344161811357, 'iterations': 323}. Best is trial 1 with value: 0.5745801813712608.\n"
     ]
    },
    {
     "name": "stdout",
     "output_type": "stream",
     "text": [
      "322:\tlearn: 2.2819819\ttotal: 43.1s\tremaining: 0us\n",
      "0:\tlearn: 2.5617685\ttotal: 6.95ms\tremaining: 1.99s\n",
      "200:\tlearn: 2.1901586\ttotal: 1.21s\tremaining: 517ms\n",
      "286:\tlearn: 2.0948387\ttotal: 1.72s\tremaining: 0us\n",
      "0:\tlearn: 2.5621429\ttotal: 7.11ms\tremaining: 2.03s\n",
      "200:\tlearn: 2.1900125\ttotal: 1.21s\tremaining: 518ms\n",
      "286:\tlearn: 2.0992787\ttotal: 1.73s\tremaining: 0us\n",
      "0:\tlearn: 2.5614227\ttotal: 6.65ms\tremaining: 1.9s\n",
      "200:\tlearn: 2.1902462\ttotal: 1.22s\tremaining: 522ms\n"
     ]
    },
    {
     "name": "stderr",
     "output_type": "stream",
     "text": [
      "[I 2024-08-28 18:26:52,387] Trial 3 finished with value: 0.4008472396970902 and parameters: {'depth': 4, 'learning_rate': 0.0019212607592431063, 'iterations': 287}. Best is trial 1 with value: 0.5745801813712608.\n"
     ]
    },
    {
     "name": "stdout",
     "output_type": "stream",
     "text": [
      "286:\tlearn: 2.0970170\ttotal: 1.74s\tremaining: 0us\n",
      "0:\tlearn: 2.5632516\ttotal: 6.63ms\tremaining: 988ms\n",
      "149:\tlearn: 2.3709461\ttotal: 894ms\tremaining: 0us\n",
      "0:\tlearn: 2.5634515\ttotal: 6.74ms\tremaining: 1s\n",
      "149:\tlearn: 2.3712127\ttotal: 925ms\tremaining: 0us\n",
      "0:\tlearn: 2.5630670\ttotal: 7.2ms\tremaining: 1.07s\n"
     ]
    },
    {
     "name": "stderr",
     "output_type": "stream",
     "text": [
      "[I 2024-08-28 18:26:55,741] Trial 4 finished with value: 0.3470019246708505 and parameters: {'depth': 4, 'learning_rate': 0.0010251154341790463, 'iterations': 150}. Best is trial 1 with value: 0.5745801813712608.\n"
     ]
    },
    {
     "name": "stdout",
     "output_type": "stream",
     "text": [
      "149:\tlearn: 2.3728903\ttotal: 939ms\tremaining: 0us\n",
      "0:\tlearn: 2.5609280\ttotal: 7.01ms\tremaining: 1.31s\n",
      "187:\tlearn: 2.1476709\ttotal: 1.17s\tremaining: 0us\n",
      "0:\tlearn: 2.5614013\ttotal: 6.59ms\tremaining: 1.23s\n",
      "187:\tlearn: 2.1470019\ttotal: 1.15s\tremaining: 0us\n",
      "0:\tlearn: 2.5604909\ttotal: 7.58ms\tremaining: 1.42s\n"
     ]
    },
    {
     "name": "stderr",
     "output_type": "stream",
     "text": [
      "[I 2024-08-28 18:26:59,860] Trial 5 finished with value: 0.3766693316854776 and parameters: {'depth': 4, 'learning_rate': 0.0024293805878051354, 'iterations': 188}. Best is trial 1 with value: 0.5745801813712608.\n"
     ]
    },
    {
     "name": "stdout",
     "output_type": "stream",
     "text": [
      "187:\tlearn: 2.1479548\ttotal: 1.12s\tremaining: 0us\n",
      "0:\tlearn: 2.5171503\ttotal: 116ms\tremaining: 1m 8s\n",
      "200:\tlearn: 0.6953954\ttotal: 27.3s\tremaining: 52.8s\n",
      "400:\tlearn: 0.3065912\ttotal: 54.6s\tremaining: 25.7s\n",
      "589:\tlearn: 0.1824314\ttotal: 1m 20s\tremaining: 0us\n",
      "0:\tlearn: 2.5242552\ttotal: 112ms\tremaining: 1m 6s\n",
      "200:\tlearn: 0.7003905\ttotal: 26.7s\tremaining: 51.7s\n",
      "400:\tlearn: 0.3060017\ttotal: 53.7s\tremaining: 25.3s\n",
      "589:\tlearn: 0.1814465\ttotal: 1m 18s\tremaining: 0us\n",
      "0:\tlearn: 2.4979983\ttotal: 108ms\tremaining: 1m 3s\n",
      "200:\tlearn: 0.6975415\ttotal: 26.5s\tremaining: 51.2s\n",
      "400:\tlearn: 0.3067441\ttotal: 52.7s\tremaining: 24.8s\n"
     ]
    },
    {
     "name": "stderr",
     "output_type": "stream",
     "text": [
      "[I 2024-08-28 18:30:59,161] Trial 6 finished with value: 0.5598144959599215 and parameters: {'depth': 8, 'learning_rate': 0.03844909938854531, 'iterations': 590}. Best is trial 1 with value: 0.5745801813712608.\n"
     ]
    },
    {
     "name": "stdout",
     "output_type": "stream",
     "text": [
      "589:\tlearn: 0.1830700\ttotal: 1m 18s\tremaining: 0us\n",
      "0:\tlearn: 2.5303517\ttotal: 29.3ms\tremaining: 9.63s\n",
      "200:\tlearn: 1.1820618\ttotal: 5.76s\tremaining: 3.69s\n",
      "329:\tlearn: 0.8930635\ttotal: 9.56s\tremaining: 0us\n",
      "0:\tlearn: 2.5363919\ttotal: 28.5ms\tremaining: 9.38s\n",
      "200:\tlearn: 1.2036320\ttotal: 5.7s\tremaining: 3.65s\n",
      "329:\tlearn: 0.9122810\ttotal: 9.41s\tremaining: 0us\n",
      "0:\tlearn: 2.5230150\ttotal: 27.7ms\tremaining: 9.1s\n",
      "200:\tlearn: 1.1930630\ttotal: 5.72s\tremaining: 3.67s\n"
     ]
    },
    {
     "name": "stderr",
     "output_type": "stream",
     "text": [
      "[I 2024-08-28 18:31:28,817] Trial 7 finished with value: 0.5308745271170038 and parameters: {'depth': 6, 'learning_rate': 0.02058070599603535, 'iterations': 330}. Best is trial 1 with value: 0.5745801813712608.\n"
     ]
    },
    {
     "name": "stdout",
     "output_type": "stream",
     "text": [
      "329:\tlearn: 0.9101861\ttotal: 9.47s\tremaining: 0us\n",
      "0:\tlearn: 2.5630585\ttotal: 14.9ms\tremaining: 8.56s\n",
      "200:\tlearn: 2.3002513\ttotal: 2.61s\tremaining: 4.84s\n",
      "400:\tlearn: 2.1379985\ttotal: 5.17s\tremaining: 2.23s\n",
      "573:\tlearn: 2.0292979\ttotal: 7.54s\tremaining: 0us\n",
      "0:\tlearn: 2.5630371\ttotal: 16.1ms\tremaining: 9.22s\n",
      "200:\tlearn: 2.3063133\ttotal: 2.56s\tremaining: 4.76s\n",
      "400:\tlearn: 2.1475492\ttotal: 5.18s\tremaining: 2.23s\n",
      "573:\tlearn: 2.0419647\ttotal: 7.35s\tremaining: 0us\n",
      "0:\tlearn: 2.5628456\ttotal: 13.2ms\tremaining: 7.56s\n",
      "200:\tlearn: 2.3045879\ttotal: 2.59s\tremaining: 4.81s\n",
      "400:\tlearn: 2.1433930\ttotal: 5.09s\tremaining: 2.2s\n"
     ]
    },
    {
     "name": "stderr",
     "output_type": "stream",
     "text": [
      "[I 2024-08-28 18:31:52,597] Trial 8 finished with value: 0.4345079149689152 and parameters: {'depth': 5, 'learning_rate': 0.0011584730033533403, 'iterations': 574}. Best is trial 1 with value: 0.5745801813712608.\n"
     ]
    },
    {
     "name": "stdout",
     "output_type": "stream",
     "text": [
      "573:\tlearn: 2.0371763\ttotal: 7.25s\tremaining: 0us\n",
      "0:\tlearn: 2.5554968\ttotal: 15.4ms\tremaining: 4.4s\n",
      "200:\tlearn: 1.8167606\ttotal: 2.58s\tremaining: 1.09s\n",
      "285:\tlearn: 1.6694235\ttotal: 3.66s\tremaining: 0us\n",
      "0:\tlearn: 2.5553881\ttotal: 13ms\tremaining: 3.7s\n",
      "200:\tlearn: 1.8321494\ttotal: 2.59s\tremaining: 1.09s\n",
      "285:\tlearn: 1.6948218\ttotal: 3.68s\tremaining: 0us\n",
      "0:\tlearn: 2.5544339\ttotal: 16ms\tremaining: 4.57s\n",
      "200:\tlearn: 1.8267009\ttotal: 2.57s\tremaining: 1.08s\n"
     ]
    },
    {
     "name": "stderr",
     "output_type": "stream",
     "text": [
      "[I 2024-08-28 18:32:04,496] Trial 9 finished with value: 0.447361444273273 and parameters: {'depth': 5, 'learning_rate': 0.005800838810001111, 'iterations': 286}. Best is trial 1 with value: 0.5745801813712608.\n"
     ]
    },
    {
     "name": "stdout",
     "output_type": "stream",
     "text": [
      "285:\tlearn: 1.6839823\ttotal: 3.63s\tremaining: 0us\n",
      "0:\tlearn: 2.3289405\ttotal: 57.8ms\tremaining: 26.5s\n",
      "200:\tlearn: 0.1302108\ttotal: 13s\tremaining: 16.7s\n",
      "400:\tlearn: 0.0503428\ttotal: 26.5s\tremaining: 3.83s\n",
      "458:\tlearn: 0.0418249\ttotal: 29.9s\tremaining: 0us\n",
      "0:\tlearn: 2.3575692\ttotal: 58.6ms\tremaining: 26.8s\n",
      "200:\tlearn: 0.1352338\ttotal: 13.2s\tremaining: 16.9s\n",
      "400:\tlearn: 0.0509284\ttotal: 26.1s\tremaining: 3.77s\n",
      "458:\tlearn: 0.0424586\ttotal: 30.2s\tremaining: 0us\n",
      "0:\tlearn: 2.2624850\ttotal: 58.2ms\tremaining: 26.7s\n",
      "200:\tlearn: 0.1332964\ttotal: 13.8s\tremaining: 17.7s\n",
      "400:\tlearn: 0.0514489\ttotal: 26.5s\tremaining: 3.83s\n"
     ]
    },
    {
     "name": "stderr",
     "output_type": "stream",
     "text": [
      "[I 2024-08-28 18:33:36,319] Trial 10 finished with value: 0.5657770720084152 and parameters: {'depth': 7, 'learning_rate': 0.17327249912689377, 'iterations': 459}. Best is trial 1 with value: 0.5745801813712608.\n"
     ]
    },
    {
     "name": "stdout",
     "output_type": "stream",
     "text": [
      "458:\tlearn: 0.0424749\ttotal: 30s\tremaining: 0us\n",
      "0:\tlearn: 2.3229037\ttotal: 61.4ms\tremaining: 29.5s\n",
      "200:\tlearn: 0.1259525\ttotal: 12.6s\tremaining: 17.7s\n",
      "400:\tlearn: 0.0483861\ttotal: 25.7s\tremaining: 5.18s\n",
      "481:\tlearn: 0.0376030\ttotal: 30.5s\tremaining: 0us\n",
      "0:\tlearn: 2.3521446\ttotal: 55.2ms\tremaining: 26.6s\n",
      "200:\tlearn: 0.1302016\ttotal: 11.9s\tremaining: 16.6s\n",
      "400:\tlearn: 0.0494618\ttotal: 24.3s\tremaining: 4.91s\n",
      "481:\tlearn: 0.0383891\ttotal: 29.2s\tremaining: 0us\n",
      "0:\tlearn: 2.2551143\ttotal: 53.1ms\tremaining: 25.6s\n",
      "200:\tlearn: 0.1276983\ttotal: 12s\tremaining: 16.8s\n",
      "400:\tlearn: 0.0497330\ttotal: 24s\tremaining: 4.85s\n"
     ]
    },
    {
     "name": "stderr",
     "output_type": "stream",
     "text": [
      "[I 2024-08-28 18:35:06,588] Trial 11 finished with value: 0.5767434267071355 and parameters: {'depth': 7, 'learning_rate': 0.17818192759530643, 'iterations': 482}. Best is trial 11 with value: 0.5767434267071355.\n"
     ]
    },
    {
     "name": "stdout",
     "output_type": "stream",
     "text": [
      "481:\tlearn: 0.0386635\ttotal: 28.8s\tremaining: 0us\n",
      "0:\tlearn: 2.3010863\ttotal: 56.1ms\tremaining: 24.5s\n",
      "200:\tlearn: 0.1096524\ttotal: 12.2s\tremaining: 14.4s\n",
      "400:\tlearn: 0.0418127\ttotal: 24s\tremaining: 2.21s\n",
      "437:\tlearn: 0.0369574\ttotal: 26.2s\tremaining: 0us\n",
      "0:\tlearn: 2.3324541\ttotal: 57ms\tremaining: 24.9s\n",
      "200:\tlearn: 0.1167776\ttotal: 12.2s\tremaining: 14.4s\n",
      "400:\tlearn: 0.0439433\ttotal: 24.3s\tremaining: 2.24s\n",
      "437:\tlearn: 0.0388564\ttotal: 26.6s\tremaining: 0us\n",
      "0:\tlearn: 2.2287382\ttotal: 55.5ms\tremaining: 24.2s\n",
      "200:\tlearn: 0.1143760\ttotal: 12.3s\tremaining: 14.5s\n",
      "400:\tlearn: 0.0442814\ttotal: 24.8s\tremaining: 2.29s\n"
     ]
    },
    {
     "name": "stderr",
     "output_type": "stream",
     "text": [
      "[I 2024-08-28 18:36:27,880] Trial 12 finished with value: 0.5697751470929671 and parameters: {'depth': 7, 'learning_rate': 0.19624712737915948, 'iterations': 438}. Best is trial 11 with value: 0.5767434267071355.\n"
     ]
    },
    {
     "name": "stdout",
     "output_type": "stream",
     "text": [
      "437:\tlearn: 0.0392252\ttotal: 27s\tremaining: 0us\n",
      "0:\tlearn: 2.4490521\ttotal: 29.3ms\tremaining: 13.6s\n",
      "200:\tlearn: 0.4900743\ttotal: 5.7s\tremaining: 7.51s\n",
      "400:\tlearn: 0.2399080\ttotal: 11.7s\tremaining: 1.9s\n",
      "465:\tlearn: 0.2033077\ttotal: 13.6s\tremaining: 0us\n",
      "0:\tlearn: 2.4689025\ttotal: 27.9ms\tremaining: 13s\n",
      "200:\tlearn: 0.4946578\ttotal: 5.86s\tremaining: 7.72s\n",
      "400:\tlearn: 0.2446446\ttotal: 11.6s\tremaining: 1.88s\n",
      "465:\tlearn: 0.2028865\ttotal: 13.4s\tremaining: 0us\n",
      "0:\tlearn: 2.4249056\ttotal: 27.1ms\tremaining: 12.6s\n",
      "200:\tlearn: 0.4825484\ttotal: 5.76s\tremaining: 7.59s\n",
      "400:\tlearn: 0.2445287\ttotal: 11.8s\tremaining: 1.91s\n"
     ]
    },
    {
     "name": "stderr",
     "output_type": "stream",
     "text": [
      "[I 2024-08-28 18:37:10,265] Trial 13 finished with value: 0.581000769624026 and parameters: {'depth': 6, 'learning_rate': 0.07031576722740382, 'iterations': 466}. Best is trial 13 with value: 0.581000769624026.\n"
     ]
    },
    {
     "name": "stdout",
     "output_type": "stream",
     "text": [
      "465:\tlearn: 0.2061353\ttotal: 13.7s\tremaining: 0us\n",
      "0:\tlearn: 2.4864814\ttotal: 60.3ms\tremaining: 28.2s\n",
      "200:\tlearn: 0.5222336\ttotal: 13s\tremaining: 17.3s\n",
      "400:\tlearn: 0.2358111\ttotal: 24.6s\tremaining: 4.17s\n",
      "468:\tlearn: 0.1917755\ttotal: 28.6s\tremaining: 0us\n",
      "0:\tlearn: 2.4966787\ttotal: 56.9ms\tremaining: 26.6s\n",
      "200:\tlearn: 0.5410839\ttotal: 12.1s\tremaining: 16.1s\n",
      "400:\tlearn: 0.2438988\ttotal: 24.4s\tremaining: 4.14s\n",
      "468:\tlearn: 0.2006501\ttotal: 28.6s\tremaining: 0us\n",
      "0:\tlearn: 2.4623940\ttotal: 51.9ms\tremaining: 24.3s\n",
      "200:\tlearn: 0.5282376\ttotal: 11.6s\tremaining: 15.4s\n",
      "400:\tlearn: 0.2423402\ttotal: 22.9s\tremaining: 3.87s\n"
     ]
    },
    {
     "name": "stderr",
     "output_type": "stream",
     "text": [
      "[I 2024-08-28 18:38:35,934] Trial 14 finished with value: 0.5716021770548295 and parameters: {'depth': 7, 'learning_rate': 0.05468553986038975, 'iterations': 469}. Best is trial 13 with value: 0.581000769624026.\n"
     ]
    },
    {
     "name": "stdout",
     "output_type": "stream",
     "text": [
      "468:\tlearn: 0.2001367\ttotal: 26.7s\tremaining: 0us\n",
      "0:\tlearn: 2.4359475\ttotal: 27.1ms\tremaining: 14.4s\n",
      "200:\tlearn: 0.4381927\ttotal: 5.51s\tremaining: 9.05s\n",
      "400:\tlearn: 0.2088176\ttotal: 11.1s\tremaining: 3.6s\n",
      "530:\tlearn: 0.1507579\ttotal: 14.8s\tremaining: 0us\n",
      "0:\tlearn: 2.4579557\ttotal: 28.1ms\tremaining: 14.9s\n",
      "200:\tlearn: 0.4471734\ttotal: 5.57s\tremaining: 9.14s\n",
      "400:\tlearn: 0.2120902\ttotal: 11.2s\tremaining: 3.62s\n",
      "530:\tlearn: 0.1509256\ttotal: 14.8s\tremaining: 0us\n",
      "0:\tlearn: 2.4091734\ttotal: 27.2ms\tremaining: 14.4s\n",
      "200:\tlearn: 0.4359839\ttotal: 5.56s\tremaining: 9.13s\n",
      "400:\tlearn: 0.2131841\ttotal: 11.1s\tremaining: 3.6s\n"
     ]
    },
    {
     "name": "stderr",
     "output_type": "stream",
     "text": [
      "[I 2024-08-28 18:39:21,961] Trial 15 finished with value: 0.5928373973266553 and parameters: {'depth': 6, 'learning_rate': 0.07855589541710582, 'iterations': 531}. Best is trial 15 with value: 0.5928373973266553.\n"
     ]
    },
    {
     "name": "stdout",
     "output_type": "stream",
     "text": [
      "530:\tlearn: 0.1485750\ttotal: 14.8s\tremaining: 0us\n",
      "0:\tlearn: 2.4661718\ttotal: 28.4ms\tremaining: 15s\n",
      "200:\tlearn: 0.5655648\ttotal: 5.55s\tremaining: 9.09s\n",
      "400:\tlearn: 0.2848995\ttotal: 11.1s\tremaining: 3.57s\n",
      "529:\tlearn: 0.2101182\ttotal: 14.6s\tremaining: 0us\n",
      "0:\tlearn: 2.4831704\ttotal: 28.9ms\tremaining: 15.3s\n",
      "200:\tlearn: 0.5744757\ttotal: 5.56s\tremaining: 9.1s\n",
      "400:\tlearn: 0.2936587\ttotal: 11.1s\tremaining: 3.58s\n",
      "529:\tlearn: 0.2150138\ttotal: 14.7s\tremaining: 0us\n",
      "0:\tlearn: 2.4454984\ttotal: 29.7ms\tremaining: 15.7s\n",
      "200:\tlearn: 0.5643954\ttotal: 5.55s\tremaining: 9.08s\n",
      "400:\tlearn: 0.2928205\ttotal: 11.1s\tremaining: 3.56s\n"
     ]
    },
    {
     "name": "stderr",
     "output_type": "stream",
     "text": [
      "[I 2024-08-28 18:40:07,632] Trial 16 finished with value: 0.5871891712291477 and parameters: {'depth': 6, 'learning_rate': 0.05965482495222645, 'iterations': 530}. Best is trial 15 with value: 0.5928373973266553.\n"
     ]
    },
    {
     "name": "stdout",
     "output_type": "stream",
     "text": [
      "529:\tlearn: 0.2172959\ttotal: 14.6s\tremaining: 0us\n",
      "0:\tlearn: 2.5282592\ttotal: 27.2ms\tremaining: 14.5s\n",
      "200:\tlearn: 1.1490733\ttotal: 5.53s\tremaining: 9.22s\n",
      "400:\tlearn: 0.7353996\ttotal: 11.1s\tremaining: 3.73s\n",
      "535:\tlearn: 0.5735166\ttotal: 14.8s\tremaining: 0us\n",
      "0:\tlearn: 2.5346622\ttotal: 29.3ms\tremaining: 15.7s\n",
      "200:\tlearn: 1.1662248\ttotal: 5.63s\tremaining: 9.38s\n",
      "400:\tlearn: 0.7444105\ttotal: 11.2s\tremaining: 3.77s\n",
      "535:\tlearn: 0.5816468\ttotal: 14.9s\tremaining: 0us\n",
      "0:\tlearn: 2.5204815\ttotal: 27.4ms\tremaining: 14.7s\n",
      "200:\tlearn: 1.1630204\ttotal: 5.54s\tremaining: 9.23s\n",
      "400:\tlearn: 0.7501194\ttotal: 11.2s\tremaining: 3.77s\n"
     ]
    },
    {
     "name": "stderr",
     "output_type": "stream",
     "text": [
      "[I 2024-08-28 18:40:53,878] Trial 17 finished with value: 0.5672871440235062 and parameters: {'depth': 6, 'learning_rate': 0.02183522234688035, 'iterations': 536}. Best is trial 15 with value: 0.5928373973266553.\n"
     ]
    },
    {
     "name": "stdout",
     "output_type": "stream",
     "text": [
      "535:\tlearn: 0.5802257\ttotal: 14.9s\tremaining: 0us\n",
      "0:\tlearn: 2.5480661\ttotal: 26.7ms\tremaining: 10.6s\n",
      "200:\tlearn: 1.5576008\ttotal: 5.66s\tremaining: 5.52s\n",
      "396:\tlearn: 1.1999639\ttotal: 11.1s\tremaining: 0us\n",
      "0:\tlearn: 2.5510231\ttotal: 27ms\tremaining: 10.7s\n",
      "200:\tlearn: 1.5854673\ttotal: 5.54s\tremaining: 5.4s\n",
      "396:\tlearn: 1.2276280\ttotal: 11s\tremaining: 0us\n",
      "0:\tlearn: 2.5444761\ttotal: 28.4ms\tremaining: 11.2s\n",
      "200:\tlearn: 1.5782794\ttotal: 5.54s\tremaining: 5.4s\n"
     ]
    },
    {
     "name": "stderr",
     "output_type": "stream",
     "text": [
      "[I 2024-08-28 18:41:28,262] Trial 18 finished with value: 0.501863342932719 and parameters: {'depth': 6, 'learning_rate': 0.010006227953661538, 'iterations': 397}. Best is trial 15 with value: 0.5928373973266553.\n"
     ]
    },
    {
     "name": "stdout",
     "output_type": "stream",
     "text": [
      "396:\tlearn: 1.2197800\ttotal: 11s\tremaining: 0us\n",
      "0:\tlearn: 2.5103565\ttotal: 56.8ms\tremaining: 30.3s\n",
      "200:\tlearn: 0.7536897\ttotal: 11.8s\tremaining: 19.5s\n",
      "400:\tlearn: 0.3680169\ttotal: 23.3s\tremaining: 7.71s\n",
      "533:\tlearn: 0.2622857\ttotal: 31s\tremaining: 0us\n",
      "0:\tlearn: 2.5174939\ttotal: 59.7ms\tremaining: 31.8s\n",
      "200:\tlearn: 0.7686574\ttotal: 11.9s\tremaining: 19.7s\n",
      "400:\tlearn: 0.3785467\ttotal: 23.6s\tremaining: 7.82s\n",
      "533:\tlearn: 0.2718748\ttotal: 31.3s\tremaining: 0us\n",
      "0:\tlearn: 2.4934844\ttotal: 56.5ms\tremaining: 30.1s\n",
      "200:\tlearn: 0.7581061\ttotal: 11.6s\tremaining: 19.2s\n",
      "400:\tlearn: 0.3684463\ttotal: 23.2s\tremaining: 7.69s\n"
     ]
    },
    {
     "name": "stderr",
     "output_type": "stream",
     "text": [
      "[I 2024-08-28 18:43:03,228] Trial 19 finished with value: 0.5691184064352695 and parameters: {'depth': 7, 'learning_rate': 0.03783144781815623, 'iterations': 534}. Best is trial 15 with value: 0.5928373973266553.\n"
     ]
    },
    {
     "name": "stdout",
     "output_type": "stream",
     "text": [
      "533:\tlearn: 0.2673365\ttotal: 30.8s\tremaining: 0us\n",
      "0:\tlearn: 2.4368733\ttotal: 13.2ms\tremaining: 4.99s\n",
      "200:\tlearn: 0.5293184\ttotal: 2.55s\tremaining: 2.25s\n",
      "377:\tlearn: 0.3140740\ttotal: 4.78s\tremaining: 0us\n",
      "0:\tlearn: 2.4350409\ttotal: 13.8ms\tremaining: 5.19s\n",
      "200:\tlearn: 0.5559318\ttotal: 2.51s\tremaining: 2.21s\n",
      "377:\tlearn: 0.3251679\ttotal: 4.68s\tremaining: 0us\n",
      "0:\tlearn: 2.4229449\ttotal: 13.5ms\tremaining: 5.09s\n",
      "200:\tlearn: 0.5449588\ttotal: 2.58s\tremaining: 2.27s\n"
     ]
    },
    {
     "name": "stderr",
     "output_type": "stream",
     "text": [
      "[I 2024-08-28 18:43:18,582] Trial 20 finished with value: 0.6006285417220419 and parameters: {'depth': 5, 'learning_rate': 0.081137674853323, 'iterations': 378}. Best is trial 20 with value: 0.6006285417220419.\n"
     ]
    },
    {
     "name": "stdout",
     "output_type": "stream",
     "text": [
      "377:\tlearn: 0.3249664\ttotal: 4.76s\tremaining: 0us\n",
      "0:\tlearn: 2.4175675\ttotal: 13.8ms\tremaining: 5.52s\n",
      "200:\tlearn: 0.4666316\ttotal: 2.48s\tremaining: 2.46s\n",
      "399:\tlearn: 0.2494700\ttotal: 4.98s\tremaining: 0us\n",
      "0:\tlearn: 2.4153863\ttotal: 12.6ms\tremaining: 5.04s\n",
      "200:\tlearn: 0.4920636\ttotal: 2.52s\tremaining: 2.5s\n",
      "399:\tlearn: 0.2623098\ttotal: 5.04s\tremaining: 0us\n",
      "0:\tlearn: 2.4016857\ttotal: 12.9ms\tremaining: 5.15s\n",
      "200:\tlearn: 0.4840787\ttotal: 2.5s\tremaining: 2.47s\n"
     ]
    },
    {
     "name": "stderr",
     "output_type": "stream",
     "text": [
      "[I 2024-08-28 18:43:34,705] Trial 21 finished with value: 0.5955715690216354 and parameters: {'depth': 5, 'learning_rate': 0.09397485636564548, 'iterations': 400}. Best is trial 20 with value: 0.6006285417220419.\n"
     ]
    },
    {
     "name": "stdout",
     "output_type": "stream",
     "text": [
      "399:\tlearn: 0.2591644\ttotal: 4.95s\tremaining: 0us\n",
      "0:\tlearn: 2.4375591\ttotal: 13.9ms\tremaining: 5.34s\n",
      "200:\tlearn: 0.5326701\ttotal: 2.64s\tremaining: 2.43s\n",
      "385:\tlearn: 0.3102074\ttotal: 5.06s\tremaining: 0us\n",
      "0:\tlearn: 2.4357387\ttotal: 14.4ms\tremaining: 5.53s\n",
      "200:\tlearn: 0.5591693\ttotal: 2.63s\tremaining: 2.42s\n",
      "385:\tlearn: 0.3157344\ttotal: 5.1s\tremaining: 0us\n",
      "0:\tlearn: 2.4237010\ttotal: 13.7ms\tremaining: 5.26s\n",
      "200:\tlearn: 0.5554487\ttotal: 2.64s\tremaining: 2.43s\n"
     ]
    },
    {
     "name": "stderr",
     "output_type": "stream",
     "text": [
      "[I 2024-08-28 18:43:51,205] Trial 22 finished with value: 0.6007593389674017 and parameters: {'depth': 5, 'learning_rate': 0.08068531569302105, 'iterations': 386}. Best is trial 22 with value: 0.6007593389674017.\n"
     ]
    },
    {
     "name": "stdout",
     "output_type": "stream",
     "text": [
      "385:\tlearn: 0.3229528\ttotal: 5.12s\tremaining: 0us\n",
      "0:\tlearn: 2.3811592\ttotal: 14.2ms\tremaining: 5.41s\n",
      "200:\tlearn: 0.3973501\ttotal: 2.61s\tremaining: 2.36s\n",
      "382:\tlearn: 0.2054493\ttotal: 5.09s\tremaining: 0us\n",
      "0:\tlearn: 2.3782626\ttotal: 13.3ms\tremaining: 5.1s\n",
      "200:\tlearn: 0.4112690\ttotal: 2.63s\tremaining: 2.38s\n",
      "382:\tlearn: 0.2120813\ttotal: 4.97s\tremaining: 0us\n",
      "0:\tlearn: 2.3617730\ttotal: 13.9ms\tremaining: 5.31s\n",
      "200:\tlearn: 0.4064694\ttotal: 2.64s\tremaining: 2.39s\n"
     ]
    },
    {
     "name": "stderr",
     "output_type": "stream",
     "text": [
      "[I 2024-08-28 18:44:07,378] Trial 23 finished with value: 0.6013751545613606 and parameters: {'depth': 5, 'learning_rate': 0.11878554424184241, 'iterations': 383}. Best is trial 23 with value: 0.6013751545613606.\n"
     ]
    },
    {
     "name": "stdout",
     "output_type": "stream",
     "text": [
      "382:\tlearn: 0.2135490\ttotal: 4.91s\tremaining: 0us\n",
      "0:\tlearn: 2.3786829\ttotal: 14.4ms\tremaining: 5.5s\n",
      "200:\tlearn: 0.3906393\ttotal: 2.52s\tremaining: 2.28s\n",
      "382:\tlearn: 0.2017426\ttotal: 4.83s\tremaining: 0us\n",
      "0:\tlearn: 2.3757348\ttotal: 14ms\tremaining: 5.33s\n",
      "200:\tlearn: 0.4069670\ttotal: 2.56s\tremaining: 2.32s\n",
      "382:\tlearn: 0.2075568\ttotal: 4.8s\tremaining: 0us\n",
      "0:\tlearn: 2.3590684\ttotal: 13ms\tremaining: 4.95s\n",
      "200:\tlearn: 0.4036866\ttotal: 2.6s\tremaining: 2.35s\n"
     ]
    },
    {
     "name": "stderr",
     "output_type": "stream",
     "text": [
      "[I 2024-08-28 18:44:22,999] Trial 24 finished with value: 0.5815348971072595 and parameters: {'depth': 5, 'learning_rate': 0.12050509771684866, 'iterations': 383}. Best is trial 23 with value: 0.6013751545613606.\n"
     ]
    },
    {
     "name": "stdout",
     "output_type": "stream",
     "text": [
      "382:\tlearn: 0.2156288\ttotal: 4.83s\tremaining: 0us\n",
      "0:\tlearn: 2.5060987\ttotal: 7.85ms\tremaining: 1.88s\n",
      "200:\tlearn: 1.0400472\ttotal: 1.29s\tremaining: 251ms\n",
      "239:\tlearn: 0.9456329\ttotal: 1.53s\tremaining: 0us\n",
      "0:\tlearn: 2.5130042\ttotal: 7.66ms\tremaining: 1.83s\n",
      "200:\tlearn: 1.0461769\ttotal: 1.26s\tremaining: 245ms\n",
      "239:\tlearn: 0.9517225\ttotal: 1.53s\tremaining: 0us\n",
      "0:\tlearn: 2.4997713\ttotal: 7.34ms\tremaining: 1.75s\n",
      "200:\tlearn: 1.0336727\ttotal: 1.25s\tremaining: 243ms\n"
     ]
    },
    {
     "name": "stderr",
     "output_type": "stream",
     "text": [
      "[I 2024-08-28 18:44:28,436] Trial 25 finished with value: 0.5624587354510083 and parameters: {'depth': 4, 'learning_rate': 0.03601417106165773, 'iterations': 240}. Best is trial 23 with value: 0.6013751545613606.\n"
     ]
    },
    {
     "name": "stdout",
     "output_type": "stream",
     "text": [
      "239:\tlearn: 0.9312788\ttotal: 1.53s\tremaining: 0us\n",
      "0:\tlearn: 2.3802782\ttotal: 16.7ms\tremaining: 6.04s\n",
      "200:\tlearn: 0.3891987\ttotal: 2.67s\tremaining: 2.14s\n",
      "361:\tlearn: 0.2151152\ttotal: 4.77s\tremaining: 0us\n",
      "0:\tlearn: 2.3773633\ttotal: 13.5ms\tremaining: 4.88s\n",
      "200:\tlearn: 0.4136809\ttotal: 2.54s\tremaining: 2.03s\n",
      "361:\tlearn: 0.2237238\ttotal: 4.57s\tremaining: 0us\n",
      "0:\tlearn: 2.3608106\ttotal: 13.4ms\tremaining: 4.82s\n",
      "200:\tlearn: 0.4074181\ttotal: 2.63s\tremaining: 2.1s\n"
     ]
    },
    {
     "name": "stderr",
     "output_type": "stream",
     "text": [
      "[I 2024-08-28 18:44:43,657] Trial 26 finished with value: 0.5874026774353913 and parameters: {'depth': 5, 'learning_rate': 0.1193968095241222, 'iterations': 362}. Best is trial 23 with value: 0.6013751545613606.\n"
     ]
    },
    {
     "name": "stdout",
     "output_type": "stream",
     "text": [
      "361:\tlearn: 0.2254017\ttotal: 4.73s\tremaining: 0us\n",
      "0:\tlearn: 2.5221740\ttotal: 7.14ms\tremaining: 3.08s\n",
      "200:\tlearn: 1.1999257\ttotal: 1.25s\tremaining: 1.44s\n",
      "400:\tlearn: 0.8446907\ttotal: 2.53s\tremaining: 202ms\n",
      "432:\tlearn: 0.8111106\ttotal: 2.76s\tremaining: 0us\n",
      "0:\tlearn: 2.5271982\ttotal: 8.2ms\tremaining: 3.54s\n",
      "200:\tlearn: 1.2094858\ttotal: 1.36s\tremaining: 1.57s\n",
      "400:\tlearn: 0.8460711\ttotal: 2.57s\tremaining: 205ms\n",
      "432:\tlearn: 0.8085433\ttotal: 2.76s\tremaining: 0us\n",
      "0:\tlearn: 2.5175575\ttotal: 7.96ms\tremaining: 3.44s\n",
      "200:\tlearn: 1.1966246\ttotal: 1.22s\tremaining: 1.41s\n",
      "400:\tlearn: 0.8414101\ttotal: 2.44s\tremaining: 195ms\n",
      "432:\tlearn: 0.8046385\ttotal: 2.63s\tremaining: 0us\n"
     ]
    },
    {
     "name": "stderr",
     "output_type": "stream",
     "text": [
      "[I 2024-08-28 18:44:53,079] Trial 27 finished with value: 0.5788883888092942 and parameters: {'depth': 4, 'learning_rate': 0.026072065411697647, 'iterations': 433}. Best is trial 23 with value: 0.6013751545613606.\n"
     ]
    },
    {
     "name": "stdout",
     "output_type": "stream",
     "text": [
      "0:\tlearn: 2.5407206\ttotal: 15ms\tremaining: 4.06s\n",
      "200:\tlearn: 1.3830963\ttotal: 2.5s\tremaining: 872ms\n",
      "270:\tlearn: 1.2442261\ttotal: 3.39s\tremaining: 0us\n",
      "0:\tlearn: 2.5404340\ttotal: 13.2ms\tremaining: 3.56s\n",
      "200:\tlearn: 1.4116310\ttotal: 2.56s\tremaining: 893ms\n",
      "270:\tlearn: 1.2715238\ttotal: 3.44s\tremaining: 0us\n",
      "0:\tlearn: 2.5380030\ttotal: 12.7ms\tremaining: 3.44s\n",
      "200:\tlearn: 1.3936344\ttotal: 2.49s\tremaining: 866ms\n"
     ]
    },
    {
     "name": "stderr",
     "output_type": "stream",
     "text": [
      "[I 2024-08-28 18:45:04,154] Trial 28 finished with value: 0.5006425863310543 and parameters: {'depth': 5, 'learning_rate': 0.014918493707280612, 'iterations': 271}. Best is trial 23 with value: 0.6013751545613606.\n"
     ]
    },
    {
     "name": "stdout",
     "output_type": "stream",
     "text": [
      "270:\tlearn: 1.2528859\ttotal: 3.35s\tremaining: 0us\n",
      "0:\tlearn: 2.4767476\ttotal: 14ms\tremaining: 4.8s\n",
      "200:\tlearn: 0.6965037\ttotal: 2.52s\tremaining: 1.79s\n",
      "343:\tlearn: 0.4716175\ttotal: 4.29s\tremaining: 0us\n",
      "0:\tlearn: 2.4755724\ttotal: 13.3ms\tremaining: 4.56s\n",
      "200:\tlearn: 0.7210400\ttotal: 2.58s\tremaining: 1.83s\n",
      "343:\tlearn: 0.4939827\ttotal: 4.39s\tremaining: 0us\n",
      "0:\tlearn: 2.4670099\ttotal: 13.5ms\tremaining: 4.62s\n",
      "200:\tlearn: 0.7069169\ttotal: 2.48s\tremaining: 1.76s\n"
     ]
    },
    {
     "name": "stderr",
     "output_type": "stream",
     "text": [
      "[I 2024-08-28 18:45:18,237] Trial 29 finished with value: 0.5939595173638026 and parameters: {'depth': 5, 'learning_rate': 0.05520578699051345, 'iterations': 344}. Best is trial 23 with value: 0.6013751545613606.\n"
     ]
    },
    {
     "name": "stdout",
     "output_type": "stream",
     "text": [
      "343:\tlearn: 0.4834370\ttotal: 4.33s\tremaining: 0us\n",
      "0:\tlearn: 2.5525685\ttotal: 8.09ms\tremaining: 3.37s\n",
      "200:\tlearn: 1.7441926\ttotal: 1.39s\tremaining: 1.49s\n",
      "400:\tlearn: 1.4506989\ttotal: 2.66s\tremaining: 106ms\n",
      "416:\tlearn: 1.4328263\ttotal: 2.76s\tremaining: 0us\n",
      "0:\tlearn: 2.5540252\ttotal: 8.25ms\tremaining: 3.43s\n",
      "200:\tlearn: 1.7605338\ttotal: 1.21s\tremaining: 1.3s\n",
      "400:\tlearn: 1.4737377\ttotal: 2.51s\tremaining: 100ms\n",
      "416:\tlearn: 1.4563110\ttotal: 2.64s\tremaining: 0us\n",
      "0:\tlearn: 2.5512245\ttotal: 8.1ms\tremaining: 3.37s\n",
      "200:\tlearn: 1.7524824\ttotal: 1.26s\tremaining: 1.35s\n"
     ]
    },
    {
     "name": "stderr",
     "output_type": "stream",
     "text": [
      "[I 2024-08-28 18:45:27,435] Trial 30 finished with value: 0.47882254150916453 and parameters: {'depth': 4, 'learning_rate': 0.00749316724347979, 'iterations': 417}. Best is trial 23 with value: 0.6013751545613606.\n"
     ]
    },
    {
     "name": "stdout",
     "output_type": "stream",
     "text": [
      "400:\tlearn: 1.4643132\ttotal: 2.47s\tremaining: 98.5ms\n",
      "416:\tlearn: 1.4473661\ttotal: 2.56s\tremaining: 0us\n",
      "0:\tlearn: 2.4121132\ttotal: 14.4ms\tremaining: 5.51s\n",
      "200:\tlearn: 0.4535724\ttotal: 2.5s\tremaining: 2.29s\n",
      "384:\tlearn: 0.2504308\ttotal: 4.76s\tremaining: 0us\n",
      "0:\tlearn: 2.4098297\ttotal: 13.2ms\tremaining: 5.07s\n",
      "200:\tlearn: 0.4860776\ttotal: 2.52s\tremaining: 2.31s\n",
      "384:\tlearn: 0.2647905\ttotal: 4.74s\tremaining: 0us\n",
      "0:\tlearn: 2.3956903\ttotal: 13.7ms\tremaining: 5.25s\n",
      "200:\tlearn: 0.4755879\ttotal: 2.52s\tremaining: 2.3s\n"
     ]
    },
    {
     "name": "stderr",
     "output_type": "stream",
     "text": [
      "[I 2024-08-28 18:45:42,898] Trial 31 finished with value: 0.5961556557997997 and parameters: {'depth': 5, 'learning_rate': 0.09763923674414059, 'iterations': 385}. Best is trial 23 with value: 0.6013751545613606.\n"
     ]
    },
    {
     "name": "stdout",
     "output_type": "stream",
     "text": [
      "384:\tlearn: 0.2686369\ttotal: 4.8s\tremaining: 0us\n",
      "0:\tlearn: 2.3701701\ttotal: 17.3ms\tremaining: 6.21s\n",
      "200:\tlearn: 0.3679057\ttotal: 2.56s\tremaining: 2.02s\n",
      "359:\tlearn: 0.2023223\ttotal: 4.54s\tremaining: 0us\n",
      "0:\tlearn: 2.3670420\ttotal: 13.2ms\tremaining: 4.73s\n",
      "200:\tlearn: 0.3994180\ttotal: 2.54s\tremaining: 2.01s\n",
      "359:\tlearn: 0.2140237\ttotal: 4.68s\tremaining: 0us\n",
      "0:\tlearn: 2.3497820\ttotal: 14ms\tremaining: 5.01s\n",
      "200:\tlearn: 0.3848506\ttotal: 2.59s\tremaining: 2.04s\n"
     ]
    },
    {
     "name": "stderr",
     "output_type": "stream",
     "text": [
      "[I 2024-08-28 18:45:57,842] Trial 32 finished with value: 0.5950477736125274 and parameters: {'depth': 5, 'learning_rate': 0.12645062453450479, 'iterations': 360}. Best is trial 23 with value: 0.6013751545613606.\n"
     ]
    },
    {
     "name": "stdout",
     "output_type": "stream",
     "text": [
      "359:\tlearn: 0.2158799\ttotal: 4.64s\tremaining: 0us\n",
      "0:\tlearn: 2.3484813\ttotal: 15.4ms\tremaining: 4.76s\n",
      "200:\tlearn: 0.3339707\ttotal: 2.61s\tremaining: 1.43s\n",
      "310:\tlearn: 0.2112744\ttotal: 4s\tremaining: 0us\n",
      "0:\tlearn: 2.3448741\ttotal: 13.1ms\tremaining: 4.05s\n",
      "200:\tlearn: 0.3431420\ttotal: 2.53s\tremaining: 1.38s\n",
      "310:\tlearn: 0.2120169\ttotal: 3.89s\tremaining: 0us\n",
      "0:\tlearn: 2.3262082\ttotal: 12.7ms\tremaining: 3.93s\n",
      "200:\tlearn: 0.3515898\ttotal: 2.5s\tremaining: 1.37s\n"
     ]
    },
    {
     "name": "stderr",
     "output_type": "stream",
     "text": [
      "[I 2024-08-28 18:46:10,633] Trial 33 finished with value: 0.5867187217750991 and parameters: {'depth': 5, 'learning_rate': 0.1418560415800161, 'iterations': 311}. Best is trial 23 with value: 0.6013751545613606.\n"
     ]
    },
    {
     "name": "stdout",
     "output_type": "stream",
     "text": [
      "310:\tlearn: 0.2229139\ttotal: 3.9s\tremaining: 0us\n",
      "0:\tlearn: 2.4246903\ttotal: 14.2ms\tremaining: 5.43s\n",
      "200:\tlearn: 0.4929991\ttotal: 2.59s\tremaining: 2.35s\n",
      "382:\tlearn: 0.2818424\ttotal: 4.98s\tremaining: 0us\n",
      "0:\tlearn: 2.4226402\ttotal: 13.2ms\tremaining: 5.03s\n",
      "200:\tlearn: 0.5099140\ttotal: 2.56s\tremaining: 2.32s\n",
      "382:\tlearn: 0.2886343\ttotal: 4.77s\tremaining: 0us\n",
      "0:\tlearn: 2.4095225\ttotal: 12.9ms\tremaining: 4.94s\n",
      "200:\tlearn: 0.5065000\ttotal: 2.53s\tremaining: 2.29s\n"
     ]
    },
    {
     "name": "stderr",
     "output_type": "stream",
     "text": [
      "[I 2024-08-28 18:46:26,368] Trial 34 finished with value: 0.6084073510091716 and parameters: {'depth': 5, 'learning_rate': 0.0892150537935293, 'iterations': 383}. Best is trial 34 with value: 0.6084073510091716.\n"
     ]
    },
    {
     "name": "stdout",
     "output_type": "stream",
     "text": [
      "382:\tlearn: 0.2953347\ttotal: 4.83s\tremaining: 0us\n",
      "0:\tlearn: 2.4911682\ttotal: 7.05ms\tremaining: 1.71s\n",
      "200:\tlearn: 0.9167965\ttotal: 1.2s\tremaining: 257ms\n",
      "243:\tlearn: 0.8253849\ttotal: 1.45s\tremaining: 0us\n",
      "0:\tlearn: 2.4998171\ttotal: 7.3ms\tremaining: 1.77s\n",
      "200:\tlearn: 0.9164596\ttotal: 1.23s\tremaining: 262ms\n",
      "243:\tlearn: 0.8340078\ttotal: 1.48s\tremaining: 0us\n",
      "0:\tlearn: 2.4832671\ttotal: 7.03ms\tremaining: 1.71s\n",
      "200:\tlearn: 0.9029215\ttotal: 1.2s\tremaining: 258ms\n"
     ]
    },
    {
     "name": "stderr",
     "output_type": "stream",
     "text": [
      "[I 2024-08-28 18:46:31,602] Trial 35 finished with value: 0.5785193769549023 and parameters: {'depth': 4, 'learning_rate': 0.04532788878708002, 'iterations': 244}. Best is trial 34 with value: 0.6084073510091716.\n"
     ]
    },
    {
     "name": "stdout",
     "output_type": "stream",
     "text": [
      "243:\tlearn: 0.8128938\ttotal: 1.47s\tremaining: 0us\n",
      "0:\tlearn: 2.4419800\ttotal: 7.62ms\tremaining: 2.36s\n",
      "200:\tlearn: 0.6832981\ttotal: 1.18s\tremaining: 647ms\n",
      "310:\tlearn: 0.5258363\ttotal: 1.83s\tremaining: 0us\n",
      "0:\tlearn: 2.4563418\ttotal: 6.9ms\tremaining: 2.14s\n",
      "200:\tlearn: 0.6915679\ttotal: 1.28s\tremaining: 704ms\n",
      "310:\tlearn: 0.5387820\ttotal: 1.96s\tremaining: 0us\n",
      "0:\tlearn: 2.4290350\ttotal: 7.19ms\tremaining: 2.23s\n",
      "200:\tlearn: 0.6763614\ttotal: 1.32s\tremaining: 724ms\n"
     ]
    },
    {
     "name": "stderr",
     "output_type": "stream",
     "text": [
      "[I 2024-08-28 18:46:38,372] Trial 36 finished with value: 0.5964448513759687 and parameters: {'depth': 4, 'learning_rate': 0.0766365028141808, 'iterations': 311}. Best is trial 34 with value: 0.6084073510091716.\n"
     ]
    },
    {
     "name": "stdout",
     "output_type": "stream",
     "text": [
      "310:\tlearn: 0.5187964\ttotal: 1.99s\tremaining: 0us\n",
      "0:\tlearn: 2.4242899\ttotal: 13.5ms\tremaining: 5.04s\n",
      "200:\tlearn: 0.4935974\ttotal: 2.46s\tremaining: 2.13s\n",
      "374:\tlearn: 0.2874563\ttotal: 4.58s\tremaining: 0us\n",
      "0:\tlearn: 2.4222325\ttotal: 13.7ms\tremaining: 5.13s\n",
      "200:\tlearn: 0.5090716\ttotal: 2.47s\tremaining: 2.14s\n",
      "374:\tlearn: 0.3012710\ttotal: 4.61s\tremaining: 0us\n",
      "0:\tlearn: 2.4090817\ttotal: 12.7ms\tremaining: 4.73s\n",
      "200:\tlearn: 0.5088587\ttotal: 2.42s\tremaining: 2.09s\n"
     ]
    },
    {
     "name": "stderr",
     "output_type": "stream",
     "text": [
      "[I 2024-08-28 18:46:53,244] Trial 37 finished with value: 0.5995527208154058 and parameters: {'depth': 5, 'learning_rate': 0.0894818805769783, 'iterations': 375}. Best is trial 34 with value: 0.6084073510091716.\n"
     ]
    },
    {
     "name": "stdout",
     "output_type": "stream",
     "text": [
      "374:\tlearn: 0.3012198\ttotal: 4.53s\tremaining: 0us\n",
      "0:\tlearn: 2.5599166\ttotal: 28.8ms\tremaining: 12.1s\n",
      "200:\tlearn: 2.0674956\ttotal: 5.57s\tremaining: 6.07s\n",
      "400:\tlearn: 1.8033397\ttotal: 11.1s\tremaining: 525ms\n",
      "419:\tlearn: 1.7831367\ttotal: 11.6s\tremaining: 0us\n",
      "0:\tlearn: 2.5607998\ttotal: 28.2ms\tremaining: 11.8s\n",
      "200:\tlearn: 2.0785092\ttotal: 5.54s\tremaining: 6.04s\n",
      "400:\tlearn: 1.8183656\ttotal: 11.1s\tremaining: 525ms\n",
      "419:\tlearn: 1.7979538\ttotal: 11.6s\tremaining: 0us\n",
      "0:\tlearn: 2.5588447\ttotal: 26.1ms\tremaining: 10.9s\n",
      "200:\tlearn: 2.0792192\ttotal: 5.51s\tremaining: 6.01s\n",
      "400:\tlearn: 1.8153906\ttotal: 11.1s\tremaining: 525ms\n"
     ]
    },
    {
     "name": "stderr",
     "output_type": "stream",
     "text": [
      "[I 2024-08-28 18:47:29,475] Trial 38 finished with value: 0.45087951847253804 and parameters: {'depth': 6, 'learning_rate': 0.0029757390397433118, 'iterations': 420}. Best is trial 34 with value: 0.6084073510091716.\n"
     ]
    },
    {
     "name": "stdout",
     "output_type": "stream",
     "text": [
      "419:\tlearn: 1.7951968\ttotal: 11.6s\tremaining: 0us\n",
      "0:\tlearn: 2.3262263\ttotal: 7.53ms\tremaining: 3.69s\n",
      "200:\tlearn: 0.4336528\ttotal: 1.28s\tremaining: 1.85s\n",
      "400:\tlearn: 0.2276540\ttotal: 2.45s\tremaining: 550ms\n",
      "490:\tlearn: 0.1782358\ttotal: 2.98s\tremaining: 0us\n",
      "0:\tlearn: 2.3537517\ttotal: 7.08ms\tremaining: 3.47s\n",
      "200:\tlearn: 0.4402536\ttotal: 1.19s\tremaining: 1.71s\n",
      "400:\tlearn: 0.2242134\ttotal: 2.36s\tremaining: 530ms\n",
      "490:\tlearn: 0.1761653\ttotal: 2.88s\tremaining: 0us\n",
      "0:\tlearn: 2.3029566\ttotal: 6.88ms\tremaining: 3.37s\n",
      "200:\tlearn: 0.4462462\ttotal: 1.24s\tremaining: 1.78s\n",
      "400:\tlearn: 0.2438486\ttotal: 2.41s\tremaining: 540ms\n"
     ]
    },
    {
     "name": "stderr",
     "output_type": "stream",
     "text": [
      "[I 2024-08-28 18:47:39,675] Trial 39 finished with value: 0.594524827882144 and parameters: {'depth': 4, 'learning_rate': 0.1557173654883564, 'iterations': 491}. Best is trial 34 with value: 0.6084073510091716.\n"
     ]
    },
    {
     "name": "stdout",
     "output_type": "stream",
     "text": [
      "490:\tlearn: 0.1943792\ttotal: 2.94s\tremaining: 0us\n",
      "0:\tlearn: 2.5175887\ttotal: 13.3ms\tremaining: 4.48s\n",
      "200:\tlearn: 1.0484920\ttotal: 2.44s\tremaining: 1.65s\n",
      "336:\tlearn: 0.7576667\ttotal: 4.14s\tremaining: 0us\n",
      "0:\tlearn: 2.5170034\ttotal: 15.2ms\tremaining: 5.09s\n",
      "200:\tlearn: 1.0658596\ttotal: 2.53s\tremaining: 1.71s\n",
      "336:\tlearn: 0.7777447\ttotal: 4.19s\tremaining: 0us\n",
      "0:\tlearn: 2.5123016\ttotal: 14.9ms\tremaining: 5s\n",
      "200:\tlearn: 1.0541458\ttotal: 2.47s\tremaining: 1.67s\n"
     ]
    },
    {
     "name": "stderr",
     "output_type": "stream",
     "text": [
      "[I 2024-08-28 18:47:53,201] Trial 40 finished with value: 0.569539087786521 and parameters: {'depth': 5, 'learning_rate': 0.02932380116308545, 'iterations': 337}. Best is trial 34 with value: 0.6084073510091716.\n"
     ]
    },
    {
     "name": "stdout",
     "output_type": "stream",
     "text": [
      "336:\tlearn: 0.7689446\ttotal: 4.13s\tremaining: 0us\n",
      "0:\tlearn: 2.4237248\ttotal: 13.6ms\tremaining: 5s\n",
      "200:\tlearn: 0.4894099\ttotal: 2.5s\tremaining: 2.09s\n",
      "368:\tlearn: 0.2855033\ttotal: 4.6s\tremaining: 0us\n",
      "0:\tlearn: 2.4216571\ttotal: 12.8ms\tremaining: 4.73s\n",
      "200:\tlearn: 0.5113546\ttotal: 2.5s\tremaining: 2.09s\n",
      "368:\tlearn: 0.2988029\ttotal: 4.68s\tremaining: 0us\n",
      "0:\tlearn: 2.4084597\ttotal: 14ms\tremaining: 5.15s\n",
      "200:\tlearn: 0.5081197\ttotal: 2.47s\tremaining: 2.06s\n"
     ]
    },
    {
     "name": "stderr",
     "output_type": "stream",
     "text": [
      "[I 2024-08-28 18:48:08,137] Trial 41 finished with value: 0.5958857638400527 and parameters: {'depth': 5, 'learning_rate': 0.08985859352946922, 'iterations': 369}. Best is trial 34 with value: 0.6084073510091716.\n"
     ]
    },
    {
     "name": "stdout",
     "output_type": "stream",
     "text": [
      "368:\tlearn: 0.2989919\ttotal: 4.52s\tremaining: 0us\n",
      "0:\tlearn: 2.4651433\ttotal: 13.5ms\tremaining: 5.36s\n",
      "200:\tlearn: 0.6370431\ttotal: 2.47s\tremaining: 2.43s\n",
      "398:\tlearn: 0.3875580\ttotal: 4.96s\tremaining: 0us\n",
      "0:\tlearn: 2.4637853\ttotal: 14ms\tremaining: 5.56s\n",
      "200:\tlearn: 0.6550222\ttotal: 2.48s\tremaining: 2.45s\n",
      "398:\tlearn: 0.3879667\ttotal: 4.91s\tremaining: 0us\n",
      "0:\tlearn: 2.4541673\ttotal: 13.4ms\tremaining: 5.32s\n",
      "200:\tlearn: 0.6544794\ttotal: 2.48s\tremaining: 2.44s\n"
     ]
    },
    {
     "name": "stderr",
     "output_type": "stream",
     "text": [
      "[I 2024-08-28 18:48:24,159] Trial 42 finished with value: 0.6099489074230415 and parameters: {'depth': 5, 'learning_rate': 0.0626785956571374, 'iterations': 399}. Best is trial 42 with value: 0.6099489074230415.\n"
     ]
    },
    {
     "name": "stdout",
     "output_type": "stream",
     "text": [
      "398:\tlearn: 0.3916947\ttotal: 4.94s\tremaining: 0us\n",
      "0:\tlearn: 2.4631624\ttotal: 28.1ms\tremaining: 12.5s\n",
      "200:\tlearn: 0.5521845\ttotal: 5.56s\tremaining: 6.72s\n",
      "400:\tlearn: 0.2760360\ttotal: 11.1s\tremaining: 1.19s\n",
      "443:\tlearn: 0.2479503\ttotal: 12.3s\tremaining: 0us\n",
      "0:\tlearn: 2.4806649\ttotal: 26.8ms\tremaining: 11.9s\n",
      "200:\tlearn: 0.5499815\ttotal: 5.53s\tremaining: 6.68s\n",
      "400:\tlearn: 0.2784945\ttotal: 11.1s\tremaining: 1.19s\n",
      "443:\tlearn: 0.2496632\ttotal: 12.3s\tremaining: 0us\n",
      "0:\tlearn: 2.4418754\ttotal: 28.1ms\tremaining: 12.5s\n",
      "200:\tlearn: 0.5440680\ttotal: 5.54s\tremaining: 6.7s\n",
      "400:\tlearn: 0.2816395\ttotal: 11.1s\tremaining: 1.19s\n"
     ]
    },
    {
     "name": "stderr",
     "output_type": "stream",
     "text": [
      "[I 2024-08-28 18:49:02,505] Trial 43 finished with value: 0.5902366937609388 and parameters: {'depth': 6, 'learning_rate': 0.061520723692222806, 'iterations': 444}. Best is trial 42 with value: 0.6099489074230415.\n"
     ]
    },
    {
     "name": "stdout",
     "output_type": "stream",
     "text": [
      "443:\tlearn: 0.2540877\ttotal: 12.3s\tremaining: 0us\n",
      "0:\tlearn: 2.4929667\ttotal: 13.8ms\tremaining: 5.63s\n",
      "200:\tlearn: 0.8113366\ttotal: 2.45s\tremaining: 2.52s\n",
      "400:\tlearn: 0.4965247\ttotal: 4.94s\tremaining: 86.2ms\n",
      "407:\tlearn: 0.4894408\ttotal: 5.03s\tremaining: 0us\n",
      "0:\tlearn: 2.4920356\ttotal: 13.8ms\tremaining: 5.62s\n",
      "200:\tlearn: 0.8255792\ttotal: 2.48s\tremaining: 2.56s\n",
      "400:\tlearn: 0.5056679\ttotal: 4.94s\tremaining: 86.2ms\n",
      "407:\tlearn: 0.4997994\ttotal: 5.02s\tremaining: 0us\n",
      "0:\tlearn: 2.4849808\ttotal: 13.1ms\tremaining: 5.31s\n",
      "200:\tlearn: 0.8218640\ttotal: 2.47s\tremaining: 2.54s\n"
     ]
    },
    {
     "name": "stderr",
     "output_type": "stream",
     "text": [
      "[I 2024-08-28 18:49:18,785] Trial 44 finished with value: 0.5951655831202173 and parameters: {'depth': 5, 'learning_rate': 0.04485312944109731, 'iterations': 408}. Best is trial 42 with value: 0.6099489074230415.\n"
     ]
    },
    {
     "name": "stdout",
     "output_type": "stream",
     "text": [
      "400:\tlearn: 0.5087454\ttotal: 4.94s\tremaining: 86.3ms\n",
      "407:\tlearn: 0.5035401\ttotal: 5.03s\tremaining: 0us\n",
      "0:\tlearn: 2.3956669\ttotal: 13.9ms\tremaining: 4.31s\n",
      "200:\tlearn: 0.4249566\ttotal: 2.45s\tremaining: 1.33s\n",
      "309:\tlearn: 0.2833869\ttotal: 3.8s\tremaining: 0us\n",
      "0:\tlearn: 2.3930647\ttotal: 14.2ms\tremaining: 4.4s\n",
      "200:\tlearn: 0.4371074\ttotal: 2.48s\tremaining: 1.34s\n",
      "309:\tlearn: 0.2863652\ttotal: 3.83s\tremaining: 0us\n",
      "0:\tlearn: 2.3776454\ttotal: 12.9ms\tremaining: 3.99s\n",
      "200:\tlearn: 0.4314068\ttotal: 2.46s\tremaining: 1.33s\n"
     ]
    },
    {
     "name": "stderr",
     "output_type": "stream",
     "text": [
      "[I 2024-08-28 18:49:31,281] Trial 45 finished with value: 0.6034940128621965 and parameters: {'depth': 5, 'learning_rate': 0.10879708205680315, 'iterations': 310}. Best is trial 42 with value: 0.6099489074230415.\n"
     ]
    },
    {
     "name": "stdout",
     "output_type": "stream",
     "text": [
      "309:\tlearn: 0.2955823\ttotal: 3.85s\tremaining: 0us\n",
      "0:\tlearn: 2.3911088\ttotal: 7.11ms\tremaining: 725ms\n",
      "102:\tlearn: 0.8092829\ttotal: 666ms\tremaining: 0us\n",
      "0:\tlearn: 2.4113156\ttotal: 8.39ms\tremaining: 856ms\n",
      "102:\tlearn: 0.8299185\ttotal: 653ms\tremaining: 0us\n",
      "0:\tlearn: 2.3732774\ttotal: 6.55ms\tremaining: 669ms\n"
     ]
    },
    {
     "name": "stderr",
     "output_type": "stream",
     "text": [
      "[I 2024-08-28 18:49:33,729] Trial 46 finished with value: 0.5784690255611766 and parameters: {'depth': 4, 'learning_rate': 0.1102656076666726, 'iterations': 103}. Best is trial 42 with value: 0.6099489074230415.\n"
     ]
    },
    {
     "name": "stdout",
     "output_type": "stream",
     "text": [
      "102:\tlearn: 0.8051497\ttotal: 610ms\tremaining: 0us\n",
      "0:\tlearn: 2.3471899\ttotal: 14.2ms\tremaining: 4.24s\n",
      "200:\tlearn: 0.3290781\ttotal: 2.45s\tremaining: 1.19s\n",
      "298:\tlearn: 0.2208888\ttotal: 3.65s\tremaining: 0us\n",
      "0:\tlearn: 2.3435533\ttotal: 12.6ms\tremaining: 3.75s\n",
      "200:\tlearn: 0.3458891\ttotal: 2.5s\tremaining: 1.22s\n",
      "298:\tlearn: 0.2283135\ttotal: 3.75s\tremaining: 0us\n",
      "0:\tlearn: 2.3248089\ttotal: 17.9ms\tremaining: 5.34s\n",
      "200:\tlearn: 0.3464973\ttotal: 2.47s\tremaining: 1.21s\n"
     ]
    },
    {
     "name": "stderr",
     "output_type": "stream",
     "text": [
      "[I 2024-08-28 18:49:45,784] Trial 47 finished with value: 0.5938729559500415 and parameters: {'depth': 5, 'learning_rate': 0.14278575741818328, 'iterations': 299}. Best is trial 42 with value: 0.6099489074230415.\n"
     ]
    },
    {
     "name": "stdout",
     "output_type": "stream",
     "text": [
      "298:\tlearn: 0.2341727\ttotal: 3.68s\tremaining: 0us\n",
      "0:\tlearn: 2.2761428\ttotal: 30.3ms\tremaining: 7.99s\n",
      "200:\tlearn: 0.1729836\ttotal: 5.94s\tremaining: 1.89s\n",
      "264:\tlearn: 0.1194901\ttotal: 7.89s\tremaining: 0us\n",
      "0:\tlearn: 2.3216291\ttotal: 29.4ms\tremaining: 7.77s\n",
      "200:\tlearn: 0.1723122\ttotal: 5.7s\tremaining: 1.81s\n",
      "264:\tlearn: 0.1202334\ttotal: 7.47s\tremaining: 0us\n",
      "0:\tlearn: 2.2209977\ttotal: 26.7ms\tremaining: 7.05s\n",
      "200:\tlearn: 0.1785396\ttotal: 5.57s\tremaining: 1.77s\n"
     ]
    },
    {
     "name": "stderr",
     "output_type": "stream",
     "text": [
      "[I 2024-08-28 18:50:09,450] Trial 48 finished with value: 0.5820681360079739 and parameters: {'depth': 6, 'learning_rate': 0.187199261902281, 'iterations': 265}. Best is trial 42 with value: 0.6099489074230415.\n"
     ]
    },
    {
     "name": "stdout",
     "output_type": "stream",
     "text": [
      "264:\tlearn: 0.1217007\ttotal: 7.36s\tremaining: 0us\n",
      "0:\tlearn: 2.4538861\ttotal: 28.2ms\tremaining: 5.75s\n",
      "200:\tlearn: 0.5107875\ttotal: 5.73s\tremaining: 114ms\n",
      "204:\tlearn: 0.5022485\ttotal: 5.85s\tremaining: 0us\n",
      "0:\tlearn: 2.4729349\ttotal: 29.6ms\tremaining: 6.03s\n",
      "200:\tlearn: 0.5055049\ttotal: 5.79s\tremaining: 115ms\n",
      "204:\tlearn: 0.4949439\ttotal: 5.9s\tremaining: 0us\n",
      "0:\tlearn: 2.4307158\ttotal: 28.9ms\tremaining: 5.89s\n"
     ]
    },
    {
     "name": "stderr",
     "output_type": "stream",
     "text": [
      "[I 2024-08-28 18:50:28,361] Trial 49 finished with value: 0.5785729447439034 and parameters: {'depth': 6, 'learning_rate': 0.06729395418863261, 'iterations': 205}. Best is trial 42 with value: 0.6099489074230415.\n"
     ]
    },
    {
     "name": "stdout",
     "output_type": "stream",
     "text": [
      "200:\tlearn: 0.5007946\ttotal: 6.24s\tremaining: 124ms\n",
      "204:\tlearn: 0.4926396\ttotal: 6.35s\tremaining: 0us\n",
      "Best CatBoost hyperparameters:  {'depth': 5, 'learning_rate': 0.0626785956571374, 'iterations': 399}\n"
     ]
    }
   ],
   "source": [
    "import optuna\n",
    "from catboost import CatBoostClassifier\n",
    "from sklearn.model_selection import cross_val_score\n",
    "\n",
    "# CatBoost 최적화 목적 함수 정의\n",
    "def optimize_catboost(trial):\n",
    "    # 최적화할 하이퍼파라미터 설정\n",
    "    depth = trial.suggest_int('depth', 4, 8)\n",
    "    learning_rate = trial.suggest_loguniform('learning_rate', 1e-3, 0.2)\n",
    "    iterations = trial.suggest_int('iterations', 100, 600)\n",
    "    \n",
    "    # CatBoost 모델 생성\n",
    "    model = CatBoostClassifier(\n",
    "        depth=depth,\n",
    "        learning_rate=learning_rate,\n",
    "        iterations=iterations,\n",
    "        verbose=0,\n",
    "        random_state=42\n",
    "    )\n",
    "    \n",
    "    # 교차 검증으로 모델 성능 평가 (F1 Macro)\n",
    "    score = cross_val_score(model, train_x_shap, train_y_encoded_down, cv=3, scoring='f1_macro').mean()\n",
    "    return score\n",
    "\n",
    "# Optuna 스터디 생성 및 최적화 실행\n",
    "catboost_study = optuna.create_study(direction='maximize')\n",
    "catboost_study.optimize(optimize_catboost, n_trials=50)\n",
    "\n",
    "# 최적 하이퍼파라미터 출력\n",
    "print(\"Best CatBoost hyperparameters: \", catboost_study.best_params)\n",
    "\n",
    "# 최적 하이퍼파라미터로 CatBoost 모델 생성\n",
    "best_catboost_model = CatBoostClassifier(\n",
    "    depth=catboost_study.best_params['depth'],\n",
    "    learning_rate=catboost_study.best_params['learning_rate'],\n",
    "    iterations=catboost_study.best_params['iterations'],\n",
    "    verbose=0,\n",
    "    random_state=42\n",
    ")\n"
   ]
  },
  {
   "cell_type": "code",
   "execution_count": 75,
   "metadata": {},
   "outputs": [
    {
     "name": "stderr",
     "output_type": "stream",
     "text": [
      "[I 2024-08-28 18:50:28,375] A new study created in memory with name: no-name-99887387-5401-4023-88c5-af274dd31230\n",
      "[I 2024-08-28 18:50:32,904] Trial 0 finished with value: 0.6345178215699324 and parameters: {'n_estimators': 107, 'max_depth': 7, 'learning_rate': 0.004998375176079724, 'subsample': 0.6216686201157264, 'colsample_bytree': 0.8801802861189068}. Best is trial 0 with value: 0.6345178215699324.\n",
      "[I 2024-08-28 18:50:39,696] Trial 1 finished with value: 0.6312797900493908 and parameters: {'n_estimators': 450, 'max_depth': 5, 'learning_rate': 0.10574901182131174, 'subsample': 0.851487661080798, 'colsample_bytree': 0.5110574796518926}. Best is trial 0 with value: 0.6345178215699324.\n",
      "[I 2024-08-28 18:50:52,105] Trial 2 finished with value: 0.6321053941992916 and parameters: {'n_estimators': 422, 'max_depth': 5, 'learning_rate': 0.003994491843163224, 'subsample': 0.5193418733604906, 'colsample_bytree': 0.9111988417350632}. Best is trial 0 with value: 0.6345178215699324.\n",
      "[I 2024-08-28 18:50:58,745] Trial 3 finished with value: 0.6486654184275314 and parameters: {'n_estimators': 256, 'max_depth': 7, 'learning_rate': 0.08278174437061998, 'subsample': 0.9237478701465656, 'colsample_bytree': 0.8459399428777069}. Best is trial 3 with value: 0.6486654184275314.\n",
      "[I 2024-08-28 18:51:10,128] Trial 4 finished with value: 0.641673023460511 and parameters: {'n_estimators': 463, 'max_depth': 8, 'learning_rate': 0.03796828253786109, 'subsample': 0.7623222447577582, 'colsample_bytree': 0.5465305137330227}. Best is trial 3 with value: 0.6486654184275314.\n",
      "[I 2024-08-28 18:51:21,243] Trial 5 finished with value: 0.6344678785753682 and parameters: {'n_estimators': 480, 'max_depth': 8, 'learning_rate': 0.060622634152901825, 'subsample': 0.5798620475981411, 'colsample_bytree': 0.9390191354997163}. Best is trial 3 with value: 0.6486654184275314.\n",
      "[I 2024-08-28 18:51:40,600] Trial 6 finished with value: 0.6277572629030415 and parameters: {'n_estimators': 548, 'max_depth': 7, 'learning_rate': 0.0023631878827606585, 'subsample': 0.9115506370369026, 'colsample_bytree': 0.5101398190916475}. Best is trial 3 with value: 0.6486654184275314.\n",
      "[I 2024-08-28 18:51:54,002] Trial 7 finished with value: 0.6496064561555503 and parameters: {'n_estimators': 315, 'max_depth': 7, 'learning_rate': 0.0095450173000011, 'subsample': 0.7623175332019299, 'colsample_bytree': 0.9462988644705549}. Best is trial 7 with value: 0.6496064561555503.\n",
      "[I 2024-08-28 18:51:59,291] Trial 8 finished with value: 0.6334102081950844 and parameters: {'n_estimators': 119, 'max_depth': 8, 'learning_rate': 0.00936990223380576, 'subsample': 0.7894207768684977, 'colsample_bytree': 0.7512193432980854}. Best is trial 7 with value: 0.6496064561555503.\n",
      "[I 2024-08-28 18:52:18,086] Trial 9 finished with value: 0.6315385646022659 and parameters: {'n_estimators': 527, 'max_depth': 8, 'learning_rate': 0.007673460880429238, 'subsample': 0.5925798346006542, 'colsample_bytree': 0.6199958898894931}. Best is trial 7 with value: 0.6496064561555503.\n",
      "[I 2024-08-28 18:52:23,358] Trial 10 finished with value: 0.5964233821545822 and parameters: {'n_estimators': 293, 'max_depth': 3, 'learning_rate': 0.0010738761298388132, 'subsample': 0.6875366833841898, 'colsample_bytree': 0.9830991754744347}. Best is trial 7 with value: 0.6496064561555503.\n",
      "[I 2024-08-28 18:52:32,494] Trial 11 finished with value: 0.6613167759144575 and parameters: {'n_estimators': 278, 'max_depth': 6, 'learning_rate': 0.029573754818400893, 'subsample': 0.9918711166184027, 'colsample_bytree': 0.8098191330156789}. Best is trial 11 with value: 0.6613167759144575.\n",
      "[I 2024-08-28 18:52:40,068] Trial 12 finished with value: 0.6517321050221297 and parameters: {'n_estimators': 220, 'max_depth': 6, 'learning_rate': 0.02134522635045241, 'subsample': 0.998713704146835, 'colsample_bytree': 0.7826786866509825}. Best is trial 11 with value: 0.6613167759144575.\n",
      "[I 2024-08-28 18:52:47,821] Trial 13 finished with value: 0.6603317899296165 and parameters: {'n_estimators': 220, 'max_depth': 6, 'learning_rate': 0.027267900439443202, 'subsample': 0.9825545489807271, 'colsample_bytree': 0.7595207449614734}. Best is trial 11 with value: 0.6613167759144575.\n",
      "[I 2024-08-28 18:52:51,786] Trial 14 finished with value: 0.6590130428030969 and parameters: {'n_estimators': 183, 'max_depth': 4, 'learning_rate': 0.02810977690876157, 'subsample': 0.9809453294341524, 'colsample_bytree': 0.6731761458585704}. Best is trial 11 with value: 0.6613167759144575.\n",
      "[I 2024-08-28 18:52:57,657] Trial 15 finished with value: 0.6393499600390126 and parameters: {'n_estimators': 378, 'max_depth': 6, 'learning_rate': 0.16926959752145287, 'subsample': 0.8656786282689589, 'colsample_bytree': 0.8139996302719003}. Best is trial 11 with value: 0.6613167759144575.\n",
      "[I 2024-08-28 18:53:02,839] Trial 16 finished with value: 0.6568755340550122 and parameters: {'n_estimators': 182, 'max_depth': 5, 'learning_rate': 0.016768134086606223, 'subsample': 0.9298718273121516, 'colsample_bytree': 0.7098902659897816}. Best is trial 11 with value: 0.6613167759144575.\n",
      "[I 2024-08-28 18:53:11,973] Trial 17 finished with value: 0.6417743553808033 and parameters: {'n_estimators': 354, 'max_depth': 6, 'learning_rate': 0.045627499236030974, 'subsample': 0.8485358415486454, 'colsample_bytree': 0.6810560369626354}. Best is trial 11 with value: 0.6613167759144575.\n",
      "[I 2024-08-28 18:53:16,738] Trial 18 finished with value: 0.6558987460967652 and parameters: {'n_estimators': 244, 'max_depth': 4, 'learning_rate': 0.017806086370089937, 'subsample': 0.9576985564210587, 'colsample_bytree': 0.6081313082481341}. Best is trial 11 with value: 0.6613167759144575.\n",
      "[I 2024-08-28 18:53:19,942] Trial 19 finished with value: 0.6347536054908377 and parameters: {'n_estimators': 171, 'max_depth': 4, 'learning_rate': 0.18846096165502846, 'subsample': 0.8829748449514395, 'colsample_bytree': 0.8258507028053902}. Best is trial 11 with value: 0.6613167759144575.\n",
      "[I 2024-08-28 18:53:29,509] Trial 20 finished with value: 0.6545929196294558 and parameters: {'n_estimators': 309, 'max_depth': 6, 'learning_rate': 0.03329849973699781, 'subsample': 0.8223910740575637, 'colsample_bytree': 0.7512756052579003}. Best is trial 11 with value: 0.6613167759144575.\n",
      "[I 2024-08-28 18:53:33,139] Trial 21 finished with value: 0.6576564630485229 and parameters: {'n_estimators': 164, 'max_depth': 4, 'learning_rate': 0.028609521582233025, 'subsample': 0.9890155476526915, 'colsample_bytree': 0.6904835911508445}. Best is trial 11 with value: 0.6613167759144575.\n",
      "[I 2024-08-28 18:53:36,400] Trial 22 finished with value: 0.6587033959954752 and parameters: {'n_estimators': 203, 'max_depth': 3, 'learning_rate': 0.02438732234393131, 'subsample': 0.9714080763016926, 'colsample_bytree': 0.6383076150878999}. Best is trial 11 with value: 0.6613167759144575.\n",
      "[I 2024-08-28 18:53:43,082] Trial 23 finished with value: 0.6486453333505681 and parameters: {'n_estimators': 275, 'max_depth': 5, 'learning_rate': 0.07054151648964299, 'subsample': 0.9308250493689351, 'colsample_bytree': 0.7801816400966357}. Best is trial 11 with value: 0.6613167759144575.\n",
      "[I 2024-08-28 18:53:46,080] Trial 24 finished with value: 0.6386243133109 and parameters: {'n_estimators': 141, 'max_depth': 4, 'learning_rate': 0.012010052684999885, 'subsample': 0.7030504392828449, 'colsample_bytree': 0.7186505802104103}. Best is trial 11 with value: 0.6613167759144575.\n",
      "[I 2024-08-28 18:53:51,940] Trial 25 finished with value: 0.6555516935171468 and parameters: {'n_estimators': 222, 'max_depth': 6, 'learning_rate': 0.05004554449823264, 'subsample': 0.958029978950319, 'colsample_bytree': 0.6559728814283784}. Best is trial 11 with value: 0.6613167759144575.\n",
      "[I 2024-08-28 18:53:57,352] Trial 26 finished with value: 0.6345360158189076 and parameters: {'n_estimators': 337, 'max_depth': 5, 'learning_rate': 0.11486402092087104, 'subsample': 0.9117197725007473, 'colsample_bytree': 0.5762805625481074}. Best is trial 11 with value: 0.6613167759144575.\n",
      "[I 2024-08-28 18:54:03,693] Trial 27 finished with value: 0.6621843426716462 and parameters: {'n_estimators': 385, 'max_depth': 3, 'learning_rate': 0.01435066456914145, 'subsample': 0.9925248182515267, 'colsample_bytree': 0.8768083203748256}. Best is trial 27 with value: 0.6621843426716462.\n",
      "[I 2024-08-28 18:54:10,347] Trial 28 finished with value: 0.6322665356983816 and parameters: {'n_estimators': 393, 'max_depth': 3, 'learning_rate': 0.005694214541680861, 'subsample': 0.8840493002252334, 'colsample_bytree': 0.8696291517262638}. Best is trial 27 with value: 0.6621843426716462.\n",
      "[I 2024-08-28 18:54:24,160] Trial 29 finished with value: 0.6475336829531146 and parameters: {'n_estimators': 349, 'max_depth': 7, 'learning_rate': 0.014544506050931409, 'subsample': 0.7052308014391411, 'colsample_bytree': 0.8787401455505051}. Best is trial 27 with value: 0.6621843426716462.\n",
      "[I 2024-08-28 18:54:44,384] Trial 30 finished with value: 0.6532541592465818 and parameters: {'n_estimators': 593, 'max_depth': 6, 'learning_rate': 0.003837354073052289, 'subsample': 0.8148996849815747, 'colsample_bytree': 0.7964104824028353}. Best is trial 27 with value: 0.6621843426716462.\n",
      "[I 2024-08-28 18:54:46,165] Trial 31 finished with value: 0.6529740215418057 and parameters: {'n_estimators': 100, 'max_depth': 3, 'learning_rate': 0.03384740603287384, 'subsample': 0.9993523982629406, 'colsample_bytree': 0.8409727119279564}. Best is trial 27 with value: 0.6621843426716462.\n",
      "[I 2024-08-28 18:54:51,600] Trial 32 finished with value: 0.6619757376598745 and parameters: {'n_estimators': 254, 'max_depth': 4, 'learning_rate': 0.02041834756010283, 'subsample': 0.9564406281440543, 'colsample_bytree': 0.7257555523489576}. Best is trial 27 with value: 0.6621843426716462.\n",
      "[I 2024-08-28 18:54:58,071] Trial 33 finished with value: 0.6570153632754036 and parameters: {'n_estimators': 245, 'max_depth': 5, 'learning_rate': 0.012006166977501658, 'subsample': 0.9501193960769431, 'colsample_bytree': 0.7315228828534854}. Best is trial 27 with value: 0.6621843426716462.\n",
      "[I 2024-08-28 18:55:05,123] Trial 34 finished with value: 0.6437706334878402 and parameters: {'n_estimators': 413, 'max_depth': 3, 'learning_rate': 0.007085084195568606, 'subsample': 0.9444724681075932, 'colsample_bytree': 0.7692394014853755}. Best is trial 27 with value: 0.6621843426716462.\n",
      "[I 2024-08-28 18:55:11,370] Trial 35 finished with value: 0.6548029205010443 and parameters: {'n_estimators': 281, 'max_depth': 4, 'learning_rate': 0.018768276237668427, 'subsample': 0.8954878498278069, 'colsample_bytree': 0.8544826976751402}. Best is trial 27 with value: 0.6621843426716462.\n",
      "[I 2024-08-28 18:55:18,463] Trial 36 finished with value: 0.6276357151713892 and parameters: {'n_estimators': 259, 'max_depth': 5, 'learning_rate': 0.04505241823058723, 'subsample': 0.5157676520679754, 'colsample_bytree': 0.9014820974283568}. Best is trial 27 with value: 0.6621843426716462.\n",
      "[I 2024-08-28 18:55:26,590] Trial 37 finished with value: 0.6463304351869166 and parameters: {'n_estimators': 447, 'max_depth': 7, 'learning_rate': 0.09575859987370144, 'subsample': 0.9758938780241045, 'colsample_bytree': 0.8101059527592043}. Best is trial 27 with value: 0.6621843426716462.\n",
      "[I 2024-08-28 18:55:32,575] Trial 38 finished with value: 0.6622151213017927 and parameters: {'n_estimators': 326, 'max_depth': 3, 'learning_rate': 0.023160394044645684, 'subsample': 0.9118332430203959, 'colsample_bytree': 0.902555560792697}. Best is trial 38 with value: 0.6622151213017927.\n",
      "[I 2024-08-28 18:55:38,457] Trial 39 finished with value: 0.653542517237154 and parameters: {'n_estimators': 327, 'max_depth': 3, 'learning_rate': 0.011881359136913754, 'subsample': 0.9240412995672455, 'colsample_bytree': 0.9136169052140044}. Best is trial 38 with value: 0.6622151213017927.\n",
      "[I 2024-08-28 18:55:45,411] Trial 40 finished with value: 0.620935973288502 and parameters: {'n_estimators': 390, 'max_depth': 3, 'learning_rate': 0.004010612445723613, 'subsample': 0.8301649235823045, 'colsample_bytree': 0.9596711828663854}. Best is trial 38 with value: 0.6622151213017927.\n",
      "[I 2024-08-28 18:55:52,127] Trial 41 finished with value: 0.6625040824364405 and parameters: {'n_estimators': 365, 'max_depth': 3, 'learning_rate': 0.02374695438653973, 'subsample': 0.9623377402663645, 'colsample_bytree': 0.8999216427805046}. Best is trial 41 with value: 0.6625040824364405.\n",
      "[I 2024-08-28 18:55:58,451] Trial 42 finished with value: 0.6626746814891908 and parameters: {'n_estimators': 359, 'max_depth': 3, 'learning_rate': 0.019879862408816007, 'subsample': 0.9538518431503157, 'colsample_bytree': 0.9350597024623915}. Best is trial 42 with value: 0.6626746814891908.\n",
      "[I 2024-08-28 18:56:05,065] Trial 43 finished with value: 0.664223767769431 and parameters: {'n_estimators': 367, 'max_depth': 3, 'learning_rate': 0.022533894326343465, 'subsample': 0.9480983724890246, 'colsample_bytree': 0.9078254898796256}. Best is trial 43 with value: 0.664223767769431.\n",
      "[I 2024-08-28 18:56:13,162] Trial 44 finished with value: 0.6513962399536013 and parameters: {'n_estimators': 429, 'max_depth': 3, 'learning_rate': 0.009239749173312006, 'subsample': 0.9014297007690208, 'colsample_bytree': 0.9995931702446313}. Best is trial 43 with value: 0.664223767769431.\n",
      "[I 2024-08-28 18:56:21,961] Trial 45 finished with value: 0.6543764742725392 and parameters: {'n_estimators': 493, 'max_depth': 3, 'learning_rate': 0.014524203812162817, 'subsample': 0.8555165821309989, 'colsample_bytree': 0.9251862253831353}. Best is trial 43 with value: 0.664223767769431.\n",
      "[I 2024-08-28 18:56:28,506] Trial 46 finished with value: 0.6567513440603259 and parameters: {'n_estimators': 369, 'max_depth': 3, 'learning_rate': 0.02179440947681057, 'subsample': 0.9366355562999742, 'colsample_bytree': 0.8976008228127992}. Best is trial 43 with value: 0.664223767769431.\n",
      "[I 2024-08-28 18:56:35,551] Trial 47 finished with value: 0.630795024405537 and parameters: {'n_estimators': 402, 'max_depth': 3, 'learning_rate': 0.03944960188009935, 'subsample': 0.6498200945970153, 'colsample_bytree': 0.9587783952062939}. Best is trial 43 with value: 0.664223767769431.\n",
      "[I 2024-08-28 18:56:41,805] Trial 48 finished with value: 0.6500041027323892 and parameters: {'n_estimators': 360, 'max_depth': 3, 'learning_rate': 0.05747051344087594, 'subsample': 0.9127601655364724, 'colsample_bytree': 0.9378243751432807}. Best is trial 43 with value: 0.664223767769431.\n",
      "[I 2024-08-28 18:56:49,252] Trial 49 finished with value: 0.6565698402219025 and parameters: {'n_estimators': 306, 'max_depth': 4, 'learning_rate': 0.007400130512257355, 'subsample': 0.8781293546992905, 'colsample_bytree': 0.8892287000188218}. Best is trial 43 with value: 0.664223767769431.\n",
      "[I 2024-08-28 18:56:56,647] Trial 50 finished with value: 0.6669803180451318 and parameters: {'n_estimators': 430, 'max_depth': 3, 'learning_rate': 0.014550713354800236, 'subsample': 0.9572658431744863, 'colsample_bytree': 0.9711494665133502}. Best is trial 50 with value: 0.6669803180451318.\n",
      "[I 2024-08-28 18:57:04,544] Trial 51 finished with value: 0.6678544183444305 and parameters: {'n_estimators': 447, 'max_depth': 3, 'learning_rate': 0.015729716387262917, 'subsample': 0.9657516476549107, 'colsample_bytree': 0.9749508556021644}. Best is trial 51 with value: 0.6678544183444305.\n",
      "[I 2024-08-28 18:57:12,801] Trial 52 finished with value: 0.6624027259136792 and parameters: {'n_estimators': 485, 'max_depth': 3, 'learning_rate': 0.010074667223259993, 'subsample': 0.9677167651230174, 'colsample_bytree': 0.9748843765119748}. Best is trial 51 with value: 0.6678544183444305.\n",
      "[I 2024-08-28 18:57:20,638] Trial 53 finished with value: 0.6608097164761304 and parameters: {'n_estimators': 485, 'max_depth': 3, 'learning_rate': 0.010761845224663025, 'subsample': 0.9679803947144477, 'colsample_bytree': 0.9793094280075684}. Best is trial 51 with value: 0.6678544183444305.\n",
      "[I 2024-08-28 18:57:31,475] Trial 54 finished with value: 0.6653658967739016 and parameters: {'n_estimators': 506, 'max_depth': 4, 'learning_rate': 0.009235282941225257, 'subsample': 0.9403848980411325, 'colsample_bytree': 0.9823186184649694}. Best is trial 51 with value: 0.6678544183444305.\n",
      "[I 2024-08-28 18:57:42,937] Trial 55 finished with value: 0.6655716206651076 and parameters: {'n_estimators': 515, 'max_depth': 4, 'learning_rate': 0.01737315545976716, 'subsample': 0.9402801086739883, 'colsample_bytree': 0.9330588855297572}. Best is trial 51 with value: 0.6678544183444305.\n",
      "[I 2024-08-28 18:57:55,364] Trial 56 finished with value: 0.6347722769739353 and parameters: {'n_estimators': 530, 'max_depth': 4, 'learning_rate': 0.01664067747700233, 'subsample': 0.5406366772649922, 'colsample_bytree': 0.9954918000030675}. Best is trial 51 with value: 0.6678544183444305.\n",
      "[I 2024-08-28 18:58:05,832] Trial 57 finished with value: 0.6398036678804827 and parameters: {'n_estimators': 460, 'max_depth': 4, 'learning_rate': 0.0024977434255005803, 'subsample': 0.7779343444337634, 'colsample_bytree': 0.9506747392218038}. Best is trial 51 with value: 0.6678544183444305.\n",
      "[I 2024-08-28 18:58:17,278] Trial 58 finished with value: 0.6596148571663144 and parameters: {'n_estimators': 513, 'max_depth': 4, 'learning_rate': 0.0058727132841491754, 'subsample': 0.9452936558705239, 'colsample_bytree': 0.9256319131328481}. Best is trial 51 with value: 0.6678544183444305.\n",
      "[I 2024-08-28 18:58:29,575] Trial 59 finished with value: 0.6609948834611197 and parameters: {'n_estimators': 562, 'max_depth': 4, 'learning_rate': 0.008102272264438205, 'subsample': 0.9268536077680755, 'colsample_bytree': 0.9702289904310046}. Best is trial 51 with value: 0.6678544183444305.\n",
      "[I 2024-08-28 18:58:39,436] Trial 60 finished with value: 0.6547447185789768 and parameters: {'n_estimators': 443, 'max_depth': 4, 'learning_rate': 0.016534487222199724, 'subsample': 0.8688718395907798, 'colsample_bytree': 0.9371986447157078}. Best is trial 51 with value: 0.6678544183444305.\n",
      "[I 2024-08-28 18:58:46,707] Trial 61 finished with value: 0.6545661726346941 and parameters: {'n_estimators': 431, 'max_depth': 3, 'learning_rate': 0.025815128530537072, 'subsample': 0.8954106453456654, 'colsample_bytree': 0.9216661495167741}. Best is trial 51 with value: 0.6678544183444305.\n",
      "[I 2024-08-28 18:58:55,050] Trial 62 finished with value: 0.6510021042717171 and parameters: {'n_estimators': 507, 'max_depth': 3, 'learning_rate': 0.035245788594781724, 'subsample': 0.9767007209672501, 'colsample_bytree': 0.9483443942874642}. Best is trial 51 with value: 0.6678544183444305.\n",
      "[I 2024-08-28 18:59:02,836] Trial 63 finished with value: 0.6594376764934937 and parameters: {'n_estimators': 466, 'max_depth': 3, 'learning_rate': 0.013367846888470602, 'subsample': 0.9370520230978331, 'colsample_bytree': 0.983435897524032}. Best is trial 51 with value: 0.6678544183444305.\n",
      "[I 2024-08-28 18:59:10,030] Trial 64 finished with value: 0.6454389831300914 and parameters: {'n_estimators': 409, 'max_depth': 3, 'learning_rate': 0.0203822310010068, 'subsample': 0.7373681098345277, 'colsample_bytree': 0.9637525011125111}. Best is trial 51 with value: 0.6678544183444305.\n",
      "[I 2024-08-28 18:59:22,521] Trial 65 finished with value: 0.6573593599151738 and parameters: {'n_estimators': 553, 'max_depth': 4, 'learning_rate': 0.02893401008295388, 'subsample': 0.9582673215766273, 'colsample_bytree': 0.9318334473982958}. Best is trial 51 with value: 0.6678544183444305.\n",
      "[I 2024-08-28 18:59:29,750] Trial 66 finished with value: 0.6624763758814725 and parameters: {'n_estimators': 375, 'max_depth': 3, 'learning_rate': 0.016469868835667544, 'subsample': 0.9997404659091178, 'colsample_bytree': 0.9878030144397668}. Best is trial 51 with value: 0.6678544183444305.\n",
      "[I 2024-08-28 18:59:39,770] Trial 67 finished with value: 0.6568783143551448 and parameters: {'n_estimators': 471, 'max_depth': 4, 'learning_rate': 0.024863860882901552, 'subsample': 0.9217688724299182, 'colsample_bytree': 0.8631077768980958}. Best is trial 51 with value: 0.6678544183444305.\n",
      "[I 2024-08-28 18:59:49,270] Trial 68 finished with value: 0.6601569097430958 and parameters: {'n_estimators': 534, 'max_depth': 3, 'learning_rate': 0.008445136406165798, 'subsample': 0.982084879720347, 'colsample_bytree': 0.9106642544552306}. Best is trial 51 with value: 0.6678544183444305.\n",
      "[I 2024-08-28 18:59:57,495] Trial 69 finished with value: 0.6661648216482924 and parameters: {'n_estimators': 344, 'max_depth': 4, 'learning_rate': 0.013375537324790831, 'subsample': 0.9628965875957268, 'colsample_bytree': 0.9518809299370853}. Best is trial 51 with value: 0.6678544183444305.\n",
      "[I 2024-08-28 19:00:12,599] Trial 70 finished with value: 0.66066417664402 and parameters: {'n_estimators': 504, 'max_depth': 5, 'learning_rate': 0.011427439757836135, 'subsample': 0.9424145529799185, 'colsample_bytree': 0.9480728662486931}. Best is trial 51 with value: 0.6678544183444305.\n",
      "[I 2024-08-28 19:00:21,594] Trial 71 finished with value: 0.6620490416472432 and parameters: {'n_estimators': 367, 'max_depth': 4, 'learning_rate': 0.013130064437169494, 'subsample': 0.9664885834888837, 'colsample_bytree': 0.9632376198581069}. Best is trial 51 with value: 0.6678544183444305.\n",
      "[I 2024-08-28 19:00:27,873] Trial 72 finished with value: 0.6636361071392439 and parameters: {'n_estimators': 349, 'max_depth': 3, 'learning_rate': 0.01839098594382255, 'subsample': 0.9517348284571009, 'colsample_bytree': 0.8868088002205765}. Best is trial 51 with value: 0.6678544183444305.\n",
      "[I 2024-08-28 19:00:36,044] Trial 73 finished with value: 0.6568836531252491 and parameters: {'n_estimators': 344, 'max_depth': 4, 'learning_rate': 0.01848593818587662, 'subsample': 0.9033759563026311, 'colsample_bytree': 0.837359036004313}. Best is trial 51 with value: 0.6678544183444305.\n",
      "[I 2024-08-28 19:00:45,494] Trial 74 finished with value: 0.6614859540759159 and parameters: {'n_estimators': 304, 'max_depth': 5, 'learning_rate': 0.006294442955922498, 'subsample': 0.9827491721335055, 'colsample_bytree': 0.973969240284497}. Best is trial 51 with value: 0.6678544183444305.\n",
      "[I 2024-08-28 19:00:51,645] Trial 75 finished with value: 0.6021511816308628 and parameters: {'n_estimators': 329, 'max_depth': 3, 'learning_rate': 0.0011258772314927175, 'subsample': 0.9269679065595025, 'colsample_bytree': 0.8877218907332826}. Best is trial 51 with value: 0.6678544183444305.\n",
      "[I 2024-08-28 19:01:05,296] Trial 76 finished with value: 0.6634776222757544 and parameters: {'n_estimators': 578, 'max_depth': 4, 'learning_rate': 0.015262298752596411, 'subsample': 0.945477410560693, 'colsample_bytree': 0.9415641913655124}. Best is trial 51 with value: 0.6678544183444305.\n",
      "[I 2024-08-28 19:01:20,593] Trial 77 finished with value: 0.6652891530373847 and parameters: {'n_estimators': 580, 'max_depth': 4, 'learning_rate': 0.009927503986600375, 'subsample': 0.8873044007766246, 'colsample_bytree': 0.9993242928136448}. Best is trial 51 with value: 0.6678544183444305.\n",
      "[I 2024-08-28 19:01:35,957] Trial 78 finished with value: 0.6598666267177872 and parameters: {'n_estimators': 582, 'max_depth': 4, 'learning_rate': 0.004778564425360487, 'subsample': 0.8901595913510927, 'colsample_bytree': 0.990254026737696}. Best is trial 51 with value: 0.6678544183444305.\n",
      "[I 2024-08-28 19:01:52,748] Trial 79 finished with value: 0.6641076203610571 and parameters: {'n_estimators': 538, 'max_depth': 5, 'learning_rate': 0.009629548071398153, 'subsample': 0.9152662876740363, 'colsample_bytree': 0.9589442335454494}. Best is trial 51 with value: 0.6678544183444305.\n",
      "[I 2024-08-28 19:02:12,140] Trial 80 finished with value: 0.6594550298046822 and parameters: {'n_estimators': 600, 'max_depth': 5, 'learning_rate': 0.006959776137197189, 'subsample': 0.9108333423852134, 'colsample_bytree': 0.9993271517901858}. Best is trial 51 with value: 0.6678544183444305.\n",
      "[I 2024-08-28 19:02:28,735] Trial 81 finished with value: 0.662765741175536 and parameters: {'n_estimators': 537, 'max_depth': 5, 'learning_rate': 0.008806745614434718, 'subsample': 0.9196258969802966, 'colsample_bytree': 0.9538251683832478}. Best is trial 51 with value: 0.6678544183444305.\n",
      "[I 2024-08-28 19:02:41,594] Trial 82 finished with value: 0.6627736711770935 and parameters: {'n_estimators': 521, 'max_depth': 4, 'learning_rate': 0.010158756591672117, 'subsample': 0.9373316877671778, 'colsample_bytree': 0.9175132661160929}. Best is trial 51 with value: 0.6678544183444305.\n",
      "[I 2024-08-28 19:02:58,695] Trial 83 finished with value: 0.6716517542766041 and parameters: {'n_estimators': 561, 'max_depth': 5, 'learning_rate': 0.01295608154365408, 'subsample': 0.9536100011935703, 'colsample_bytree': 0.976328930931248}. Best is trial 83 with value: 0.6716517542766041.\n",
      "[I 2024-08-28 19:03:16,252] Trial 84 finished with value: 0.6724427856189954 and parameters: {'n_estimators': 567, 'max_depth': 5, 'learning_rate': 0.013070554505854443, 'subsample': 0.9881156721567672, 'colsample_bytree': 0.9721152924916188}. Best is trial 84 with value: 0.6724427856189954.\n",
      "[I 2024-08-28 19:03:33,572] Trial 85 finished with value: 0.6720184923876671 and parameters: {'n_estimators': 566, 'max_depth': 5, 'learning_rate': 0.012441074937648202, 'subsample': 0.9841325743698548, 'colsample_bytree': 0.9801123302005246}. Best is trial 84 with value: 0.6724427856189954.\n",
      "[I 2024-08-28 19:03:51,145] Trial 86 finished with value: 0.6694138421259425 and parameters: {'n_estimators': 566, 'max_depth': 5, 'learning_rate': 0.012789627719059234, 'subsample': 0.9894748332230964, 'colsample_bytree': 0.9808289484109294}. Best is trial 84 with value: 0.6724427856189954.\n",
      "[I 2024-08-28 19:04:07,838] Trial 87 finished with value: 0.6745783767150438 and parameters: {'n_estimators': 564, 'max_depth': 5, 'learning_rate': 0.012128566391788647, 'subsample': 0.9912755336485262, 'colsample_bytree': 0.9801718094117954}. Best is trial 87 with value: 0.6745783767150438.\n",
      "[I 2024-08-28 19:04:21,222] Trial 88 finished with value: 0.655538663876017 and parameters: {'n_estimators': 560, 'max_depth': 5, 'learning_rate': 0.012849642984049753, 'subsample': 0.9886224354416098, 'colsample_bytree': 0.5263176886630927}. Best is trial 87 with value: 0.6745783767150438.\n",
      "[I 2024-08-28 19:04:38,035] Trial 89 finished with value: 0.6726162739371602 and parameters: {'n_estimators': 566, 'max_depth': 5, 'learning_rate': 0.014303009002932753, 'subsample': 0.9906445879787235, 'colsample_bytree': 0.9699754226868892}. Best is trial 87 with value: 0.6745783767150438.\n",
      "[I 2024-08-28 19:04:55,738] Trial 90 finished with value: 0.6708783084046807 and parameters: {'n_estimators': 569, 'max_depth': 5, 'learning_rate': 0.011377520183444104, 'subsample': 0.9919644787496523, 'colsample_bytree': 0.9677596435959698}. Best is trial 87 with value: 0.6745783767150438.\n",
      "[I 2024-08-28 19:05:12,999] Trial 91 finished with value: 0.6701442969154846 and parameters: {'n_estimators': 570, 'max_depth': 5, 'learning_rate': 0.01148769566115687, 'subsample': 0.9918486309518553, 'colsample_bytree': 0.9697553965970961}. Best is trial 87 with value: 0.6745783767150438.\n",
      "[I 2024-08-28 19:05:29,799] Trial 92 finished with value: 0.6646715828667716 and parameters: {'n_estimators': 568, 'max_depth': 5, 'learning_rate': 0.011305274750570068, 'subsample': 0.9854098007314791, 'colsample_bytree': 0.9706160249734064}. Best is trial 87 with value: 0.6745783767150438.\n",
      "[I 2024-08-28 19:05:48,406] Trial 93 finished with value: 0.6592710320223154 and parameters: {'n_estimators': 546, 'max_depth': 6, 'learning_rate': 0.015001852739741514, 'subsample': 0.99238588707343, 'colsample_bytree': 0.9810634233074584}. Best is trial 87 with value: 0.6745783767150438.\n",
      "[I 2024-08-28 19:06:05,596] Trial 94 finished with value: 0.6668605990637304 and parameters: {'n_estimators': 571, 'max_depth': 5, 'learning_rate': 0.011936439503770825, 'subsample': 0.9756591133167591, 'colsample_bytree': 0.9673166083694897}. Best is trial 87 with value: 0.6745783767150438.\n",
      "[I 2024-08-28 19:06:22,543] Trial 95 finished with value: 0.6661522690251837 and parameters: {'n_estimators': 590, 'max_depth': 5, 'learning_rate': 0.014629413191143952, 'subsample': 0.9979436151982859, 'colsample_bytree': 0.9822657205854002}. Best is trial 87 with value: 0.6745783767150438.\n",
      "[I 2024-08-28 19:06:45,230] Trial 96 finished with value: 0.6611168403821978 and parameters: {'n_estimators': 589, 'max_depth': 6, 'learning_rate': 0.007956395579377789, 'subsample': 0.9727746609349875, 'colsample_bytree': 0.9912019340858519}. Best is trial 87 with value: 0.6745783767150438.\n",
      "[I 2024-08-28 19:07:01,305] Trial 97 finished with value: 0.6677661870058995 and parameters: {'n_estimators': 547, 'max_depth': 5, 'learning_rate': 0.010912820514531222, 'subsample': 0.9885794475782902, 'colsample_bytree': 0.9712762847273824}. Best is trial 87 with value: 0.6745783767150438.\n",
      "[I 2024-08-28 19:07:17,932] Trial 98 finished with value: 0.6666709800669826 and parameters: {'n_estimators': 551, 'max_depth': 5, 'learning_rate': 0.01101230630842139, 'subsample': 0.9906486756510684, 'colsample_bytree': 0.9433371484805579}. Best is trial 87 with value: 0.6745783767150438.\n",
      "[I 2024-08-28 19:07:34,557] Trial 99 finished with value: 0.661619986895041 and parameters: {'n_estimators': 545, 'max_depth': 5, 'learning_rate': 0.007004826645795635, 'subsample': 0.9995199802016685, 'colsample_bytree': 0.9611365656834082}. Best is trial 87 with value: 0.6745783767150438.\n",
      "[I 2024-08-28 19:07:50,989] Trial 100 finished with value: 0.6714310031543179 and parameters: {'n_estimators': 561, 'max_depth': 5, 'learning_rate': 0.012801470713278883, 'subsample': 0.9782683043835949, 'colsample_bytree': 0.9745741081881626}. Best is trial 87 with value: 0.6745783767150438.\n",
      "[I 2024-08-28 19:08:07,600] Trial 101 finished with value: 0.6706752280003961 and parameters: {'n_estimators': 564, 'max_depth': 5, 'learning_rate': 0.012783523038408696, 'subsample': 0.9771743989828369, 'colsample_bytree': 0.9757537772669913}. Best is trial 87 with value: 0.6745783767150438.\n",
      "[I 2024-08-28 19:08:25,589] Trial 102 finished with value: 0.6692626256322168 and parameters: {'n_estimators': 567, 'max_depth': 5, 'learning_rate': 0.012785388481133165, 'subsample': 0.9756753558894035, 'colsample_bytree': 0.9902339244655433}. Best is trial 87 with value: 0.6745783767150438.\n",
      "[I 2024-08-28 19:08:43,824] Trial 103 finished with value: 0.6729481619061346 and parameters: {'n_estimators': 570, 'max_depth': 5, 'learning_rate': 0.012798289128795094, 'subsample': 0.9759161626247761, 'colsample_bytree': 0.988747538018688}. Best is trial 87 with value: 0.6745783767150438.\n",
      "[I 2024-08-28 19:09:03,545] Trial 104 finished with value: 0.6677903139422039 and parameters: {'n_estimators': 598, 'max_depth': 5, 'learning_rate': 0.009110363051103696, 'subsample': 0.9812403025066687, 'colsample_bytree': 0.9868960682822382}. Best is trial 87 with value: 0.6745783767150438.\n",
      "[I 2024-08-28 19:09:21,386] Trial 105 finished with value: 0.6654371031423332 and parameters: {'n_estimators': 559, 'max_depth': 5, 'learning_rate': 0.012553634720210793, 'subsample': 0.9707283451816385, 'colsample_bytree': 0.9544585809271864}. Best is trial 87 with value: 0.6745783767150438.\n",
      "[I 2024-08-28 19:09:39,432] Trial 106 finished with value: 0.6649187337203648 and parameters: {'n_estimators': 574, 'max_depth': 5, 'learning_rate': 0.010480121940729831, 'subsample': 0.9597579634580906, 'colsample_bytree': 0.9268953774679903}. Best is trial 87 with value: 0.6745783767150438.\n",
      "[I 2024-08-28 19:09:55,245] Trial 107 finished with value: 0.6752548172158596 and parameters: {'n_estimators': 527, 'max_depth': 5, 'learning_rate': 0.02011939732905237, 'subsample': 0.984649177641474, 'colsample_bytree': 0.9771549793155337}. Best is trial 107 with value: 0.6752548172158596.\n",
      "[I 2024-08-28 19:10:11,294] Trial 108 finished with value: 0.6698628269172447 and parameters: {'n_estimators': 524, 'max_depth': 5, 'learning_rate': 0.020079281467761525, 'subsample': 0.9802461987730597, 'colsample_bytree': 0.9410495380670483}. Best is trial 107 with value: 0.6752548172158596.\n",
      "[I 2024-08-28 19:10:29,860] Trial 109 finished with value: 0.6645209181809976 and parameters: {'n_estimators': 587, 'max_depth': 5, 'learning_rate': 0.017054994290111185, 'subsample': 0.9541964365325134, 'colsample_bytree': 0.9641905088370231}. Best is trial 107 with value: 0.6752548172158596.\n",
      "[I 2024-08-28 19:10:49,351] Trial 110 finished with value: 0.665731704828308 and parameters: {'n_estimators': 553, 'max_depth': 6, 'learning_rate': 0.021766759889609178, 'subsample': 0.9686323505145225, 'colsample_bytree': 0.9927938490632977}. Best is trial 107 with value: 0.6752548172158596.\n",
      "[I 2024-08-28 19:11:05,131] Trial 111 finished with value: 0.6669349077542982 and parameters: {'n_estimators': 528, 'max_depth': 5, 'learning_rate': 0.019328031462178107, 'subsample': 0.9807105502901697, 'colsample_bytree': 0.9748997377506402}. Best is trial 107 with value: 0.6752548172158596.\n",
      "[I 2024-08-28 19:11:20,706] Trial 112 finished with value: 0.6672364876621458 and parameters: {'n_estimators': 520, 'max_depth': 5, 'learning_rate': 0.015789358544045867, 'subsample': 0.9943450458321861, 'colsample_bytree': 0.9443077570517767}. Best is trial 107 with value: 0.6752548172158596.\n",
      "[I 2024-08-28 19:11:37,645] Trial 113 finished with value: 0.668385386230122 and parameters: {'n_estimators': 540, 'max_depth': 5, 'learning_rate': 0.013951860928887552, 'subsample': 0.9772487258254726, 'colsample_bytree': 0.9553124344112457}. Best is trial 107 with value: 0.6752548172158596.\n",
      "[I 2024-08-28 19:11:57,100] Trial 114 finished with value: 0.6670205724385365 and parameters: {'n_estimators': 577, 'max_depth': 5, 'learning_rate': 0.017933311201034464, 'subsample': 0.9624367976795949, 'colsample_bytree': 0.9988575089172285}. Best is trial 107 with value: 0.6752548172158596.\n",
      "[I 2024-08-28 19:12:14,098] Trial 115 finished with value: 0.640361048374631 and parameters: {'n_estimators': 558, 'max_depth': 5, 'learning_rate': 0.008252024024206448, 'subsample': 0.5954017497559307, 'colsample_bytree': 0.9657542219501498}. Best is trial 107 with value: 0.6752548172158596.\n",
      "[I 2024-08-28 19:12:30,233] Trial 116 finished with value: 0.6660442809287929 and parameters: {'n_estimators': 527, 'max_depth': 5, 'learning_rate': 0.01171575796768449, 'subsample': 0.9993042035752875, 'colsample_bytree': 0.9395825558182181}. Best is trial 107 with value: 0.6752548172158596.\n",
      "[I 2024-08-28 19:12:45,966] Trial 117 finished with value: 0.6633042143881084 and parameters: {'n_estimators': 587, 'max_depth': 5, 'learning_rate': 0.026475096154223363, 'subsample': 0.9840809855102611, 'colsample_bytree': 0.9792454625403058}. Best is trial 107 with value: 0.6752548172158596.\n",
      "[I 2024-08-28 19:13:02,147] Trial 118 finished with value: 0.6628122510099198 and parameters: {'n_estimators': 570, 'max_depth': 5, 'learning_rate': 0.020218000784505818, 'subsample': 0.9520197277120697, 'colsample_bytree': 0.9483092178061943}. Best is trial 107 with value: 0.6752548172158596.\n",
      "[I 2024-08-28 19:13:19,028] Trial 119 finished with value: 0.6614930874208639 and parameters: {'n_estimators': 600, 'max_depth': 6, 'learning_rate': 0.031089745765601983, 'subsample': 0.9697052117504693, 'colsample_bytree': 0.9864859347724135}. Best is trial 107 with value: 0.6752548172158596.\n",
      "[I 2024-08-28 19:13:36,142] Trial 120 finished with value: 0.6711583882936506 and parameters: {'n_estimators': 558, 'max_depth': 5, 'learning_rate': 0.014371710978829104, 'subsample': 0.9866005078025396, 'colsample_bytree': 0.9627197491492675}. Best is trial 107 with value: 0.6752548172158596.\n",
      "[I 2024-08-28 19:13:52,366] Trial 121 finished with value: 0.6707056990915237 and parameters: {'n_estimators': 496, 'max_depth': 5, 'learning_rate': 0.013810926587679295, 'subsample': 0.9856492108689873, 'colsample_bytree': 0.9640296074209033}. Best is trial 107 with value: 0.6752548172158596.\n",
      "[I 2024-08-28 19:14:09,608] Trial 122 finished with value: 0.6698283747479831 and parameters: {'n_estimators': 551, 'max_depth': 5, 'learning_rate': 0.013853033962218347, 'subsample': 0.9897765793165029, 'colsample_bytree': 0.966151538699135}. Best is trial 107 with value: 0.6752548172158596.\n",
      "[I 2024-08-28 19:14:28,373] Trial 123 finished with value: 0.6653853041834777 and parameters: {'n_estimators': 578, 'max_depth': 5, 'learning_rate': 0.015882860110734132, 'subsample': 0.9991600684671008, 'colsample_bytree': 0.97514382280988}. Best is trial 107 with value: 0.6752548172158596.\n",
      "[I 2024-08-28 19:14:47,083] Trial 124 finished with value: 0.6628122684677852 and parameters: {'n_estimators': 536, 'max_depth': 5, 'learning_rate': 0.009978567430974559, 'subsample': 0.9608427114673528, 'colsample_bytree': 0.9999443208181866}. Best is trial 107 with value: 0.6752548172158596.\n",
      "[I 2024-08-28 19:15:04,781] Trial 125 finished with value: 0.6643620099876223 and parameters: {'n_estimators': 561, 'max_depth': 5, 'learning_rate': 0.013390574417565252, 'subsample': 0.9732665642413376, 'colsample_bytree': 0.958695270797433}. Best is trial 107 with value: 0.6752548172158596.\n",
      "[I 2024-08-28 19:15:25,754] Trial 126 finished with value: 0.6642253995037436 and parameters: {'n_estimators': 542, 'max_depth': 5, 'learning_rate': 0.012120289696310373, 'subsample': 0.9509623312150056, 'colsample_bytree': 0.9854907950062652}. Best is trial 107 with value: 0.6752548172158596.\n",
      "[I 2024-08-28 19:15:43,772] Trial 127 finished with value: 0.644952866167641 and parameters: {'n_estimators': 567, 'max_depth': 5, 'learning_rate': 0.014927835808992911, 'subsample': 0.6655422318769126, 'colsample_bytree': 0.9288732313992468}. Best is trial 107 with value: 0.6752548172158596.\n",
      "[I 2024-08-28 19:15:58,905] Trial 128 finished with value: 0.6568542434201673 and parameters: {'n_estimators': 502, 'max_depth': 5, 'learning_rate': 0.00893482379555644, 'subsample': 0.9861692249197451, 'colsample_bytree': 0.9543083511339708}. Best is trial 107 with value: 0.6752548172158596.\n",
      "[I 2024-08-28 19:16:16,019] Trial 129 finished with value: 0.6682008785213931 and parameters: {'n_estimators': 583, 'max_depth': 5, 'learning_rate': 0.010888828603640254, 'subsample': 0.9682474493441665, 'colsample_bytree': 0.975050741944297}. Best is trial 107 with value: 0.6752548172158596.\n",
      "[I 2024-08-28 19:16:33,521] Trial 130 finished with value: 0.6474147405757597 and parameters: {'n_estimators': 555, 'max_depth': 8, 'learning_rate': 0.0182827572366142, 'subsample': 0.9310585841619531, 'colsample_bytree': 0.5656978440521019}. Best is trial 107 with value: 0.6752548172158596.\n",
      "[I 2024-08-28 19:16:48,308] Trial 131 finished with value: 0.6648417927769512 and parameters: {'n_estimators': 527, 'max_depth': 5, 'learning_rate': 0.023674091623860662, 'subsample': 0.9804809789604414, 'colsample_bytree': 0.9659436670907454}. Best is trial 107 with value: 0.6752548172158596.\n",
      "[I 2024-08-28 19:17:03,509] Trial 132 finished with value: 0.6718087594476629 and parameters: {'n_estimators': 517, 'max_depth': 5, 'learning_rate': 0.016597026622994802, 'subsample': 0.9802961570954489, 'colsample_bytree': 0.948083714056952}. Best is trial 107 with value: 0.6752548172158596.\n",
      "[I 2024-08-28 19:17:19,642] Trial 133 finished with value: 0.6715364960547113 and parameters: {'n_estimators': 512, 'max_depth': 5, 'learning_rate': 0.016548226967011807, 'subsample': 0.9879571837217977, 'colsample_bytree': 0.9882834335666626}. Best is trial 107 with value: 0.6752548172158596.\n",
      "[I 2024-08-28 19:17:34,028] Trial 134 finished with value: 0.6684538830186783 and parameters: {'n_estimators': 498, 'max_depth': 5, 'learning_rate': 0.016684590343325166, 'subsample': 0.9620689230053451, 'colsample_bytree': 0.9844072982611308}. Best is trial 107 with value: 0.6752548172158596.\n",
      "[I 2024-08-28 19:17:49,393] Trial 135 finished with value: 0.6670114330438417 and parameters: {'n_estimators': 514, 'max_depth': 5, 'learning_rate': 0.014363076504648348, 'subsample': 0.9999589792336067, 'colsample_bytree': 0.9499879776435739}. Best is trial 107 with value: 0.6752548172158596.\n",
      "[I 2024-08-28 19:18:06,465] Trial 136 finished with value: 0.6754678376774182 and parameters: {'n_estimators': 547, 'max_depth': 5, 'learning_rate': 0.01567750681166261, 'subsample': 0.9750068964421796, 'colsample_bytree': 0.9917717174131064}. Best is trial 136 with value: 0.6754678376774182.\n",
      "[I 2024-08-28 19:18:21,750] Trial 137 finished with value: 0.6483860047018737 and parameters: {'n_estimators': 513, 'max_depth': 5, 'learning_rate': 0.02151971472769242, 'subsample': 0.7400506449850137, 'colsample_bytree': 0.9929566957252873}. Best is trial 136 with value: 0.6754678376774182.\n",
      "[I 2024-08-28 19:18:38,483] Trial 138 finished with value: 0.6686690233362774 and parameters: {'n_estimators': 535, 'max_depth': 5, 'learning_rate': 0.015900169367343675, 'subsample': 0.9497612039026655, 'colsample_bytree': 0.9890447541839524}. Best is trial 136 with value: 0.6754678376774182.\n",
      "[I 2024-08-28 19:18:50,161] Trial 139 finished with value: 0.6375084123255467 and parameters: {'n_estimators': 485, 'max_depth': 5, 'learning_rate': 0.01772184239433682, 'subsample': 0.5004132555747006, 'colsample_bytree': 0.6227703044295732}. Best is trial 136 with value: 0.6754678376774182.\n",
      "[I 2024-08-28 19:19:08,861] Trial 140 finished with value: 0.656047097359178 and parameters: {'n_estimators': 549, 'max_depth': 6, 'learning_rate': 0.014211233703741354, 'subsample': 0.8113546959479306, 'colsample_bytree': 0.9601415384306382}. Best is trial 136 with value: 0.6754678376774182.\n",
      "[I 2024-08-28 19:19:25,398] Trial 141 finished with value: 0.6655844614228141 and parameters: {'n_estimators': 559, 'max_depth': 5, 'learning_rate': 0.012364306484930788, 'subsample': 0.975159223722076, 'colsample_bytree': 0.9786607973373914}. Best is trial 136 with value: 0.6754678376774182.\n",
      "[I 2024-08-28 19:19:41,341] Trial 142 finished with value: 0.6627609230380406 and parameters: {'n_estimators': 546, 'max_depth': 5, 'learning_rate': 0.009944185868914225, 'subsample': 0.9901861410710245, 'colsample_bytree': 0.975261534110382}. Best is trial 136 with value: 0.6754678376774182.\n",
      "[I 2024-08-28 19:19:59,606] Trial 143 finished with value: 0.6660586352232848 and parameters: {'n_estimators': 578, 'max_depth': 5, 'learning_rate': 0.013055154243665873, 'subsample': 0.9812989108498055, 'colsample_bytree': 0.998247781478061}. Best is trial 136 with value: 0.6754678376774182.\n",
      "[I 2024-08-28 19:20:16,892] Trial 144 finished with value: 0.668984710264013 and parameters: {'n_estimators': 591, 'max_depth': 5, 'learning_rate': 0.015562714363913405, 'subsample': 0.9707207469289432, 'colsample_bytree': 0.9658565073040969}. Best is trial 136 with value: 0.6754678376774182.\n",
      "[I 2024-08-28 19:20:33,270] Trial 145 finished with value: 0.6640372905643931 and parameters: {'n_estimators': 562, 'max_depth': 5, 'learning_rate': 0.01091758466605295, 'subsample': 0.9601992823887784, 'colsample_bytree': 0.9841258965162655}. Best is trial 136 with value: 0.6754678376774182.\n",
      "[I 2024-08-28 19:20:47,872] Trial 146 finished with value: 0.66887360228061 and parameters: {'n_estimators': 493, 'max_depth': 5, 'learning_rate': 0.018930733843207235, 'subsample': 0.984176796759692, 'colsample_bytree': 0.9565700197276673}. Best is trial 136 with value: 0.6754678376774182.\n",
      "[I 2024-08-28 19:21:03,472] Trial 147 finished with value: 0.6691754523065229 and parameters: {'n_estimators': 534, 'max_depth': 5, 'learning_rate': 0.01671988251956776, 'subsample': 0.9888017485101424, 'colsample_bytree': 0.935603179366487}. Best is trial 136 with value: 0.6754678376774182.\n",
      "[I 2024-08-28 19:21:20,102] Trial 148 finished with value: 0.6668012553866959 and parameters: {'n_estimators': 573, 'max_depth': 5, 'learning_rate': 0.013584455516986732, 'subsample': 0.9431104091316704, 'colsample_bytree': 0.9736491519036763}. Best is trial 136 with value: 0.6754678376774182.\n",
      "[I 2024-08-28 19:21:37,329] Trial 149 finished with value: 0.664829963315835 and parameters: {'n_estimators': 543, 'max_depth': 5, 'learning_rate': 0.01211922001580013, 'subsample': 0.9701852952996369, 'colsample_bytree': 0.9906649530313448}. Best is trial 136 with value: 0.6754678376774182.\n",
      "[I 2024-08-28 19:21:53,954] Trial 150 finished with value: 0.6607215453796226 and parameters: {'n_estimators': 554, 'max_depth': 5, 'learning_rate': 0.009889562895208948, 'subsample': 0.9564790617193764, 'colsample_bytree': 0.9456180321064556}. Best is trial 136 with value: 0.6754678376774182.\n",
      "[I 2024-08-28 19:22:10,949] Trial 151 finished with value: 0.6671794356457569 and parameters: {'n_estimators': 570, 'max_depth': 5, 'learning_rate': 0.012056595532111221, 'subsample': 0.994205076225103, 'colsample_bytree': 0.9692357781899222}. Best is trial 136 with value: 0.6754678376774182.\n",
      "[I 2024-08-28 19:22:27,464] Trial 152 finished with value: 0.6699589968949095 and parameters: {'n_estimators': 564, 'max_depth': 5, 'learning_rate': 0.010992948026683989, 'subsample': 0.9779371886419412, 'colsample_bytree': 0.9796013938574273}. Best is trial 136 with value: 0.6754678376774182.\n",
      "[I 2024-08-28 19:22:42,338] Trial 153 finished with value: 0.6533640588128234 and parameters: {'n_estimators': 583, 'max_depth': 5, 'learning_rate': 0.014935477899528987, 'subsample': 0.9888422840273493, 'colsample_bytree': 0.6945535954113717}. Best is trial 136 with value: 0.6754678376774182.\n",
      "[I 2024-08-28 19:22:49,756] Trial 154 finished with value: 0.6409780987448321 and parameters: {'n_estimators': 520, 'max_depth': 5, 'learning_rate': 0.15082067254918097, 'subsample': 0.999121939948956, 'colsample_bytree': 0.9648611088977475}. Best is trial 136 with value: 0.6754678376774182.\n",
      "[I 2024-08-28 19:23:07,368] Trial 155 finished with value: 0.6652521937950014 and parameters: {'n_estimators': 592, 'max_depth': 5, 'learning_rate': 0.012858429287392737, 'subsample': 0.9658278231138377, 'colsample_bytree': 0.956568404778142}. Best is trial 136 with value: 0.6754678376774182.\n",
      "[I 2024-08-28 19:23:22,514] Trial 156 finished with value: 0.6646695518013087 and parameters: {'n_estimators': 553, 'max_depth': 5, 'learning_rate': 0.013909193666429783, 'subsample': 0.9783535189200611, 'colsample_bytree': 0.7949415189604635}. Best is trial 136 with value: 0.6754678376774182.\n",
      "[I 2024-08-28 19:23:38,751] Trial 157 finished with value: 0.66664331862658 and parameters: {'n_estimators': 574, 'max_depth': 5, 'learning_rate': 0.017176596129083867, 'subsample': 0.9907886468861721, 'colsample_bytree': 0.9716279753846776}. Best is trial 136 with value: 0.6754678376774182.\n",
      "[I 2024-08-28 19:23:42,867] Trial 158 finished with value: 0.6549242374222563 and parameters: {'n_estimators': 124, 'max_depth': 5, 'learning_rate': 0.011475538993356849, 'subsample': 0.9740693337777692, 'colsample_bytree': 0.9901386463565535}. Best is trial 136 with value: 0.6754678376774182.\n",
      "[I 2024-08-28 19:23:58,772] Trial 159 finished with value: 0.6607533106116806 and parameters: {'n_estimators': 541, 'max_depth': 5, 'learning_rate': 0.00901822343543418, 'subsample': 0.9641591627929854, 'colsample_bytree': 0.9804035533921279}. Best is trial 136 with value: 0.6754678376774182.\n",
      "[I 2024-08-28 19:24:15,341] Trial 160 finished with value: 0.6691354089622372 and parameters: {'n_estimators': 528, 'max_depth': 5, 'learning_rate': 0.015377052357947885, 'subsample': 0.9857746602898811, 'colsample_bytree': 0.9981960509856528}. Best is trial 136 with value: 0.6754678376774182.\n",
      "[I 2024-08-28 19:24:31,974] Trial 161 finished with value: 0.6667651884483873 and parameters: {'n_estimators': 566, 'max_depth': 5, 'learning_rate': 0.010831098403322888, 'subsample': 0.9785205304028023, 'colsample_bytree': 0.9789725405756275}. Best is trial 136 with value: 0.6754678376774182.\n",
      "[I 2024-08-28 19:24:46,201] Trial 162 finished with value: 0.6612159111991094 and parameters: {'n_estimators': 563, 'max_depth': 5, 'learning_rate': 0.010789130989788887, 'subsample': 0.9994634201413738, 'colsample_bytree': 0.7424162347157508}. Best is trial 136 with value: 0.6754678376774182.\n",
      "[I 2024-08-28 19:25:03,674] Trial 163 finished with value: 0.6588895048160511 and parameters: {'n_estimators': 581, 'max_depth': 5, 'learning_rate': 0.00785875067596809, 'subsample': 0.978273269659418, 'colsample_bytree': 0.969029077272663}. Best is trial 136 with value: 0.6754678376774182.\n",
      "[I 2024-08-28 19:25:19,841] Trial 164 finished with value: 0.6679288796844837 and parameters: {'n_estimators': 557, 'max_depth': 5, 'learning_rate': 0.013068457485704494, 'subsample': 0.9543740804423572, 'colsample_bytree': 0.9821530096214106}. Best is trial 136 with value: 0.6754678376774182.\n",
      "[I 2024-08-28 19:25:36,855] Trial 165 finished with value: 0.6687141725205455 and parameters: {'n_estimators': 569, 'max_depth': 5, 'learning_rate': 0.012206968018375508, 'subsample': 0.9890194422541319, 'colsample_bytree': 0.9578938408474245}. Best is trial 136 with value: 0.6754678376774182.\n",
      "[I 2024-08-28 19:25:52,093] Trial 166 finished with value: 0.667665827774906 and parameters: {'n_estimators': 535, 'max_depth': 5, 'learning_rate': 0.020597423901264122, 'subsample': 0.9693981863884518, 'colsample_bytree': 0.9484814327081214}. Best is trial 136 with value: 0.6754678376774182.\n",
      "[I 2024-08-28 19:26:09,443] Trial 167 finished with value: 0.6607588320360802 and parameters: {'n_estimators': 548, 'max_depth': 5, 'learning_rate': 0.014197239577095648, 'subsample': 0.9997898985276921, 'colsample_bytree': 0.9885692006066329}. Best is trial 136 with value: 0.6754678376774182.\n",
      "[I 2024-08-28 19:26:25,915] Trial 168 finished with value: 0.6648847159139567 and parameters: {'n_estimators': 588, 'max_depth': 5, 'learning_rate': 0.018221721437304043, 'subsample': 0.9824639624386423, 'colsample_bytree': 0.971285090892473}. Best is trial 136 with value: 0.6754678376774182.\n",
      "[I 2024-08-28 19:26:40,330] Trial 169 finished with value: 0.6602689520903798 and parameters: {'n_estimators': 477, 'max_depth': 5, 'learning_rate': 0.009825191256281637, 'subsample': 0.9626792863622319, 'colsample_bytree': 0.9609012432090964}. Best is trial 136 with value: 0.6754678376774182.\n",
      "[I 2024-08-28 19:26:56,440] Trial 170 finished with value: 0.6714800867526005 and parameters: {'n_estimators': 563, 'max_depth': 5, 'learning_rate': 0.01568321739525966, 'subsample': 0.9753367362158198, 'colsample_bytree': 0.979197704790643}. Best is trial 136 with value: 0.6754678376774182.\n",
      "[I 2024-08-28 19:27:12,569] Trial 171 finished with value: 0.6687328470224391 and parameters: {'n_estimators': 561, 'max_depth': 5, 'learning_rate': 0.015458706062645721, 'subsample': 0.9771252080834244, 'colsample_bytree': 0.9789685441188741}. Best is trial 136 with value: 0.6754678376774182.\n",
      "[I 2024-08-28 19:27:30,576] Trial 172 finished with value: 0.6689882189914392 and parameters: {'n_estimators': 570, 'max_depth': 5, 'learning_rate': 0.013322612350919095, 'subsample': 0.9884089782558296, 'colsample_bytree': 0.9988295180060384}. Best is trial 136 with value: 0.6754678376774182.\n",
      "[I 2024-08-28 19:27:47,506] Trial 173 finished with value: 0.6626680770231584 and parameters: {'n_estimators': 545, 'max_depth': 5, 'learning_rate': 0.01721324824122362, 'subsample': 0.969416413633391, 'colsample_bytree': 0.9862957320677418}. Best is trial 136 with value: 0.6754678376774182.\n",
      "[I 2024-08-28 19:28:02,813] Trial 174 finished with value: 0.6625114262547136 and parameters: {'n_estimators': 511, 'max_depth': 5, 'learning_rate': 0.01148008474531937, 'subsample': 0.9502128144696876, 'colsample_bytree': 0.9691204866083833}. Best is trial 136 with value: 0.6754678376774182.\n",
      "[I 2024-08-28 19:28:18,434] Trial 175 finished with value: 0.6722546474326639 and parameters: {'n_estimators': 578, 'max_depth': 5, 'learning_rate': 0.02294274444346812, 'subsample': 0.9825583301527121, 'colsample_bytree': 0.9778740354373434}. Best is trial 136 with value: 0.6754678376774182.\n",
      "[I 2024-08-28 19:28:34,896] Trial 176 finished with value: 0.669032812081117 and parameters: {'n_estimators': 598, 'max_depth': 5, 'learning_rate': 0.022466220743092288, 'subsample': 0.9906785462323145, 'colsample_bytree': 0.9474537958257147}. Best is trial 136 with value: 0.6754678376774182.\n",
      "[I 2024-08-28 19:28:50,507] Trial 177 finished with value: 0.6586438516554086 and parameters: {'n_estimators': 580, 'max_depth': 5, 'learning_rate': 0.025601027144974527, 'subsample': 0.9615326393243147, 'colsample_bytree': 0.9641267182916196}. Best is trial 136 with value: 0.6754678376774182.\n",
      "[I 2024-08-28 19:29:07,347] Trial 178 finished with value: 0.6668288223817749 and parameters: {'n_estimators': 554, 'max_depth': 5, 'learning_rate': 0.01975486456520425, 'subsample': 0.9874482164768357, 'colsample_bytree': 0.9892566001846297}. Best is trial 136 with value: 0.6754678376774182.\n",
      "[I 2024-08-28 19:29:23,790] Trial 179 finished with value: 0.6644736009227672 and parameters: {'n_estimators': 574, 'max_depth': 5, 'learning_rate': 0.015990763536480695, 'subsample': 0.973135409260643, 'colsample_bytree': 0.9735757351079596}. Best is trial 136 with value: 0.6754678376774182.\n",
      "[I 2024-08-28 19:29:39,363] Trial 180 finished with value: 0.6666530403282858 and parameters: {'n_estimators': 523, 'max_depth': 5, 'learning_rate': 0.014498975400570725, 'subsample': 0.9986323810402556, 'colsample_bytree': 0.9365320335280602}. Best is trial 136 with value: 0.6754678376774182.\n",
      "[I 2024-08-28 19:29:55,698] Trial 181 finished with value: 0.6687028017451319 and parameters: {'n_estimators': 558, 'max_depth': 5, 'learning_rate': 0.01159029552910855, 'subsample': 0.9819046762004008, 'colsample_bytree': 0.9812673533585144}. Best is trial 136 with value: 0.6754678376774182.\n",
      "[I 2024-08-28 19:30:12,428] Trial 182 finished with value: 0.6671871546717352 and parameters: {'n_estimators': 563, 'max_depth': 5, 'learning_rate': 0.013587207579663571, 'subsample': 0.9762624286973662, 'colsample_bytree': 0.9573982610674177}. Best is trial 136 with value: 0.6754678376774182.\n",
      "[I 2024-08-28 19:30:29,485] Trial 183 finished with value: 0.6685866876050612 and parameters: {'n_estimators': 583, 'max_depth': 5, 'learning_rate': 0.01050865762034277, 'subsample': 0.9834547578645859, 'colsample_bytree': 0.97825734732776}. Best is trial 136 with value: 0.6754678376774182.\n",
      "[I 2024-08-28 19:30:46,431] Trial 184 finished with value: 0.6627070014263929 and parameters: {'n_estimators': 543, 'max_depth': 5, 'learning_rate': 0.01698411967199752, 'subsample': 0.9697106014235711, 'colsample_bytree': 0.9903482168245903}. Best is trial 136 with value: 0.6754678376774182.\n",
      "[I 2024-08-28 19:31:03,479] Trial 185 finished with value: 0.6779291716518793 and parameters: {'n_estimators': 572, 'max_depth': 5, 'learning_rate': 0.012612357316550681, 'subsample': 0.992096007767186, 'colsample_bytree': 0.9672455205640248}. Best is trial 185 with value: 0.6779291716518793.\n",
      "[I 2024-08-28 19:31:19,954] Trial 186 finished with value: 0.6637190091980821 and parameters: {'n_estimators': 572, 'max_depth': 5, 'learning_rate': 0.018776105164134194, 'subsample': 0.9896307986593448, 'colsample_bytree': 0.9613924434370253}. Best is trial 185 with value: 0.6779291716518793.\n",
      "[I 2024-08-28 19:31:37,473] Trial 187 finished with value: 0.6603915889203885 and parameters: {'n_estimators': 591, 'max_depth': 5, 'learning_rate': 0.012297727682827577, 'subsample': 0.999469922694559, 'colsample_bytree': 0.9696097109606469}. Best is trial 185 with value: 0.6779291716518793.\n",
      "[I 2024-08-28 19:31:54,952] Trial 188 finished with value: 0.6712828330435111 and parameters: {'n_estimators': 553, 'max_depth': 5, 'learning_rate': 0.015126272504961765, 'subsample': 0.9604491264246472, 'colsample_bytree': 0.9995351725988599}. Best is trial 185 with value: 0.6779291716518793.\n",
      "[I 2024-08-28 19:32:12,316] Trial 189 finished with value: 0.6678215527527719 and parameters: {'n_estimators': 552, 'max_depth': 5, 'learning_rate': 0.015282834846866857, 'subsample': 0.9360554816633069, 'colsample_bytree': 0.9972810444059609}. Best is trial 185 with value: 0.6779291716518793.\n",
      "[I 2024-08-28 19:32:28,227] Trial 190 finished with value: 0.6649616486104916 and parameters: {'n_estimators': 533, 'max_depth': 5, 'learning_rate': 0.022329095649941764, 'subsample': 0.9565861074314012, 'colsample_bytree': 0.9997007141713616}. Best is trial 185 with value: 0.6779291716518793.\n",
      "[I 2024-08-28 19:32:46,247] Trial 191 finished with value: 0.6640940789051615 and parameters: {'n_estimators': 574, 'max_depth': 5, 'learning_rate': 0.013692242711962375, 'subsample': 0.9686040047903207, 'colsample_bytree': 0.9874508849746207}. Best is trial 185 with value: 0.6779291716518793.\n",
      "[I 2024-08-28 19:33:02,230] Trial 192 finished with value: 0.671453700038645 and parameters: {'n_estimators': 550, 'max_depth': 5, 'learning_rate': 0.014880296433538808, 'subsample': 0.9893331516880156, 'colsample_bytree': 0.9749778486724829}. Best is trial 185 with value: 0.6779291716518793.\n",
      "[I 2024-08-28 19:33:18,001] Trial 193 finished with value: 0.6672380337784932 and parameters: {'n_estimators': 551, 'max_depth': 5, 'learning_rate': 0.01600370752521043, 'subsample': 0.9760502891082947, 'colsample_bytree': 0.9778045370188084}. Best is trial 185 with value: 0.6779291716518793.\n",
      "[I 2024-08-28 19:33:34,039] Trial 194 finished with value: 0.6722942659941609 and parameters: {'n_estimators': 542, 'max_depth': 5, 'learning_rate': 0.01467573323690472, 'subsample': 0.9847328904572311, 'colsample_bytree': 0.9509682304333934}. Best is trial 185 with value: 0.6779291716518793.\n",
      "[I 2024-08-28 19:33:49,600] Trial 195 finished with value: 0.6655515033552655 and parameters: {'n_estimators': 537, 'max_depth': 5, 'learning_rate': 0.01836448880576739, 'subsample': 0.990018587494137, 'colsample_bytree': 0.9506816770246838}. Best is trial 185 with value: 0.6779291716518793.\n",
      "[I 2024-08-28 19:34:05,026] Trial 196 finished with value: 0.668391242492067 and parameters: {'n_estimators': 518, 'max_depth': 5, 'learning_rate': 0.014292769588001457, 'subsample': 0.9607619922966334, 'colsample_bytree': 0.9610394156740658}. Best is trial 185 with value: 0.6779291716518793.\n",
      "[I 2024-08-28 19:34:21,975] Trial 197 finished with value: 0.6703939270942186 and parameters: {'n_estimators': 544, 'max_depth': 5, 'learning_rate': 0.01616409440958904, 'subsample': 0.982754936851167, 'colsample_bytree': 0.9917127522456917}. Best is trial 185 with value: 0.6779291716518793.\n",
      "[I 2024-08-28 19:34:40,311] Trial 198 finished with value: 0.6571328613166626 and parameters: {'n_estimators': 504, 'max_depth': 7, 'learning_rate': 0.019639119098125872, 'subsample': 0.9920048306462056, 'colsample_bytree': 0.9431553340532799}. Best is trial 185 with value: 0.6779291716518793.\n",
      "[I 2024-08-28 19:34:56,042] Trial 199 finished with value: 0.6697415567170548 and parameters: {'n_estimators': 529, 'max_depth': 5, 'learning_rate': 0.014610042303571161, 'subsample': 0.9465529101605225, 'colsample_bytree': 0.9676709855764133}. Best is trial 185 with value: 0.6779291716518793.\n"
     ]
    },
    {
     "name": "stdout",
     "output_type": "stream",
     "text": [
      "Best XGBoost hyperparameters:  {'n_estimators': 572, 'max_depth': 5, 'learning_rate': 0.012612357316550681, 'subsample': 0.992096007767186, 'colsample_bytree': 0.9672455205640248}\n"
     ]
    }
   ],
   "source": [
    "import optuna\n",
    "from xgboost import XGBClassifier\n",
    "\n",
    "# XGBoost 최적화 목적 함수 정의\n",
    "def optimize_xgboost(trial):\n",
    "    # 최적화할 하이퍼파라미터 설정\n",
    "    n_estimators = trial.suggest_int('n_estimators', 100, 600)\n",
    "    max_depth = trial.suggest_int('max_depth', 3, 8)\n",
    "    learning_rate = trial.suggest_loguniform('learning_rate', 1e-3, 0.2)\n",
    "    subsample = trial.suggest_float('subsample', 0.5, 1.0)\n",
    "    colsample_bytree = trial.suggest_float('colsample_bytree', 0.5, 1.0)\n",
    "    \n",
    "    # XGBoost 모델 생성\n",
    "    model = XGBClassifier(\n",
    "        n_estimators=n_estimators,\n",
    "        max_depth=max_depth,\n",
    "        learning_rate=learning_rate,\n",
    "        subsample=subsample,\n",
    "        colsample_bytree=colsample_bytree,\n",
    "        eval_metric='logloss',\n",
    "        random_state=42\n",
    "    )\n",
    "    \n",
    "    # 교차 검증으로 모델 성능 평가 (F1 Macro)\n",
    "    score = cross_val_score(model, train_x_shap, train_y_encoded_down, cv=3, scoring='f1_macro').mean()\n",
    "    return score\n",
    "\n",
    "# Optuna 스터디 생성 및 최적화 실행\n",
    "xgboost_study = optuna.create_study(direction='maximize')\n",
    "xgboost_study.optimize(optimize_xgboost, n_trials=200)\n",
    "\n",
    "# 최적 하이퍼파라미터 출력\n",
    "print(\"Best XGBoost hyperparameters: \", xgboost_study.best_params)\n",
    "\n",
    "# 최적 하이퍼파라미터로 XGBoost 모델 생성\n",
    "best_xgboost_model = XGBClassifier(\n",
    "    n_estimators=xgboost_study.best_params['n_estimators'],\n",
    "    max_depth=xgboost_study.best_params['max_depth'],\n",
    "    learning_rate=xgboost_study.best_params['learning_rate'],\n",
    "    subsample=xgboost_study.best_params['subsample'],\n",
    "    colsample_bytree=xgboost_study.best_params['colsample_bytree'],\n",
    "    eval_metric='logloss',\n",
    "    random_state=42\n",
    ")\n"
   ]
  },
  {
   "cell_type": "code",
   "execution_count": 76,
   "metadata": {},
   "outputs": [
    {
     "data": {
      "text/html": [
       "<style>#sk-container-id-3 {\n",
       "  /* Definition of color scheme common for light and dark mode */\n",
       "  --sklearn-color-text: black;\n",
       "  --sklearn-color-line: gray;\n",
       "  /* Definition of color scheme for unfitted estimators */\n",
       "  --sklearn-color-unfitted-level-0: #fff5e6;\n",
       "  --sklearn-color-unfitted-level-1: #f6e4d2;\n",
       "  --sklearn-color-unfitted-level-2: #ffe0b3;\n",
       "  --sklearn-color-unfitted-level-3: chocolate;\n",
       "  /* Definition of color scheme for fitted estimators */\n",
       "  --sklearn-color-fitted-level-0: #f0f8ff;\n",
       "  --sklearn-color-fitted-level-1: #d4ebff;\n",
       "  --sklearn-color-fitted-level-2: #b3dbfd;\n",
       "  --sklearn-color-fitted-level-3: cornflowerblue;\n",
       "\n",
       "  /* Specific color for light theme */\n",
       "  --sklearn-color-text-on-default-background: var(--sg-text-color, var(--theme-code-foreground, var(--jp-content-font-color1, black)));\n",
       "  --sklearn-color-background: var(--sg-background-color, var(--theme-background, var(--jp-layout-color0, white)));\n",
       "  --sklearn-color-border-box: var(--sg-text-color, var(--theme-code-foreground, var(--jp-content-font-color1, black)));\n",
       "  --sklearn-color-icon: #696969;\n",
       "\n",
       "  @media (prefers-color-scheme: dark) {\n",
       "    /* Redefinition of color scheme for dark theme */\n",
       "    --sklearn-color-text-on-default-background: var(--sg-text-color, var(--theme-code-foreground, var(--jp-content-font-color1, white)));\n",
       "    --sklearn-color-background: var(--sg-background-color, var(--theme-background, var(--jp-layout-color0, #111)));\n",
       "    --sklearn-color-border-box: var(--sg-text-color, var(--theme-code-foreground, var(--jp-content-font-color1, white)));\n",
       "    --sklearn-color-icon: #878787;\n",
       "  }\n",
       "}\n",
       "\n",
       "#sk-container-id-3 {\n",
       "  color: var(--sklearn-color-text);\n",
       "}\n",
       "\n",
       "#sk-container-id-3 pre {\n",
       "  padding: 0;\n",
       "}\n",
       "\n",
       "#sk-container-id-3 input.sk-hidden--visually {\n",
       "  border: 0;\n",
       "  clip: rect(1px 1px 1px 1px);\n",
       "  clip: rect(1px, 1px, 1px, 1px);\n",
       "  height: 1px;\n",
       "  margin: -1px;\n",
       "  overflow: hidden;\n",
       "  padding: 0;\n",
       "  position: absolute;\n",
       "  width: 1px;\n",
       "}\n",
       "\n",
       "#sk-container-id-3 div.sk-dashed-wrapped {\n",
       "  border: 1px dashed var(--sklearn-color-line);\n",
       "  margin: 0 0.4em 0.5em 0.4em;\n",
       "  box-sizing: border-box;\n",
       "  padding-bottom: 0.4em;\n",
       "  background-color: var(--sklearn-color-background);\n",
       "}\n",
       "\n",
       "#sk-container-id-3 div.sk-container {\n",
       "  /* jupyter's `normalize.less` sets `[hidden] { display: none; }`\n",
       "     but bootstrap.min.css set `[hidden] { display: none !important; }`\n",
       "     so we also need the `!important` here to be able to override the\n",
       "     default hidden behavior on the sphinx rendered scikit-learn.org.\n",
       "     See: https://github.com/scikit-learn/scikit-learn/issues/21755 */\n",
       "  display: inline-block !important;\n",
       "  position: relative;\n",
       "}\n",
       "\n",
       "#sk-container-id-3 div.sk-text-repr-fallback {\n",
       "  display: none;\n",
       "}\n",
       "\n",
       "div.sk-parallel-item,\n",
       "div.sk-serial,\n",
       "div.sk-item {\n",
       "  /* draw centered vertical line to link estimators */\n",
       "  background-image: linear-gradient(var(--sklearn-color-text-on-default-background), var(--sklearn-color-text-on-default-background));\n",
       "  background-size: 2px 100%;\n",
       "  background-repeat: no-repeat;\n",
       "  background-position: center center;\n",
       "}\n",
       "\n",
       "/* Parallel-specific style estimator block */\n",
       "\n",
       "#sk-container-id-3 div.sk-parallel-item::after {\n",
       "  content: \"\";\n",
       "  width: 100%;\n",
       "  border-bottom: 2px solid var(--sklearn-color-text-on-default-background);\n",
       "  flex-grow: 1;\n",
       "}\n",
       "\n",
       "#sk-container-id-3 div.sk-parallel {\n",
       "  display: flex;\n",
       "  align-items: stretch;\n",
       "  justify-content: center;\n",
       "  background-color: var(--sklearn-color-background);\n",
       "  position: relative;\n",
       "}\n",
       "\n",
       "#sk-container-id-3 div.sk-parallel-item {\n",
       "  display: flex;\n",
       "  flex-direction: column;\n",
       "}\n",
       "\n",
       "#sk-container-id-3 div.sk-parallel-item:first-child::after {\n",
       "  align-self: flex-end;\n",
       "  width: 50%;\n",
       "}\n",
       "\n",
       "#sk-container-id-3 div.sk-parallel-item:last-child::after {\n",
       "  align-self: flex-start;\n",
       "  width: 50%;\n",
       "}\n",
       "\n",
       "#sk-container-id-3 div.sk-parallel-item:only-child::after {\n",
       "  width: 0;\n",
       "}\n",
       "\n",
       "/* Serial-specific style estimator block */\n",
       "\n",
       "#sk-container-id-3 div.sk-serial {\n",
       "  display: flex;\n",
       "  flex-direction: column;\n",
       "  align-items: center;\n",
       "  background-color: var(--sklearn-color-background);\n",
       "  padding-right: 1em;\n",
       "  padding-left: 1em;\n",
       "}\n",
       "\n",
       "\n",
       "/* Toggleable style: style used for estimator/Pipeline/ColumnTransformer box that is\n",
       "clickable and can be expanded/collapsed.\n",
       "- Pipeline and ColumnTransformer use this feature and define the default style\n",
       "- Estimators will overwrite some part of the style using the `sk-estimator` class\n",
       "*/\n",
       "\n",
       "/* Pipeline and ColumnTransformer style (default) */\n",
       "\n",
       "#sk-container-id-3 div.sk-toggleable {\n",
       "  /* Default theme specific background. It is overwritten whether we have a\n",
       "  specific estimator or a Pipeline/ColumnTransformer */\n",
       "  background-color: var(--sklearn-color-background);\n",
       "}\n",
       "\n",
       "/* Toggleable label */\n",
       "#sk-container-id-3 label.sk-toggleable__label {\n",
       "  cursor: pointer;\n",
       "  display: block;\n",
       "  width: 100%;\n",
       "  margin-bottom: 0;\n",
       "  padding: 0.5em;\n",
       "  box-sizing: border-box;\n",
       "  text-align: center;\n",
       "}\n",
       "\n",
       "#sk-container-id-3 label.sk-toggleable__label-arrow:before {\n",
       "  /* Arrow on the left of the label */\n",
       "  content: \"▸\";\n",
       "  float: left;\n",
       "  margin-right: 0.25em;\n",
       "  color: var(--sklearn-color-icon);\n",
       "}\n",
       "\n",
       "#sk-container-id-3 label.sk-toggleable__label-arrow:hover:before {\n",
       "  color: var(--sklearn-color-text);\n",
       "}\n",
       "\n",
       "/* Toggleable content - dropdown */\n",
       "\n",
       "#sk-container-id-3 div.sk-toggleable__content {\n",
       "  max-height: 0;\n",
       "  max-width: 0;\n",
       "  overflow: hidden;\n",
       "  text-align: left;\n",
       "  /* unfitted */\n",
       "  background-color: var(--sklearn-color-unfitted-level-0);\n",
       "}\n",
       "\n",
       "#sk-container-id-3 div.sk-toggleable__content.fitted {\n",
       "  /* fitted */\n",
       "  background-color: var(--sklearn-color-fitted-level-0);\n",
       "}\n",
       "\n",
       "#sk-container-id-3 div.sk-toggleable__content pre {\n",
       "  margin: 0.2em;\n",
       "  border-radius: 0.25em;\n",
       "  color: var(--sklearn-color-text);\n",
       "  /* unfitted */\n",
       "  background-color: var(--sklearn-color-unfitted-level-0);\n",
       "}\n",
       "\n",
       "#sk-container-id-3 div.sk-toggleable__content.fitted pre {\n",
       "  /* unfitted */\n",
       "  background-color: var(--sklearn-color-fitted-level-0);\n",
       "}\n",
       "\n",
       "#sk-container-id-3 input.sk-toggleable__control:checked~div.sk-toggleable__content {\n",
       "  /* Expand drop-down */\n",
       "  max-height: 200px;\n",
       "  max-width: 100%;\n",
       "  overflow: auto;\n",
       "}\n",
       "\n",
       "#sk-container-id-3 input.sk-toggleable__control:checked~label.sk-toggleable__label-arrow:before {\n",
       "  content: \"▾\";\n",
       "}\n",
       "\n",
       "/* Pipeline/ColumnTransformer-specific style */\n",
       "\n",
       "#sk-container-id-3 div.sk-label input.sk-toggleable__control:checked~label.sk-toggleable__label {\n",
       "  color: var(--sklearn-color-text);\n",
       "  background-color: var(--sklearn-color-unfitted-level-2);\n",
       "}\n",
       "\n",
       "#sk-container-id-3 div.sk-label.fitted input.sk-toggleable__control:checked~label.sk-toggleable__label {\n",
       "  background-color: var(--sklearn-color-fitted-level-2);\n",
       "}\n",
       "\n",
       "/* Estimator-specific style */\n",
       "\n",
       "/* Colorize estimator box */\n",
       "#sk-container-id-3 div.sk-estimator input.sk-toggleable__control:checked~label.sk-toggleable__label {\n",
       "  /* unfitted */\n",
       "  background-color: var(--sklearn-color-unfitted-level-2);\n",
       "}\n",
       "\n",
       "#sk-container-id-3 div.sk-estimator.fitted input.sk-toggleable__control:checked~label.sk-toggleable__label {\n",
       "  /* fitted */\n",
       "  background-color: var(--sklearn-color-fitted-level-2);\n",
       "}\n",
       "\n",
       "#sk-container-id-3 div.sk-label label.sk-toggleable__label,\n",
       "#sk-container-id-3 div.sk-label label {\n",
       "  /* The background is the default theme color */\n",
       "  color: var(--sklearn-color-text-on-default-background);\n",
       "}\n",
       "\n",
       "/* On hover, darken the color of the background */\n",
       "#sk-container-id-3 div.sk-label:hover label.sk-toggleable__label {\n",
       "  color: var(--sklearn-color-text);\n",
       "  background-color: var(--sklearn-color-unfitted-level-2);\n",
       "}\n",
       "\n",
       "/* Label box, darken color on hover, fitted */\n",
       "#sk-container-id-3 div.sk-label.fitted:hover label.sk-toggleable__label.fitted {\n",
       "  color: var(--sklearn-color-text);\n",
       "  background-color: var(--sklearn-color-fitted-level-2);\n",
       "}\n",
       "\n",
       "/* Estimator label */\n",
       "\n",
       "#sk-container-id-3 div.sk-label label {\n",
       "  font-family: monospace;\n",
       "  font-weight: bold;\n",
       "  display: inline-block;\n",
       "  line-height: 1.2em;\n",
       "}\n",
       "\n",
       "#sk-container-id-3 div.sk-label-container {\n",
       "  text-align: center;\n",
       "}\n",
       "\n",
       "/* Estimator-specific */\n",
       "#sk-container-id-3 div.sk-estimator {\n",
       "  font-family: monospace;\n",
       "  border: 1px dotted var(--sklearn-color-border-box);\n",
       "  border-radius: 0.25em;\n",
       "  box-sizing: border-box;\n",
       "  margin-bottom: 0.5em;\n",
       "  /* unfitted */\n",
       "  background-color: var(--sklearn-color-unfitted-level-0);\n",
       "}\n",
       "\n",
       "#sk-container-id-3 div.sk-estimator.fitted {\n",
       "  /* fitted */\n",
       "  background-color: var(--sklearn-color-fitted-level-0);\n",
       "}\n",
       "\n",
       "/* on hover */\n",
       "#sk-container-id-3 div.sk-estimator:hover {\n",
       "  /* unfitted */\n",
       "  background-color: var(--sklearn-color-unfitted-level-2);\n",
       "}\n",
       "\n",
       "#sk-container-id-3 div.sk-estimator.fitted:hover {\n",
       "  /* fitted */\n",
       "  background-color: var(--sklearn-color-fitted-level-2);\n",
       "}\n",
       "\n",
       "/* Specification for estimator info (e.g. \"i\" and \"?\") */\n",
       "\n",
       "/* Common style for \"i\" and \"?\" */\n",
       "\n",
       ".sk-estimator-doc-link,\n",
       "a:link.sk-estimator-doc-link,\n",
       "a:visited.sk-estimator-doc-link {\n",
       "  float: right;\n",
       "  font-size: smaller;\n",
       "  line-height: 1em;\n",
       "  font-family: monospace;\n",
       "  background-color: var(--sklearn-color-background);\n",
       "  border-radius: 1em;\n",
       "  height: 1em;\n",
       "  width: 1em;\n",
       "  text-decoration: none !important;\n",
       "  margin-left: 1ex;\n",
       "  /* unfitted */\n",
       "  border: var(--sklearn-color-unfitted-level-1) 1pt solid;\n",
       "  color: var(--sklearn-color-unfitted-level-1);\n",
       "}\n",
       "\n",
       ".sk-estimator-doc-link.fitted,\n",
       "a:link.sk-estimator-doc-link.fitted,\n",
       "a:visited.sk-estimator-doc-link.fitted {\n",
       "  /* fitted */\n",
       "  border: var(--sklearn-color-fitted-level-1) 1pt solid;\n",
       "  color: var(--sklearn-color-fitted-level-1);\n",
       "}\n",
       "\n",
       "/* On hover */\n",
       "div.sk-estimator:hover .sk-estimator-doc-link:hover,\n",
       ".sk-estimator-doc-link:hover,\n",
       "div.sk-label-container:hover .sk-estimator-doc-link:hover,\n",
       ".sk-estimator-doc-link:hover {\n",
       "  /* unfitted */\n",
       "  background-color: var(--sklearn-color-unfitted-level-3);\n",
       "  color: var(--sklearn-color-background);\n",
       "  text-decoration: none;\n",
       "}\n",
       "\n",
       "div.sk-estimator.fitted:hover .sk-estimator-doc-link.fitted:hover,\n",
       ".sk-estimator-doc-link.fitted:hover,\n",
       "div.sk-label-container:hover .sk-estimator-doc-link.fitted:hover,\n",
       ".sk-estimator-doc-link.fitted:hover {\n",
       "  /* fitted */\n",
       "  background-color: var(--sklearn-color-fitted-level-3);\n",
       "  color: var(--sklearn-color-background);\n",
       "  text-decoration: none;\n",
       "}\n",
       "\n",
       "/* Span, style for the box shown on hovering the info icon */\n",
       ".sk-estimator-doc-link span {\n",
       "  display: none;\n",
       "  z-index: 9999;\n",
       "  position: relative;\n",
       "  font-weight: normal;\n",
       "  right: .2ex;\n",
       "  padding: .5ex;\n",
       "  margin: .5ex;\n",
       "  width: min-content;\n",
       "  min-width: 20ex;\n",
       "  max-width: 50ex;\n",
       "  color: var(--sklearn-color-text);\n",
       "  box-shadow: 2pt 2pt 4pt #999;\n",
       "  /* unfitted */\n",
       "  background: var(--sklearn-color-unfitted-level-0);\n",
       "  border: .5pt solid var(--sklearn-color-unfitted-level-3);\n",
       "}\n",
       "\n",
       ".sk-estimator-doc-link.fitted span {\n",
       "  /* fitted */\n",
       "  background: var(--sklearn-color-fitted-level-0);\n",
       "  border: var(--sklearn-color-fitted-level-3);\n",
       "}\n",
       "\n",
       ".sk-estimator-doc-link:hover span {\n",
       "  display: block;\n",
       "}\n",
       "\n",
       "/* \"?\"-specific style due to the `<a>` HTML tag */\n",
       "\n",
       "#sk-container-id-3 a.estimator_doc_link {\n",
       "  float: right;\n",
       "  font-size: 1rem;\n",
       "  line-height: 1em;\n",
       "  font-family: monospace;\n",
       "  background-color: var(--sklearn-color-background);\n",
       "  border-radius: 1rem;\n",
       "  height: 1rem;\n",
       "  width: 1rem;\n",
       "  text-decoration: none;\n",
       "  /* unfitted */\n",
       "  color: var(--sklearn-color-unfitted-level-1);\n",
       "  border: var(--sklearn-color-unfitted-level-1) 1pt solid;\n",
       "}\n",
       "\n",
       "#sk-container-id-3 a.estimator_doc_link.fitted {\n",
       "  /* fitted */\n",
       "  border: var(--sklearn-color-fitted-level-1) 1pt solid;\n",
       "  color: var(--sklearn-color-fitted-level-1);\n",
       "}\n",
       "\n",
       "/* On hover */\n",
       "#sk-container-id-3 a.estimator_doc_link:hover {\n",
       "  /* unfitted */\n",
       "  background-color: var(--sklearn-color-unfitted-level-3);\n",
       "  color: var(--sklearn-color-background);\n",
       "  text-decoration: none;\n",
       "}\n",
       "\n",
       "#sk-container-id-3 a.estimator_doc_link.fitted:hover {\n",
       "  /* fitted */\n",
       "  background-color: var(--sklearn-color-fitted-level-3);\n",
       "}\n",
       "</style><div id=\"sk-container-id-3\" class=\"sk-top-container\"><div class=\"sk-text-repr-fallback\"><pre>VotingClassifier(estimators=[(&#x27;catboost&#x27;,\n",
       "                              &lt;catboost.core.CatBoostClassifier object at 0x000002275EF23BD0&gt;),\n",
       "                             (&#x27;xgboost&#x27;,\n",
       "                              XGBClassifier(base_score=None, booster=None,\n",
       "                                            callbacks=None,\n",
       "                                            colsample_bylevel=None,\n",
       "                                            colsample_bynode=None,\n",
       "                                            colsample_bytree=0.9672455205640248,\n",
       "                                            device=None,\n",
       "                                            early_stopping_rounds=None,\n",
       "                                            enable_categorical=False,\n",
       "                                            eval_metric=&#x27;logloss&#x27;,\n",
       "                                            feature_typ...\n",
       "                                            importance_type=None,\n",
       "                                            interaction_constraints=None,\n",
       "                                            learning_rate=0.012612357316550681,\n",
       "                                            max_bin=None,\n",
       "                                            max_cat_threshold=None,\n",
       "                                            max_cat_to_onehot=None,\n",
       "                                            max_delta_step=None, max_depth=5,\n",
       "                                            max_leaves=None,\n",
       "                                            min_child_weight=None, missing=nan,\n",
       "                                            monotone_constraints=None,\n",
       "                                            multi_strategy=None,\n",
       "                                            n_estimators=572, n_jobs=None,\n",
       "                                            num_parallel_tree=None,\n",
       "                                            random_state=42, ...))],\n",
       "                 voting=&#x27;soft&#x27;)</pre><b>In a Jupyter environment, please rerun this cell to show the HTML representation or trust the notebook. <br />On GitHub, the HTML representation is unable to render, please try loading this page with nbviewer.org.</b></div><div class=\"sk-container\" hidden><div class=\"sk-item sk-dashed-wrapped\"><div class=\"sk-label-container\"><div class=\"sk-label fitted sk-toggleable\"><input class=\"sk-toggleable__control sk-hidden--visually\" id=\"sk-estimator-id-7\" type=\"checkbox\" ><label for=\"sk-estimator-id-7\" class=\"sk-toggleable__label fitted sk-toggleable__label-arrow fitted\">&nbsp;&nbsp;VotingClassifier<a class=\"sk-estimator-doc-link fitted\" rel=\"noreferrer\" target=\"_blank\" href=\"https://scikit-learn.org/1.4/modules/generated/sklearn.ensemble.VotingClassifier.html\">?<span>Documentation for VotingClassifier</span></a><span class=\"sk-estimator-doc-link fitted\">i<span>Fitted</span></span></label><div class=\"sk-toggleable__content fitted\"><pre>VotingClassifier(estimators=[(&#x27;catboost&#x27;,\n",
       "                              &lt;catboost.core.CatBoostClassifier object at 0x000002275EF23BD0&gt;),\n",
       "                             (&#x27;xgboost&#x27;,\n",
       "                              XGBClassifier(base_score=None, booster=None,\n",
       "                                            callbacks=None,\n",
       "                                            colsample_bylevel=None,\n",
       "                                            colsample_bynode=None,\n",
       "                                            colsample_bytree=0.9672455205640248,\n",
       "                                            device=None,\n",
       "                                            early_stopping_rounds=None,\n",
       "                                            enable_categorical=False,\n",
       "                                            eval_metric=&#x27;logloss&#x27;,\n",
       "                                            feature_typ...\n",
       "                                            importance_type=None,\n",
       "                                            interaction_constraints=None,\n",
       "                                            learning_rate=0.012612357316550681,\n",
       "                                            max_bin=None,\n",
       "                                            max_cat_threshold=None,\n",
       "                                            max_cat_to_onehot=None,\n",
       "                                            max_delta_step=None, max_depth=5,\n",
       "                                            max_leaves=None,\n",
       "                                            min_child_weight=None, missing=nan,\n",
       "                                            monotone_constraints=None,\n",
       "                                            multi_strategy=None,\n",
       "                                            n_estimators=572, n_jobs=None,\n",
       "                                            num_parallel_tree=None,\n",
       "                                            random_state=42, ...))],\n",
       "                 voting=&#x27;soft&#x27;)</pre></div> </div></div><div class=\"sk-parallel\"><div class=\"sk-parallel-item\"><div class=\"sk-item\"><div class=\"sk-label-container\"><div class=\"sk-label fitted sk-toggleable\"><label>catboost</label></div></div><div class=\"sk-serial\"><div class=\"sk-item\"><div class=\"sk-estimator fitted sk-toggleable\"><input class=\"sk-toggleable__control sk-hidden--visually\" id=\"sk-estimator-id-8\" type=\"checkbox\" ><label for=\"sk-estimator-id-8\" class=\"sk-toggleable__label fitted sk-toggleable__label-arrow fitted\">CatBoostClassifier</label><div class=\"sk-toggleable__content fitted\"><pre>&lt;catboost.core.CatBoostClassifier object at 0x000002275EF23BD0&gt;</pre></div> </div></div></div></div></div><div class=\"sk-parallel-item\"><div class=\"sk-item\"><div class=\"sk-label-container\"><div class=\"sk-label fitted sk-toggleable\"><label>xgboost</label></div></div><div class=\"sk-serial\"><div class=\"sk-item\"><div class=\"sk-estimator fitted sk-toggleable\"><input class=\"sk-toggleable__control sk-hidden--visually\" id=\"sk-estimator-id-9\" type=\"checkbox\" ><label for=\"sk-estimator-id-9\" class=\"sk-toggleable__label fitted sk-toggleable__label-arrow fitted\">XGBClassifier</label><div class=\"sk-toggleable__content fitted\"><pre>XGBClassifier(base_score=None, booster=None, callbacks=None,\n",
       "              colsample_bylevel=None, colsample_bynode=None,\n",
       "              colsample_bytree=0.9672455205640248, device=None,\n",
       "              early_stopping_rounds=None, enable_categorical=False,\n",
       "              eval_metric=&#x27;logloss&#x27;, feature_types=None, gamma=None,\n",
       "              grow_policy=None, importance_type=None,\n",
       "              interaction_constraints=None, learning_rate=0.012612357316550681,\n",
       "              max_bin=None, max_cat_threshold=None, max_cat_to_onehot=None,\n",
       "              max_delta_step=None, max_depth=5, max_leaves=None,\n",
       "              min_child_weight=None, missing=nan, monotone_constraints=None,\n",
       "              multi_strategy=None, n_estimators=572, n_jobs=None,\n",
       "              num_parallel_tree=None, random_state=42, ...)</pre></div> </div></div></div></div></div></div></div></div></div>"
      ],
      "text/plain": [
       "VotingClassifier(estimators=[('catboost',\n",
       "                              <catboost.core.CatBoostClassifier object at 0x000002275EF23BD0>),\n",
       "                             ('xgboost',\n",
       "                              XGBClassifier(base_score=None, booster=None,\n",
       "                                            callbacks=None,\n",
       "                                            colsample_bylevel=None,\n",
       "                                            colsample_bynode=None,\n",
       "                                            colsample_bytree=0.9672455205640248,\n",
       "                                            device=None,\n",
       "                                            early_stopping_rounds=None,\n",
       "                                            enable_categorical=False,\n",
       "                                            eval_metric='logloss',\n",
       "                                            feature_typ...\n",
       "                                            importance_type=None,\n",
       "                                            interaction_constraints=None,\n",
       "                                            learning_rate=0.012612357316550681,\n",
       "                                            max_bin=None,\n",
       "                                            max_cat_threshold=None,\n",
       "                                            max_cat_to_onehot=None,\n",
       "                                            max_delta_step=None, max_depth=5,\n",
       "                                            max_leaves=None,\n",
       "                                            min_child_weight=None, missing=nan,\n",
       "                                            monotone_constraints=None,\n",
       "                                            multi_strategy=None,\n",
       "                                            n_estimators=572, n_jobs=None,\n",
       "                                            num_parallel_tree=None,\n",
       "                                            random_state=42, ...))],\n",
       "                 voting='soft')"
      ]
     },
     "execution_count": 76,
     "metadata": {},
     "output_type": "execute_result"
    }
   ],
   "source": [
    "from catboost import CatBoostClassifier\n",
    "from xgboost import XGBClassifier\n",
    "from sklearn.ensemble import RandomForestClassifier,VotingClassifier\n",
    "\n",
    "# randomforest_model = RandomForestClassifier(random_state=42)\n",
    "\n",
    "voting_clf = VotingClassifier(\n",
    "    estimators=[\n",
    "        ('catboost', best_catboost_model),\n",
    "        ('xgboost', best_xgboost_model)\n",
    "    #     ('randomforest', randomforest_model)  # 기존 RandomForest 모델\n",
    "    # ],\n",
    "    ],\n",
    "    voting='soft'\n",
    ")\n",
    "\n",
    "# 앙상블 모델 학습\n",
    "voting_clf.fit(train_x_shap, train_y_encoded_down)\n"
   ]
  },
  {
   "cell_type": "code",
   "execution_count": 77,
   "metadata": {},
   "outputs": [],
   "source": [
    "# 예측\n",
    "predictions = voting_clf.predict(test_x_shap)\n",
    "predictions_label = le_subclass.inverse_transform(predictions)"
   ]
  },
  {
   "cell_type": "markdown",
   "metadata": {},
   "source": [
    "# Submission"
   ]
  },
  {
   "cell_type": "code",
   "execution_count": 78,
   "metadata": {},
   "outputs": [
    {
     "data": {
      "text/html": [
       "<div>\n",
       "<style scoped>\n",
       "    .dataframe tbody tr th:only-of-type {\n",
       "        vertical-align: middle;\n",
       "    }\n",
       "\n",
       "    .dataframe tbody tr th {\n",
       "        vertical-align: top;\n",
       "    }\n",
       "\n",
       "    .dataframe thead th {\n",
       "        text-align: right;\n",
       "    }\n",
       "</style>\n",
       "<table border=\"1\" class=\"dataframe\">\n",
       "  <thead>\n",
       "    <tr style=\"text-align: right;\">\n",
       "      <th></th>\n",
       "      <th>ID</th>\n",
       "      <th>Fraud_Type</th>\n",
       "    </tr>\n",
       "  </thead>\n",
       "  <tbody>\n",
       "    <tr>\n",
       "      <th>0</th>\n",
       "      <td>TEST_000000</td>\n",
       "      <td>b</td>\n",
       "    </tr>\n",
       "    <tr>\n",
       "      <th>1</th>\n",
       "      <td>TEST_000001</td>\n",
       "      <td>m</td>\n",
       "    </tr>\n",
       "    <tr>\n",
       "      <th>2</th>\n",
       "      <td>TEST_000002</td>\n",
       "      <td>m</td>\n",
       "    </tr>\n",
       "    <tr>\n",
       "      <th>3</th>\n",
       "      <td>TEST_000003</td>\n",
       "      <td>m</td>\n",
       "    </tr>\n",
       "    <tr>\n",
       "      <th>4</th>\n",
       "      <td>TEST_000004</td>\n",
       "      <td>h</td>\n",
       "    </tr>\n",
       "  </tbody>\n",
       "</table>\n",
       "</div>"
      ],
      "text/plain": [
       "            ID Fraud_Type\n",
       "0  TEST_000000          b\n",
       "1  TEST_000001          m\n",
       "2  TEST_000002          m\n",
       "3  TEST_000003          m\n",
       "4  TEST_000004          h"
      ]
     },
     "execution_count": 78,
     "metadata": {},
     "output_type": "execute_result"
    }
   ],
   "source": [
    "# 분류 예측 결과 제출 데이터프레임(DataFrame)\n",
    "# 분류 예측 결과 데이터프레임 파일명을 반드시 clf_submission.csv 로 지정해야합니다.\n",
    "clf_submission = pd.read_csv(\"sample_submission.csv\")\n",
    "clf_submission[\"Fraud_Type\"] = predictions_label\n",
    "clf_submission.head()"
   ]
  },
  {
   "cell_type": "code",
   "execution_count": 79,
   "metadata": {},
   "outputs": [],
   "source": [
    "# 합성 데이터 생성 결과 제출 데이터프레임(DataFrame)\n",
    "# 합성 데이터 생성 결과 데이터프레임 파일명을 반드시 syn_submission.csv 로 지정해야합니다.\n",
    "# all_synthetic_data.head()"
   ]
  },
  {
   "cell_type": "code",
   "execution_count": 80,
   "metadata": {},
   "outputs": [
    {
     "name": "stdout",
     "output_type": "stream",
     "text": [
      "Done.\n"
     ]
    }
   ],
   "source": [
    "'''\n",
    "(*) 저장 시 각 파일명을 반드시 확인해주세요.\n",
    "    1. 분류 예측 결과 데이터프레임 파일명 = clf_submission.csv\n",
    "    2. 합성 데이터 생성 결과 데이터프레임 파일명 = syn_submission.csv\n",
    "\n",
    "(*) 제출 파일(zip) 내에 두 개의 데이터프레임이 각각 위의 파일명으로 반드시 존재해야합니다.\n",
    "(*) 파일명을 일치시키지 않으면 채점이 불가능합니다.\n",
    "'''\n",
    "from datetime import datetime\n",
    "today_datetime = datetime.today().strftime('%y%m%d_%H%M')\n",
    "os.chdir('G:/내 드라이브/DACON_proj/DACON/2024_FSI_AIxData_Challenge')\n",
    "# 폴더 생성 및 작업 디렉토리 변경\n",
    "os.makedirs('./submission', exist_ok=True)\n",
    "os.chdir('./submission')\n",
    "\n",
    "# CSV 파일로 저장\n",
    "clf_submission.to_csv('./clf_submission.csv', encoding='UTF-8-sig', index=False)\n",
    "# all_synthetic_data.to_csv('./syn_submission.csv', encoding='UTF-8-sig', index=False)\n",
    "\n",
    "# ZIP 파일 생성 및 CSV 파일 추가\n",
    "with zipfile.ZipFile(f'submission_{today_datetime}.zip', 'w') as submission:\n",
    "    submission.write('clf_submission.csv')\n",
    "    submission.write('syn_submission.csv')\n",
    "    \n",
    "print('Done.')\n",
    "os.chdir('G:/내 드라이브/DACON_proj/DACON/2024_FSI_AIxData_Challenge')"
   ]
  },
  {
   "cell_type": "code",
   "execution_count": 81,
   "metadata": {},
   "outputs": [],
   "source": [
    "import winsound\n",
    "\n",
    "# 주파수와 지속시간 설정 (주파수 단위: Hertz, 지속시간 단위: 밀리초)\n",
    "frequency = 1000  # 주파수 (Hertz)\n",
    "duration = 300    # 지속시간 (Milliseconds)\n",
    "\n",
    "# 소리 재생\n",
    "winsound.Beep(frequency, duration)"
   ]
  },
  {
   "cell_type": "code",
   "execution_count": null,
   "metadata": {},
   "outputs": [],
   "source": []
  }
 ],
 "metadata": {
  "kernelspec": {
   "display_name": "base",
   "language": "python",
   "name": "python3"
  },
  "language_info": {
   "codemirror_mode": {
    "name": "ipython",
    "version": 3
   },
   "file_extension": ".py",
   "mimetype": "text/x-python",
   "name": "python",
   "nbconvert_exporter": "python",
   "pygments_lexer": "ipython3",
   "version": "3.11.5"
  }
 },
 "nbformat": 4,
 "nbformat_minor": 4
}
